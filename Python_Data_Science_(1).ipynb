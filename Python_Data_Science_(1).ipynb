{
  "nbformat": 4,
  "nbformat_minor": 0,
  "metadata": {
    "colab": {
      "provenance": [],
      "include_colab_link": true
    },
    "kernelspec": {
      "name": "python3",
      "display_name": "Python 3"
    },
    "language_info": {
      "name": "python"
    }
  },
  "cells": [
    {
      "cell_type": "markdown",
      "metadata": {
        "id": "view-in-github",
        "colab_type": "text"
      },
      "source": [
        "<a href=\"https://colab.research.google.com/github/lespmo/data_Science_uno_primeros_pasos/blob/main/Python_Data_Science_(1).ipynb\" target=\"_parent\"><img src=\"https://colab.research.google.com/assets/colab-badge.svg\" alt=\"Open In Colab\"/></a>"
      ]
    },
    {
      "cell_type": "markdown",
      "source": [
        "# Python para Data Science\n",
        "\n",
        "Notebook para el curso de Python para Data Science publicado en la plataforma de [Alura Latam](https://www.aluracursos.com/)"
      ],
      "metadata": {
        "id": "lQx6Mmv0OJyT"
      }
    },
    {
      "cell_type": "code",
      "source": [
        "print (\"mi primera linea de codigo en python\")"
      ],
      "metadata": {
        "colab": {
          "base_uri": "https://localhost:8080/"
        },
        "id": "U1O95VgRpokK",
        "outputId": "bf243d50-3df9-4152-c92b-8e8670ec29e6"
      },
      "execution_count": null,
      "outputs": [
        {
          "output_type": "stream",
          "name": "stdout",
          "text": [
            "mi primera linea de codigo en python\n"
          ]
        }
      ]
    },
    {
      "cell_type": "markdown",
      "source": [
        "# Introducción a Python\n",
        "¡Vamos a conocer Python, nuestro ambiente de estudio, y también generaremos nuestro primer código en este lenguaje!"
      ],
      "metadata": {
        "id": "7SiB6JIpYKmY"
      }
    },
    {
      "cell_type": "markdown",
      "source": [
        "mi primer texto en notebbok de Colab"
      ],
      "metadata": {
        "id": "hX2GsPzCpvKr"
      }
    },
    {
      "cell_type": "markdown",
      "source": [
        "## Google Colaboratory\n",
        "\n",
        "Ya aprendimos qué es [Python](https://www.python.org/) y ahora aprenderemos a usar nuestra herramienta de ejecución [Google Colaboratory](https://colab.research.google.com/) para programar en un notebook interactivo.\n",
        "\n",
        "Vamos a probar algunas funciones de este ambiente."
      ],
      "metadata": {
        "id": "Yugfb3fCOYY9"
      }
    },
    {
      "cell_type": "markdown",
      "source": [
        " **`>>> Usa esta celda para mover <<<`**"
      ],
      "metadata": {
        "id": "2iUHQsJasJAk"
      }
    },
    {
      "cell_type": "code",
      "source": [],
      "metadata": {
        "id": "o7jrX_iKhdkU"
      },
      "execution_count": null,
      "outputs": []
    },
    {
      "cell_type": "markdown",
      "source": [
        "## ¡Hola mundo!\n",
        "\n",
        "Vamos a conocer un poco más de cerca nuestro notebook. Para ello ejecutaremos nuestro primer comando en Python: [`print()`](https://docs.python.org/3/library/functions.html#print)"
      ],
      "metadata": {
        "id": "aLSFP2V7XTfe"
      }
    },
    {
      "cell_type": "code",
      "source": [
        "print(\"¡Hola mundoillo LEEM!\")"
      ],
      "metadata": {
        "id": "0qZX8_ZQBYyk",
        "colab": {
          "base_uri": "https://localhost:8080/"
        },
        "outputId": "df611af8-51c0-4ada-9dd8-06810a8482ba"
      },
      "execution_count": null,
      "outputs": [
        {
          "output_type": "stream",
          "name": "stdout",
          "text": [
            "¡Hola mundoillo LEEM!\n"
          ]
        }
      ]
    },
    {
      "cell_type": "code",
      "source": [
        "print('hola mundo print con comilla sencilla')"
      ],
      "metadata": {
        "id": "GLMzF_AKBY7a",
        "colab": {
          "base_uri": "https://localhost:8080/"
        },
        "outputId": "8b6668fd-e363-483e-ff41-cc2ee3e8c358"
      },
      "execution_count": null,
      "outputs": [
        {
          "output_type": "stream",
          "name": "stdout",
          "text": [
            "hola mundo print con comilla sencilla\n"
          ]
        }
      ]
    },
    {
      "cell_type": "code",
      "source": [
        "20"
      ],
      "metadata": {
        "colab": {
          "base_uri": "https://localhost:8080/"
        },
        "id": "xu2Q7Z5uvNyO",
        "outputId": "a057a205-48bb-47d2-c03e-0cddac11f599"
      },
      "execution_count": null,
      "outputs": [
        {
          "output_type": "execute_result",
          "data": {
            "text/plain": [
              "20"
            ]
          },
          "metadata": {},
          "execution_count": 4
        }
      ]
    },
    {
      "cell_type": "code",
      "source": [
        "print('mi nombre es Eduardo estoy estudiando en alura cincia de datos')"
      ],
      "metadata": {
        "colab": {
          "base_uri": "https://localhost:8080/"
        },
        "id": "PldErMJfv3h9",
        "outputId": "1f54e937-4528-4f8a-f636-669e3f9af320"
      },
      "execution_count": null,
      "outputs": [
        {
          "output_type": "stream",
          "name": "stdout",
          "text": [
            "mi nombre es Eduardo estoy estudiando en alura cincia de datos\n"
          ]
        }
      ]
    },
    {
      "cell_type": "code",
      "source": [
        "print ('escuela de datos de alura LEEM')"
      ],
      "metadata": {
        "colab": {
          "base_uri": "https://localhost:8080/"
        },
        "id": "KafdaCiYwmPK",
        "outputId": "2ce5c09c-d960-42e8-8844-54740a3e10a0"
      },
      "execution_count": null,
      "outputs": [
        {
          "output_type": "stream",
          "name": "stdout",
          "text": [
            "escuela de datos de alura LEEM\n"
          ]
        }
      ]
    },
    {
      "cell_type": "code",
      "source": [
        "print('Nombre: ')\n",
        "print('Apellido: ')"
      ],
      "metadata": {
        "colab": {
          "base_uri": "https://localhost:8080/"
        },
        "id": "_nh4sxA3-ovO",
        "outputId": "77c17827-5201-4cb7-cb6d-8f7ab459bc89"
      },
      "execution_count": null,
      "outputs": [
        {
          "output_type": "stream",
          "name": "stdout",
          "text": [
            "Nombre: \n",
            "Apellido: \n"
          ]
        }
      ]
    },
    {
      "cell_type": "code",
      "source": [
        "print('E')\n",
        "print('D')\n",
        "print('U')\n",
        "print('A')\n",
        "print('R')\n",
        "print('D')\n",
        "print('O')"
      ],
      "metadata": {
        "colab": {
          "base_uri": "https://localhost:8080/"
        },
        "id": "Uw9y6S-e_FKg",
        "outputId": "91bd4e3c-14dc-439b-92c7-b181f9a9f083"
      },
      "execution_count": null,
      "outputs": [
        {
          "output_type": "stream",
          "name": "stdout",
          "text": [
            "E\n",
            "D\n",
            "U\n",
            "A\n",
            "R\n",
            "D\n",
            "O\n"
          ]
        }
      ]
    },
    {
      "cell_type": "code",
      "source": [
        "print('Fecha :', 28 , 'marzo de ', 2025)"
      ],
      "metadata": {
        "colab": {
          "base_uri": "https://localhost:8080/"
        },
        "id": "ZqAEK1Aq_ZBF",
        "outputId": "fe053809-c9e3-494d-c92b-eed5cc8a0ef6"
      },
      "execution_count": null,
      "outputs": [
        {
          "output_type": "stream",
          "name": "stdout",
          "text": [
            "Fecha : 28 marzo de  2025\n"
          ]
        }
      ]
    },
    {
      "cell_type": "code",
      "source": [
        "print('año actual :', 2025)"
      ],
      "metadata": {
        "colab": {
          "base_uri": "https://localhost:8080/"
        },
        "id": "T6pgYioZ_W-W",
        "outputId": "a24368be-eb35-4c4a-8a6c-dd831beb3372"
      },
      "execution_count": null,
      "outputs": [
        {
          "output_type": "stream",
          "name": "stdout",
          "text": [
            "año actual : 2025\n"
          ]
        }
      ]
    },
    {
      "cell_type": "code",
      "source": [],
      "metadata": {
        "id": "kSZz_mSYDteI"
      },
      "execution_count": null,
      "outputs": []
    },
    {
      "cell_type": "markdown",
      "source": [
        "# Manipulando los datos\n",
        "\n",
        "Vamos a aprender sobre las variables en Python, cómo declararlas y utilizarlas además de conocer otros comandos de este lenguaje. :D"
      ],
      "metadata": {
        "id": "iP8uWQmFYFRs"
      }
    },
    {
      "cell_type": "markdown",
      "source": [
        "## Variables\n",
        "\n",
        "En Data Science trabajamos con varios tipos de datos e informaciones, entonces es esencial saber cómo trabajar con las variables."
      ],
      "metadata": {
        "id": "sLNVmnTbag1Z"
      }
    },
    {
      "cell_type": "markdown",
      "source": [
        "Las variables en Python se crean cuando atribuimos un valor a ella.\n",
        "\n",
        "Para esto, colocamos el nombre de la variable, el signo de igual (`=`) y el valor que queremos atribuirle."
      ],
      "metadata": {
        "id": "lsCY0wahAbf6"
      }
    },
    {
      "cell_type": "code",
      "source": [
        "7"
      ],
      "metadata": {
        "id": "vsHh5buZADND",
        "colab": {
          "base_uri": "https://localhost:8080/"
        },
        "outputId": "9da25a33-a26f-414a-b3a7-66a918b5fd74"
      },
      "execution_count": null,
      "outputs": [
        {
          "output_type": "execute_result",
          "data": {
            "text/plain": [
              "7"
            ]
          },
          "metadata": {},
          "execution_count": 1
        }
      ]
    },
    {
      "cell_type": "code",
      "source": [
        "id(7)"
      ],
      "metadata": {
        "id": "sivPtqSjADQV",
        "colab": {
          "base_uri": "https://localhost:8080/"
        },
        "outputId": "44c1dfeb-77bf-4aff-c674-ade6ddb2d4b4"
      },
      "execution_count": null,
      "outputs": [
        {
          "output_type": "execute_result",
          "data": {
            "text/plain": [
              "10751048"
            ]
          },
          "metadata": {},
          "execution_count": 2
        }
      ]
    },
    {
      "cell_type": "code",
      "source": [],
      "metadata": {
        "id": "JC8jO47wADlm"
      },
      "execution_count": null,
      "outputs": []
    },
    {
      "cell_type": "code",
      "source": [],
      "metadata": {
        "id": "oPcO1pwA5-ux"
      },
      "execution_count": null,
      "outputs": []
    },
    {
      "cell_type": "markdown",
      "source": [
        "Existen algunos tipos de nomes que **no** podemos definir para las variables:\n",
        "\n",
        "- **Nombres que comiencen con números**\n",
        "  - Ejemplos: `10_notas`, `2_nombre_casa`, etc.\n",
        "- **Palabras separadas por espacio**\n",
        "  - Ejemplos: `Nombre escuela`, `notas estudiantes`, etc.\n",
        "- **Nombres de funciones de Python**\n",
        "  - Ejemplos: `print`, `type`, etc."
      ],
      "metadata": {
        "id": "om2N0jHKAzwL"
      }
    },
    {
      "cell_type": "markdown",
      "source": [
        "> Las letras mayúsculas y minúsculas generarán diferentes variables. La variable `edad` es diferente de `Edad` que a su vez es diferente de `EDAD`:\n",
        "``` Python\n",
        "edad = 1\n",
        "Edad = 2\n",
        "EDAD = 3\n",
        "_edad = 4\n",
        "_edad_ = 5\n",
        "print(edad, Edad, EDAD, _edad, _edad_)\n",
        "1 2 3 4 5\n",
        "```"
      ],
      "metadata": {
        "id": "A19vY2GVMujB"
      }
    },
    {
      "cell_type": "code",
      "source": [
        "edad=15\n",
        "Edad = 25\n",
        "EDAD = 35\n",
        "_edad = 45\n",
        "_edad_ = 55\n",
        "_Edad_ = 7\n",
        "print(edad, Edad, EDAD, _edad, _edad_, _Edad_)"
      ],
      "metadata": {
        "colab": {
          "base_uri": "https://localhost:8080/"
        },
        "id": "-ouPfKqE6Vx2",
        "outputId": "91eabc9e-7753-4d2a-8c4d-24472be8da1a"
      },
      "execution_count": null,
      "outputs": [
        {
          "output_type": "stream",
          "name": "stdout",
          "text": [
            "15 25 35 45 55 7\n"
          ]
        }
      ]
    },
    {
      "cell_type": "code",
      "source": [
        "id(edad)"
      ],
      "metadata": {
        "colab": {
          "base_uri": "https://localhost:8080/"
        },
        "id": "7iyF8foR6V2E",
        "outputId": "c5bb01a9-f804-4248-e2ba-ae63e60417bb"
      },
      "execution_count": null,
      "outputs": [
        {
          "output_type": "execute_result",
          "data": {
            "text/plain": [
              "10751304"
            ]
          },
          "metadata": {},
          "execution_count": 8
        }
      ]
    },
    {
      "cell_type": "code",
      "source": [
        "id(Edad)\n"
      ],
      "metadata": {
        "colab": {
          "base_uri": "https://localhost:8080/"
        },
        "id": "3ehtIjIL9z3A",
        "outputId": "aa869358-7970-4aa4-be10-7be936c7c3ab"
      },
      "execution_count": null,
      "outputs": [
        {
          "output_type": "execute_result",
          "data": {
            "text/plain": [
              "10751624"
            ]
          },
          "metadata": {},
          "execution_count": 9
        }
      ]
    },
    {
      "cell_type": "code",
      "source": [
        "id(EDAD)\n"
      ],
      "metadata": {
        "colab": {
          "base_uri": "https://localhost:8080/"
        },
        "id": "rmTMCbIO96DH",
        "outputId": "be70969c-5d1b-4c4f-af4d-7abec500ef01"
      },
      "execution_count": null,
      "outputs": [
        {
          "output_type": "execute_result",
          "data": {
            "text/plain": [
              "10751944"
            ]
          },
          "metadata": {},
          "execution_count": 10
        }
      ]
    },
    {
      "cell_type": "code",
      "source": [
        "id(_edad)\n"
      ],
      "metadata": {
        "colab": {
          "base_uri": "https://localhost:8080/"
        },
        "id": "pyRW7qoX991F",
        "outputId": "20f07277-14d1-4c20-d16c-42d78002eb55"
      },
      "execution_count": null,
      "outputs": [
        {
          "output_type": "execute_result",
          "data": {
            "text/plain": [
              "10752264"
            ]
          },
          "metadata": {},
          "execution_count": 12
        }
      ]
    },
    {
      "cell_type": "code",
      "source": [
        "id(_edad_)"
      ],
      "metadata": {
        "colab": {
          "base_uri": "https://localhost:8080/"
        },
        "id": "Ro7tkmMx-DL8",
        "outputId": "5b0d2f96-4a5f-4153-8399-5ad35ffb803c"
      },
      "execution_count": null,
      "outputs": [
        {
          "output_type": "execute_result",
          "data": {
            "text/plain": [
              "10752584"
            ]
          },
          "metadata": {},
          "execution_count": 14
        }
      ]
    },
    {
      "cell_type": "code",
      "source": [
        "id (_Edad_)"
      ],
      "metadata": {
        "colab": {
          "base_uri": "https://localhost:8080/"
        },
        "id": "-NATlIiC-Gp4",
        "outputId": "b26e0bf1-df4e-4db7-abce-f0d19bdca40c"
      },
      "execution_count": null,
      "outputs": [
        {
          "output_type": "execute_result",
          "data": {
            "text/plain": [
              "10751048"
            ]
          },
          "metadata": {},
          "execution_count": 13
        }
      ]
    },
    {
      "cell_type": "code",
      "source": [
        "id (7)"
      ],
      "metadata": {
        "colab": {
          "base_uri": "https://localhost:8080/"
        },
        "id": "s6_et_Tj-kCV",
        "outputId": "3215c199-fe0c-421e-931c-4c7d375ee931"
      },
      "execution_count": null,
      "outputs": [
        {
          "output_type": "execute_result",
          "data": {
            "text/plain": [
              "10751048"
            ]
          },
          "metadata": {},
          "execution_count": 15
        }
      ]
    },
    {
      "cell_type": "code",
      "source": [
        "numerosiete = 7"
      ],
      "metadata": {
        "id": "r6D3c6TO_Xrc"
      },
      "execution_count": null,
      "outputs": []
    },
    {
      "cell_type": "code",
      "source": [
        "print(id(_Edad_), id(7), id(numerosiete))"
      ],
      "metadata": {
        "colab": {
          "base_uri": "https://localhost:8080/"
        },
        "id": "3GAxK7tB-xRk",
        "outputId": "6412066b-2b64-4997-ef1c-185c04114967"
      },
      "execution_count": null,
      "outputs": [
        {
          "output_type": "stream",
          "name": "stdout",
          "text": [
            "10751048 10751048 10751048\n"
          ]
        }
      ]
    },
    {
      "cell_type": "code",
      "source": [
        "nombre_alumno = 'Sandra'\n",
        "print (nombre_alumno)\n",
        "print (id(nombre_alumno))\n",
        "print (id('Sandra'))"
      ],
      "metadata": {
        "colab": {
          "base_uri": "https://localhost:8080/"
        },
        "id": "YM1YTdRMAOsA",
        "outputId": "4dad4a57-8e19-490d-a11d-8bc73d335434"
      },
      "execution_count": null,
      "outputs": [
        {
          "output_type": "stream",
          "name": "stdout",
          "text": [
            "Sandra\n",
            "136781188689456\n",
            "136781188689456\n"
          ]
        }
      ]
    },
    {
      "cell_type": "markdown",
      "source": [
        "## Tipos de variables\n",
        "\n",
        "Cada variable contiene una clase específica con respecto al tipo de objeto al cual esta hace referencia. Estas clases serán diferentes de acuerdo con el tipo de dato que le sea atribuido a una variable.\n",
        "\n",
        "Para conocer la clase de cada elemento usamos la función [`type()`](https://docs.python.org/3/library/functions.html#type)"
      ],
      "metadata": {
        "id": "UqhzuBhBHsps"
      }
    },
    {
      "cell_type": "code",
      "source": [
        "# Este es un comentario de una línea\n",
        "print(10) # Podemos colocar otro comentario en una línea después de un código"
      ],
      "metadata": {
        "colab": {
          "base_uri": "https://localhost:8080/"
        },
        "id": "6sG4OHoC6Sb5",
        "outputId": "cf593218-fa35-4279-e57c-d8b400f42f23"
      },
      "execution_count": null,
      "outputs": [
        {
          "output_type": "stream",
          "name": "stdout",
          "text": [
            "10\n"
          ]
        }
      ]
    },
    {
      "cell_type": "code",
      "source": [
        "'''\n",
        "Este es un comentario\n",
        "de varias líneas.\n",
        "'''\n",
        "\n",
        "\n",
        "\"\"\"\n",
        "Este es un comentario\n",
        "de varias líneas.\n",
        "\"\"\"\n",
        "print(nombre_alumno)\n",
        "\n"
      ],
      "metadata": {
        "id": "J5a9t73A_-PX",
        "colab": {
          "base_uri": "https://localhost:8080/"
        },
        "outputId": "4b4855ed-30a2-43d1-efde-aa63d836b09a"
      },
      "execution_count": null,
      "outputs": [
        {
          "output_type": "stream",
          "name": "stdout",
          "text": [
            "Sandra\n"
          ]
        }
      ]
    },
    {
      "cell_type": "markdown",
      "source": [
        "# Encabezado de nivel 1\n",
        "## Encabezado de nivel 2\n",
        "### Encabezado de nivel 3"
      ],
      "metadata": {
        "id": "T1tV8NrlEs8W"
      }
    },
    {
      "cell_type": "code",
      "source": [],
      "metadata": {
        "id": "rqmO1ew-_-So"
      },
      "execution_count": null,
      "outputs": []
    },
    {
      "cell_type": "markdown",
      "source": [
        "**Texto en negritas**"
      ],
      "metadata": {
        "id": "DFeOLFNZFKL_"
      }
    },
    {
      "cell_type": "markdown",
      "source": [
        "\n",
        "\n",
        "1.   Elemento de lista\n",
        "2.   Elemento de lista\n",
        "\n"
      ],
      "metadata": {
        "id": "IQ9hHjI_Eskl"
      }
    },
    {
      "cell_type": "code",
      "source": [],
      "metadata": {
        "id": "xkrPMkeY_-cP"
      },
      "execution_count": null,
      "outputs": []
    },
    {
      "cell_type": "markdown",
      "source": [
        "*Texto en cursiva*"
      ],
      "metadata": {
        "id": "oYbkLjKRFWf1"
      }
    },
    {
      "cell_type": "markdown",
      "source": [
        "En un conjunto de datos escolares podemos tener varios tipos de informaciones. Supongamos que tenemos acceso a la ficha de datos del alumno *Penélope Camacho*, cómo transformamos este nombre en variables de Python?\n",
        "\n",
        "#### Ficha:\n",
        "\n",
        "- Nombre: Penélope Camacho\n",
        "- Edad: 11 años\n",
        "- Promedio del semestre: 9,75\n",
        "- Situación de aprobación: Verdadera (aprobado)"
      ],
      "metadata": {
        "id": "O-FxDumfWu0C"
      }
    },
    {
      "cell_type": "markdown",
      "source": [
        "* Elemento 1\n",
        "* Elemento 2\n",
        "* Elemento 3"
      ],
      "metadata": {
        "id": "z3oqUzVYFrrS"
      }
    },
    {
      "cell_type": "markdown",
      "source": [
        "1. Elemento 1\n",
        "2. Elemento 2\n",
        "3. Elemento 3"
      ],
      "metadata": {
        "id": "-78wJ6VkFxK0"
      }
    },
    {
      "cell_type": "markdown",
      "source": [
        "[Página de Alura](https://www.aluracursos.com/)"
      ],
      "metadata": {
        "id": "1yoFPgNRF8M0"
      }
    },
    {
      "cell_type": "code",
      "source": [
        "Nombre_Estudiante = 'Penélope Camacho'\n",
        "Edad_Estudiante = 11\n",
        "Promedio_Estudiante = 9.75\n",
        "Aprobado_Estudiante = True\n",
        "\n",
        "print(Nombre_Estudiante)\n",
        "print(Edad_Estudiante)\n",
        "print(Promedio_Estudiante)\n",
        "print(Aprobado_Estudiante)"
      ],
      "metadata": {
        "id": "FabQ7jQf_8Xt",
        "colab": {
          "base_uri": "https://localhost:8080/"
        },
        "outputId": "8d6563e6-b351-46fc-a4d3-4212fcda5d5b"
      },
      "execution_count": null,
      "outputs": [
        {
          "output_type": "stream",
          "name": "stdout",
          "text": [
            "Penélope Camacho\n",
            "11\n",
            "9.75\n",
            "True\n"
          ]
        }
      ]
    },
    {
      "cell_type": "code",
      "source": [
        "print(type(Nombre_Estudiante))\n",
        "print(type(Edad_Estudiante))\n",
        "print(type(Promedio_Estudiante))\n",
        "print(type(Aprobado_Estudiante))"
      ],
      "metadata": {
        "id": "IZLQnZUj_8bd",
        "colab": {
          "base_uri": "https://localhost:8080/"
        },
        "outputId": "35e74590-b955-49d5-cb54-e70f6ede55cd"
      },
      "execution_count": null,
      "outputs": [
        {
          "output_type": "stream",
          "name": "stdout",
          "text": [
            "<class 'str'>\n",
            "<class 'int'>\n",
            "<class 'float'>\n",
            "<class 'bool'>\n"
          ]
        }
      ]
    },
    {
      "cell_type": "markdown",
      "source": [
        "## Variables numéricas\n",
        "\n",
        "Entre los tipos de datos numéricos vamos a enfocarnos en los tipos `entero` y `float`."
      ],
      "metadata": {
        "id": "KFq_8Sxf-OG0"
      }
    },
    {
      "cell_type": "markdown",
      "source": [
        "Tenemos una tabla de información sobre los diversos cargos, cantidad de personas empleadas y el salario correspondiente:\n",
        "\n",
        "|Cargo | Cantidad | Salario|\n",
        "|---|---|---|\n",
        "|Vigilante | 5 | 300 |\n",
        "|Docente | 16| 500|\n",
        "|Coordinador| 2 |600|\n",
        "\n",
        "Necesitamos trabajar con estos datos para obtener:\n",
        "\n",
        "- La cantidad total de empleados;\n",
        "- La diferencia entre el salario más bajo y más alto; y\n",
        "- El promedio ponderado de los salarios de los empleados de la escuela."
      ],
      "metadata": {
        "id": "8_HYUbkVYdQY"
      }
    },
    {
      "cell_type": "code",
      "source": [
        "La_edad = 9\n",
        "promedio_materia = 4.7\n",
        "Nombre_trabajador = 'Jorge'\n",
        "Verdad= True\n"
      ],
      "metadata": {
        "id": "F_X-wxdm_5Ys"
      },
      "execution_count": null,
      "outputs": []
    },
    {
      "cell_type": "code",
      "source": [
        "type(La_edad)"
      ],
      "metadata": {
        "id": "fIugsxNy_53j",
        "colab": {
          "base_uri": "https://localhost:8080/"
        },
        "outputId": "c6ef504f-6cb0-424a-c338-82167c20a1e6"
      },
      "execution_count": null,
      "outputs": [
        {
          "output_type": "execute_result",
          "data": {
            "text/plain": [
              "int"
            ]
          },
          "metadata": {},
          "execution_count": 52
        }
      ]
    },
    {
      "cell_type": "code",
      "source": [
        "type(Nombre_trabajador)"
      ],
      "metadata": {
        "id": "gKmBbhII_5b9",
        "colab": {
          "base_uri": "https://localhost:8080/"
        },
        "outputId": "1b2309d2-1cb3-4b53-9447-bcf3da3803b9"
      },
      "execution_count": null,
      "outputs": [
        {
          "output_type": "execute_result",
          "data": {
            "text/plain": [
              "str"
            ]
          },
          "metadata": {},
          "execution_count": 51
        }
      ]
    },
    {
      "cell_type": "code",
      "source": [
        "type(Nombre_trabajador)"
      ],
      "metadata": {
        "colab": {
          "base_uri": "https://localhost:8080/"
        },
        "id": "KLHt9iEGNL-l",
        "outputId": "a250f9fd-817d-47f0-8bac-e2962c2b8230"
      },
      "execution_count": null,
      "outputs": [
        {
          "output_type": "execute_result",
          "data": {
            "text/plain": [
              "str"
            ]
          },
          "metadata": {},
          "execution_count": 53
        }
      ]
    },
    {
      "cell_type": "code",
      "source": [
        "type(Verdad)"
      ],
      "metadata": {
        "colab": {
          "base_uri": "https://localhost:8080/"
        },
        "id": "70pk0p0wOQWv",
        "outputId": "54e734cd-d05b-495f-e868-b739b7e8ae9a"
      },
      "execution_count": null,
      "outputs": [
        {
          "output_type": "execute_result",
          "data": {
            "text/plain": [
              "bool"
            ]
          },
          "metadata": {},
          "execution_count": 56
        }
      ]
    },
    {
      "cell_type": "code",
      "source": [
        "print (La_edad, promedio_materia, Nombre_trabajador, Verdad)"
      ],
      "metadata": {
        "colab": {
          "base_uri": "https://localhost:8080/"
        },
        "id": "vn8MH6XNKD-4",
        "outputId": "e5c60a24-1557-47e9-ca41-e3af2bd72a15"
      },
      "execution_count": null,
      "outputs": [
        {
          "output_type": "stream",
          "name": "stdout",
          "text": [
            "9 4.7 Jorge True\n"
          ]
        }
      ]
    },
    {
      "cell_type": "code",
      "source": [
        "vigilante_q = 5\n",
        "vigilante_s = 300\n",
        "docente_q = 16\n",
        "docente_s = 500\n",
        "coordinador_q = 2\n",
        "coordinador_s = 600"
      ],
      "metadata": {
        "id": "5uh1Tnw0Rk9u"
      },
      "execution_count": null,
      "outputs": []
    },
    {
      "cell_type": "code",
      "source": [
        "print ('Cargo | Cantidad | Salario')\n",
        "print ('Vigilante | 5 | 300')\n",
        "print ('Docente | 16| 500')\n",
        "print ('Coordinador| 2 |600')"
      ],
      "metadata": {
        "colab": {
          "base_uri": "https://localhost:8080/"
        },
        "id": "puqPoe1yS0NY",
        "outputId": "27b43f60-5ff7-41f3-ab12-80d55d60c576"
      },
      "execution_count": null,
      "outputs": [
        {
          "output_type": "stream",
          "name": "stdout",
          "text": [
            "Cargo | Cantidad | Salario\n",
            "Vigilante | 5 | 300\n",
            "Docente | 16| 500\n",
            "Coordinador| 2 |600\n"
          ]
        }
      ]
    },
    {
      "cell_type": "code",
      "source": [
        "print ('Cargo | Cantidad | Salario')\n",
        "print ('Vigilante |', vigilante_q, '|', vigilante_s)\n",
        "print ('Docente |', docente_q, '|', docente_s)\n",
        "print ('Coordinador|', coordinador_q, '|', coordinador_s)"
      ],
      "metadata": {
        "colab": {
          "base_uri": "https://localhost:8080/"
        },
        "id": "cF3eH5qgTi2D",
        "outputId": "09898abc-266e-4440-ed90-0fe22e2c9cb1"
      },
      "execution_count": null,
      "outputs": [
        {
          "output_type": "stream",
          "name": "stdout",
          "text": [
            "Cargo | Cantidad | Salario\n",
            "Vigilante | 5 | 300\n",
            "Docente | 16 | 500\n",
            "Coordinador| 2 | 600\n"
          ]
        }
      ]
    },
    {
      "cell_type": "code",
      "source": [
        "Empleados_total = vigilante_q + docente_q + coordinador_q\n",
        "print(Empleados_total)\n",
        "Empleados_total"
      ],
      "metadata": {
        "colab": {
          "base_uri": "https://localhost:8080/"
        },
        "id": "6rRlwWj8UEKR",
        "outputId": "798ee2bc-4110-4074-cb8f-a9fc00148b22"
      },
      "execution_count": null,
      "outputs": [
        {
          "output_type": "stream",
          "name": "stdout",
          "text": [
            "23\n"
          ]
        },
        {
          "output_type": "execute_result",
          "data": {
            "text/plain": [
              "23"
            ]
          },
          "metadata": {},
          "execution_count": 71
        }
      ]
    },
    {
      "cell_type": "code",
      "source": [
        "salarios_diferencia = coordinador_s - vigilante_s\n",
        "print(salarios_diferencia)\n",
        "salarios_diferencia"
      ],
      "metadata": {
        "colab": {
          "base_uri": "https://localhost:8080/"
        },
        "id": "M_fhXImkUXkx",
        "outputId": "507377b7-c1cd-4a7d-e517-5d10e45c79ca"
      },
      "execution_count": null,
      "outputs": [
        {
          "output_type": "stream",
          "name": "stdout",
          "text": [
            "300\n"
          ]
        },
        {
          "output_type": "execute_result",
          "data": {
            "text/plain": [
              "300"
            ]
          },
          "metadata": {},
          "execution_count": 72
        }
      ]
    },
    {
      "cell_type": "code",
      "source": [
        "salarios_promedio = (vigilante_s * vigilante_q + docente_s * docente_q + coordinador_s * coordinador_q) / (vigilante_q + docente_q + coordinador_q)\n",
        "print(salarios_promedio)\n",
        "salarios_promedio"
      ],
      "metadata": {
        "colab": {
          "base_uri": "https://localhost:8080/"
        },
        "id": "EsQq6cd7VkNH",
        "outputId": "2ccac479-b9f7-47d7-ccbe-b9f27e36cc97"
      },
      "execution_count": null,
      "outputs": [
        {
          "output_type": "stream",
          "name": "stdout",
          "text": [
            "465.2173913043478\n"
          ]
        },
        {
          "output_type": "execute_result",
          "data": {
            "text/plain": [
              "465.2173913043478"
            ]
          },
          "metadata": {},
          "execution_count": 73
        }
      ]
    },
    {
      "cell_type": "markdown",
      "source": [
        "## Strings"
      ],
      "metadata": {
        "id": "yQy7b0ZWoD-P"
      }
    },
    {
      "cell_type": "markdown",
      "source": [
        "Strings hace referencia a un conjunto de caracteres formando un texto.\n",
        "\n",
        "Podemos crear Strings cuando atribuimos un dato a una variable entre comillas sencillas (`'`) o comillas dobles (`\"`)."
      ],
      "metadata": {
        "id": "vlo2-DXusv3s"
      }
    },
    {
      "cell_type": "code",
      "source": [
        "Persona_texto = '   Micaela de los Sanyos  '\n",
        "print('Persona:', Persona_texto)\n",
        "Persona_texto"
      ],
      "metadata": {
        "id": "ityEWqvh_2wK",
        "colab": {
          "base_uri": "https://localhost:8080/",
          "height": 53
        },
        "outputId": "bdaf9364-e758-42a4-b194-96bdeeb93e35"
      },
      "execution_count": null,
      "outputs": [
        {
          "output_type": "stream",
          "name": "stdout",
          "text": [
            "Persona:    Micaela de los Sanyos  \n"
          ]
        },
        {
          "output_type": "execute_result",
          "data": {
            "text/plain": [
              "'   Micaela de los Sanyos  '"
            ],
            "application/vnd.google.colaboratory.intrinsic+json": {
              "type": "string"
            }
          },
          "metadata": {},
          "execution_count": 85
        }
      ]
    },
    {
      "cell_type": "code",
      "source": [
        "id(Persona_texto)"
      ],
      "metadata": {
        "colab": {
          "base_uri": "https://localhost:8080/"
        },
        "id": "Vpd1h6eFiUsB",
        "outputId": "84fded76-b047-4a77-8020-b7ac23d061a9"
      },
      "execution_count": null,
      "outputs": [
        {
          "output_type": "execute_result",
          "data": {
            "text/plain": [
              "136781000558032"
            ]
          },
          "metadata": {},
          "execution_count": 88
        }
      ]
    },
    {
      "cell_type": "markdown",
      "source": [
        "Las variables textuales son objetos que poseen métodos que nos ayudan a formatear strings. Los métodos los podemos ejecutar al definir un objeto de acuerdo con la siguiente estructura:\n",
        "\n",
        "```\n",
        "objeto.metodo()\n",
        "```\n",
        "\n",
        "Existen métodos que no necesitan los `()`, siempre es una buena práctica verificar la documentación para cada caso."
      ],
      "metadata": {
        "id": "2e9UD_CCxqz_"
      }
    },
    {
      "cell_type": "code",
      "source": [
        "Persona_texto.upper()"
      ],
      "metadata": {
        "colab": {
          "base_uri": "https://localhost:8080/",
          "height": 35
        },
        "id": "OyXOjn0yauTo",
        "outputId": "d19c47d5-6928-4571-9886-7a2db58d8e2f"
      },
      "execution_count": null,
      "outputs": [
        {
          "output_type": "execute_result",
          "data": {
            "text/plain": [
              "'   MICAELA DE LOS SANYOS  '"
            ],
            "application/vnd.google.colaboratory.intrinsic+json": {
              "type": "string"
            }
          },
          "metadata": {},
          "execution_count": 89
        }
      ]
    },
    {
      "cell_type": "code",
      "source": [
        "Persona_texto.lower()"
      ],
      "metadata": {
        "colab": {
          "base_uri": "https://localhost:8080/",
          "height": 35
        },
        "id": "mgRIuPxSa3k1",
        "outputId": "070c0f10-b5ed-4ab8-ff5e-f07ab123efb2"
      },
      "execution_count": null,
      "outputs": [
        {
          "output_type": "execute_result",
          "data": {
            "text/plain": [
              "'   micaela de los sanyos  '"
            ],
            "application/vnd.google.colaboratory.intrinsic+json": {
              "type": "string"
            }
          },
          "metadata": {},
          "execution_count": 90
        }
      ]
    },
    {
      "cell_type": "markdown",
      "source": [
        "---\n",
        "**Situación:**\n",
        "\n",
        "Recibimos una variable con el nombre de una profesora de la escuela para añadirla a los registros. Sin embargo, necesitamos darle un tratamiento a este texto antes de insertarlo al sistema."
      ],
      "metadata": {
        "id": "p6aPmMGP4tf9"
      }
    },
    {
      "cell_type": "code",
      "source": [
        "texto = '  Micaela de los Sanyos '"
      ],
      "metadata": {
        "id": "icDWtYTjBO0n"
      },
      "execution_count": null,
      "outputs": []
    },
    {
      "cell_type": "markdown",
      "source": [
        "El objetivo final es que el nombre aparezca de la siguiente forma:\n",
        "\n",
        "```\n",
        "'MICAELA DE LOS SANTOS'\n",
        "```"
      ],
      "metadata": {
        "id": "Dg2ZXSZOGzjC"
      }
    },
    {
      "cell_type": "markdown",
      "source": [
        "### [`str.upper()` ](https://docs.python.org/3/library/stdtypes.html#str.upper)\n",
        "Convierte una string a mayúsculas."
      ],
      "metadata": {
        "id": "iVTAD8q702eN"
      }
    },
    {
      "cell_type": "code",
      "source": [
        "Persona_texto.upper()"
      ],
      "metadata": {
        "id": "wMVshJrY_ZXh",
        "colab": {
          "base_uri": "https://localhost:8080/",
          "height": 35
        },
        "outputId": "7f789a17-67d4-4111-a47f-35d9f3e5239f"
      },
      "execution_count": null,
      "outputs": [
        {
          "output_type": "execute_result",
          "data": {
            "text/plain": [
              "'   MICAELA DE LOS SANYOS  '"
            ],
            "application/vnd.google.colaboratory.intrinsic+json": {
              "type": "string"
            }
          },
          "metadata": {},
          "execution_count": 91
        }
      ]
    },
    {
      "cell_type": "markdown",
      "source": [
        "### [`str.lower()`](https://docs.python.org/3/library/stdtypes.html#str.lower)\n",
        "Convierte una string a minúsculas."
      ],
      "metadata": {
        "id": "hbDSBtMV1TpG"
      }
    },
    {
      "cell_type": "code",
      "source": [
        "Persona_texto.lower()"
      ],
      "metadata": {
        "id": "px3yEeNH_YK4",
        "colab": {
          "base_uri": "https://localhost:8080/",
          "height": 35
        },
        "outputId": "1ed6eac6-7937-40c6-9d44-923ddbe174d6"
      },
      "execution_count": null,
      "outputs": [
        {
          "output_type": "execute_result",
          "data": {
            "text/plain": [
              "'micaela de los sanyos'"
            ],
            "application/vnd.google.colaboratory.intrinsic+json": {
              "type": "string"
            }
          },
          "metadata": {},
          "execution_count": 79
        }
      ]
    },
    {
      "cell_type": "code",
      "source": [
        "id(Persona_texto)"
      ],
      "metadata": {
        "colab": {
          "base_uri": "https://localhost:8080/"
        },
        "id": "sP2-bgIwbO86",
        "outputId": "f740d234-5ec4-4245-f7e0-b852d7bbb8e8"
      },
      "execution_count": null,
      "outputs": [
        {
          "output_type": "execute_result",
          "data": {
            "text/plain": [
              "136781000558032"
            ]
          },
          "metadata": {},
          "execution_count": 92
        }
      ]
    },
    {
      "cell_type": "markdown",
      "source": [
        "### [`str.strip()`](https://docs.python.org/3/library/stdtypes.html#str.strip)\n",
        "Elimina los espacios en blanco al inicio y al final de una string."
      ],
      "metadata": {
        "id": "kz47eWM11gii"
      }
    },
    {
      "cell_type": "code",
      "source": [
        "Persona_texto.strip()"
      ],
      "metadata": {
        "id": "76dLgNa4_XAe",
        "colab": {
          "base_uri": "https://localhost:8080/",
          "height": 35
        },
        "outputId": "15f8ae34-c053-419b-d93a-7799a9dd310d"
      },
      "execution_count": null,
      "outputs": [
        {
          "output_type": "execute_result",
          "data": {
            "text/plain": [
              "'Micaela de los Sanyos'"
            ],
            "application/vnd.google.colaboratory.intrinsic+json": {
              "type": "string"
            }
          },
          "metadata": {},
          "execution_count": 93
        }
      ]
    },
    {
      "cell_type": "markdown",
      "source": [
        "### [`str.replace(antiguo, nuevo)`](https://docs.python.org/3/library/stdtypes.html#str.replace)\n",
        "\n",
        "Sustituye todas las ocurrencias del texto \"antiguo\" en la string por el  \"nuevo\"."
      ],
      "metadata": {
        "id": "m6notiyS1SCV"
      }
    },
    {
      "cell_type": "code",
      "source": [
        "Persona_texto.replace('y', 't')"
      ],
      "metadata": {
        "id": "PNXAixtE_V6R",
        "colab": {
          "base_uri": "https://localhost:8080/",
          "height": 35
        },
        "outputId": "5ff4e276-c596-47b3-e2e3-d19e03f47422"
      },
      "execution_count": null,
      "outputs": [
        {
          "output_type": "execute_result",
          "data": {
            "text/plain": [
              "'   Micaela de los Santos  '"
            ],
            "application/vnd.google.colaboratory.intrinsic+json": {
              "type": "string"
            }
          },
          "metadata": {},
          "execution_count": 96
        }
      ]
    },
    {
      "cell_type": "code",
      "source": [
        "Persona_texto"
      ],
      "metadata": {
        "colab": {
          "base_uri": "https://localhost:8080/",
          "height": 35
        },
        "id": "Wio2K6QRhUKt",
        "outputId": "484b201d-d580-4f2b-e339-f2041987e4d0"
      },
      "execution_count": null,
      "outputs": [
        {
          "output_type": "execute_result",
          "data": {
            "text/plain": [
              "'   Micaela de los Sanyos  '"
            ],
            "application/vnd.google.colaboratory.intrinsic+json": {
              "type": "string"
            }
          },
          "metadata": {},
          "execution_count": 97
        }
      ]
    },
    {
      "cell_type": "code",
      "source": [
        "id(Persona_texto)"
      ],
      "metadata": {
        "colab": {
          "base_uri": "https://localhost:8080/"
        },
        "id": "H__5ncy4hb0M",
        "outputId": "6621cc06-3f2e-4da4-9c2c-2987d52d1796"
      },
      "execution_count": null,
      "outputs": [
        {
          "output_type": "execute_result",
          "data": {
            "text/plain": [
              "136781000558032"
            ]
          },
          "metadata": {},
          "execution_count": 100
        }
      ]
    },
    {
      "cell_type": "markdown",
      "source": [
        "### Observaciones\n",
        "\n",
        "1. Los métodos devuelven una **tranformación**, no son ejecutados directamente sobre la variable donde está almacenado el texto.\n",
        "\n",
        "2. Adicionalmente, podemos acumular la ejecución de los métodos."
      ],
      "metadata": {
        "id": "zukvEjhG2Rcn"
      }
    },
    {
      "cell_type": "markdown",
      "source": [
        "Para que la transformación se pueda ejecutar debemos atribuir la salida de las transformaciones a las variables"
      ],
      "metadata": {
        "id": "1KbwfVut2h6I"
      }
    },
    {
      "cell_type": "code",
      "source": [
        "Persona_texto_nuevo = Persona_texto.strip().replace('s', 'y').upper()\n",
        "print('\"', Persona_texto_nuevo, '\"')\n",
        "id(Persona_texto_nuevo)\n"
      ],
      "metadata": {
        "id": "JjkBRklr_T5n",
        "colab": {
          "base_uri": "https://localhost:8080/"
        },
        "outputId": "a124e411-7f81-4f27-de93-60430a4ac05e"
      },
      "execution_count": null,
      "outputs": [
        {
          "output_type": "stream",
          "name": "stdout",
          "text": [
            "\" MICAELA DE LOY SANYOY \"\n"
          ]
        },
        {
          "output_type": "execute_result",
          "data": {
            "text/plain": [
              "136781000659936"
            ]
          },
          "metadata": {},
          "execution_count": 123
        }
      ]
    },
    {
      "cell_type": "code",
      "source": [
        "print('\"', Persona_texto, '\"')\n",
        "id(Persona_texto)"
      ],
      "metadata": {
        "colab": {
          "base_uri": "https://localhost:8080/"
        },
        "id": "a60ppx_4jgJs",
        "outputId": "b5455a66-c219-4367-ff5f-911d7fdbbf0a"
      },
      "execution_count": null,
      "outputs": [
        {
          "output_type": "stream",
          "name": "stdout",
          "text": [
            "\" MICAELA DE LOY SANYOY \"\n"
          ]
        },
        {
          "output_type": "execute_result",
          "data": {
            "text/plain": [
              "136781000827456"
            ]
          },
          "metadata": {},
          "execution_count": 124
        }
      ]
    },
    {
      "cell_type": "code",
      "source": [
        "Persona_texto = Persona_texto.strip().replace('s', 'y').upper()\n",
        "print('\"', Persona_texto, '\"')\n",
        "id(Persona_texto)"
      ],
      "metadata": {
        "colab": {
          "base_uri": "https://localhost:8080/"
        },
        "id": "WMeN-C_-lZc4",
        "outputId": "27363b72-cbcc-475d-b7ec-6f9a7d518180"
      },
      "execution_count": null,
      "outputs": [
        {
          "output_type": "stream",
          "name": "stdout",
          "text": [
            "\" MICAELA DE LOY SANYOY \"\n"
          ]
        },
        {
          "output_type": "execute_result",
          "data": {
            "text/plain": [
              "136780998957200"
            ]
          },
          "metadata": {},
          "execution_count": 125
        }
      ]
    },
    {
      "cell_type": "code",
      "source": [
        "'''\n",
        "esponeciacion con doble **\n",
        "'''\n",
        "2**3"
      ],
      "metadata": {
        "id": "ocPP-Jaj_SJI",
        "colab": {
          "base_uri": "https://localhost:8080/"
        },
        "outputId": "b5585904-f4a3-4d75-b34a-215597b51dcd"
      },
      "execution_count": null,
      "outputs": [
        {
          "output_type": "execute_result",
          "data": {
            "text/plain": [
              "8"
            ]
          },
          "metadata": {},
          "execution_count": 126
        }
      ]
    },
    {
      "cell_type": "code",
      "source": [
        "'''\n",
        "esponeciacion con doble **\n",
        "tambien aplica con variables\n",
        "operador\n",
        "potencia\n",
        "'''\n",
        "operador = 2\n",
        "potencia = 4\n",
        "operador ** potencia"
      ],
      "metadata": {
        "id": "m1RvLGZZ_SP3",
        "colab": {
          "base_uri": "https://localhost:8080/"
        },
        "outputId": "6cb529ef-28a1-490c-ddcc-6b82d94b946f"
      },
      "execution_count": null,
      "outputs": [
        {
          "output_type": "execute_result",
          "data": {
            "text/plain": [
              "16"
            ]
          },
          "metadata": {},
          "execution_count": 129
        }
      ]
    },
    {
      "cell_type": "code",
      "source": [
        "'''\n",
        "calcular el módulo de una división, colocamos el dividendo a la izquierda del operador % y el divisor a la derecha.\n",
        "Por ejemplo, para encontrar el residuo de la división de 11 entre 3\n",
        "'''\n",
        "\n",
        "11%3"
      ],
      "metadata": {
        "colab": {
          "base_uri": "https://localhost:8080/"
        },
        "id": "-OOmIYR6oTz5",
        "outputId": "51a4f3bd-b66b-4aa0-fa7b-c759a4182c4e"
      },
      "execution_count": null,
      "outputs": [
        {
          "output_type": "execute_result",
          "data": {
            "text/plain": [
              "2"
            ]
          },
          "metadata": {},
          "execution_count": 134
        }
      ]
    },
    {
      "cell_type": "code",
      "source": [
        "'''\n",
        "calcular el módulo de una división, colocamos el dividendo a la izquierda del operador % y el divisor a la derecha.\n",
        "Por ejemplo, para encontrar el residuo de la división de 11 entre 3 con variables dividendo y divisor\n",
        "'''\n",
        "dividendo = 11\n",
        "divisor = 3\n",
        "dividendo % divisor"
      ],
      "metadata": {
        "colab": {
          "base_uri": "https://localhost:8080/"
        },
        "id": "ti-vCKBGosHn",
        "outputId": "11f3b953-ffe3-4c13-9c89-454e6ab2a38f"
      },
      "execution_count": null,
      "outputs": [
        {
          "output_type": "execute_result",
          "data": {
            "text/plain": [
              "2"
            ]
          },
          "metadata": {},
          "execution_count": 135
        }
      ]
    },
    {
      "cell_type": "code",
      "source": [
        "'''\n",
        "operación devuelve el resultado de la división entera entre dos números, es decir, solo devuelve la parte entera de una división.\n",
        "Por ejemplo, sabemos que la división exacta de 7 por 3 (7/3) resulta en el valor 2.333333....\n",
        "Si esta fuera una división entera, el resultado sería simplemente 2.\n",
        "La sintaxis consiste en colocar el valor del numerador, el operador // y luego el denominador, como se muestra a continuación:\n",
        "'''\n",
        "\n",
        "7 // 3"
      ],
      "metadata": {
        "colab": {
          "base_uri": "https://localhost:8080/"
        },
        "id": "eVsPw8U1o9cK",
        "outputId": "26390ff8-95d5-4c95-ce77-19de146579cf"
      },
      "execution_count": null,
      "outputs": [
        {
          "output_type": "execute_result",
          "data": {
            "text/plain": [
              "2"
            ]
          },
          "metadata": {},
          "execution_count": 136
        }
      ]
    },
    {
      "cell_type": "code",
      "source": [
        "'''\n",
        "operación devuelve el resultado de la división entera entre dos números, es decir, solo devuelve la parte entera de una división.\n",
        "Por ejemplo, sabemos que la división exacta de 7 por 3 (7/3) resulta en el valor 2.333333....\n",
        "Si esta fuera una división entera, el resultado sería simplemente 2.\n",
        "La sintaxis consiste en colocar el valor del numerador, el operador // y luego el denominador,\n",
        "pero con las variables numerador y denomineado\n",
        "como se muestra a continuación:\n",
        "'''\n",
        "numerador = 7\n",
        "denominador = 3\n",
        "numerador // denominador"
      ],
      "metadata": {
        "colab": {
          "base_uri": "https://localhost:8080/"
        },
        "id": "bsNt9u--pH8Z",
        "outputId": "9fb6c218-79ad-4406-c126-91eee1757dd5"
      },
      "execution_count": null,
      "outputs": [
        {
          "output_type": "execute_result",
          "data": {
            "text/plain": [
              "2"
            ]
          },
          "metadata": {},
          "execution_count": 139
        }
      ]
    },
    {
      "cell_type": "markdown",
      "source": [
        "## Capturando datos\n",
        "\n",
        "En algunas aplicaciones necesitamos capturar los valores del usuario de nuestro proyecto. En python, logramos capturar los datos del usuario a través del comando [`input()`](https://docs.python.org/3/library/functions.html#input).\n",
        "\n",
        "Para ejecutar la captura debemos atribuir el resultado de esta función a una variable."
      ],
      "metadata": {
        "id": "0h9Fh5G9kHCa"
      }
    },
    {
      "cell_type": "code",
      "source": [
        "MiPrimer_Nombre = input('¿Cuál es tu priemra vez con nombre en Python? ')\n",
        "print('Hola', MiPrimer_Nombre)"
      ],
      "metadata": {
        "id": "zbH_9i3q_PdY",
        "colab": {
          "base_uri": "https://localhost:8080/"
        },
        "outputId": "1317daf8-e489-4ed3-ae0d-5b5a5174b3a5"
      },
      "execution_count": null,
      "outputs": [
        {
          "output_type": "stream",
          "name": "stdout",
          "text": [
            "¿Cuál es tu priemra vez con nombre en Python? Juanita\n",
            "Hola Juanita\n"
          ]
        }
      ]
    },
    {
      "cell_type": "code",
      "source": [
        "type(MiPrimer_Nombre)"
      ],
      "metadata": {
        "id": "JZy1Q9Tl_PgL",
        "colab": {
          "base_uri": "https://localhost:8080/"
        },
        "outputId": "c1421c88-4155-499c-fc37-3134b5967357"
      },
      "execution_count": null,
      "outputs": [
        {
          "output_type": "execute_result",
          "data": {
            "text/plain": [
              "str"
            ]
          },
          "metadata": {},
          "execution_count": 141
        }
      ]
    },
    {
      "cell_type": "markdown",
      "source": [
        "La salida de este comando siempre será una *string*. Esto quiere decir que aunque capturemos un valor de variable numérica, este será de tipo string.\n",
        "\n",
        "Entonces, será necesario **convertir el resultado cuando no se desea utilizar el valor como tipo string**."
      ],
      "metadata": {
        "id": "7z7hcLCk_aCY"
      }
    },
    {
      "cell_type": "markdown",
      "source": [
        "Existen funciones para la conversión de valores:\n",
        "\n",
        "- Enteros: [`int(dato_para_conversion)`](https://docs.python.org/3/library/functions.html#int)\n",
        "- Coma flotante: [`float(dato_para_conversion)`](https://docs.python.org/3/library/functions.html#float)\n",
        "- String: [`str(dato_para_conversion)`](https://docs.python.org/3/library/functions.html#func-str)\n",
        "- Booleano: [`bool(dato_para_conversion)`](https://docs.python.org/3/library/functions.html#bool)"
      ],
      "metadata": {
        "id": "TOlegATj1Jfp"
      }
    },
    {
      "cell_type": "code",
      "source": [
        "admitido_en_año = input('Digita el año de admision a la escuela: ')\n",
        "print(admitido_en_año)\n",
        "print(type(admitido_en_año))"
      ],
      "metadata": {
        "id": "M2ueeH6l_NMe",
        "colab": {
          "base_uri": "https://localhost:8080/"
        },
        "outputId": "91be95ff-e823-4a23-fcfe-550e67ef31c9"
      },
      "execution_count": null,
      "outputs": [
        {
          "output_type": "stream",
          "name": "stdout",
          "text": [
            "Digita el año de admision a la escuela: 2020\n",
            "2020\n",
            "<class 'str'>\n"
          ]
        }
      ]
    },
    {
      "cell_type": "code",
      "source": [
        "egresado_en_año = input('Digita el año de egresado de la escuela: ')\n",
        "print(egresado_en_año)\n",
        "print(type(egresado_en_año))"
      ],
      "metadata": {
        "id": "xfWwuViK_NUn",
        "colab": {
          "base_uri": "https://localhost:8080/"
        },
        "outputId": "4b317c62-44e7-427b-be22-98006eea0ec6"
      },
      "execution_count": null,
      "outputs": [
        {
          "output_type": "stream",
          "name": "stdout",
          "text": [
            "Digita el año de egresado de la escuela: 2025\n",
            "2025\n",
            "<class 'str'>\n"
          ]
        }
      ]
    },
    {
      "cell_type": "code",
      "source": [
        "admitido_en_año + egresado_en_año"
      ],
      "metadata": {
        "id": "uFCHDyew_NZm",
        "colab": {
          "base_uri": "https://localhost:8080/",
          "height": 35
        },
        "outputId": "bbb06436-052c-4f9d-e846-65b4b1956115"
      },
      "execution_count": null,
      "outputs": [
        {
          "output_type": "execute_result",
          "data": {
            "text/plain": [
              "'20202025'"
            ],
            "application/vnd.google.colaboratory.intrinsic+json": {
              "type": "string"
            }
          },
          "metadata": {},
          "execution_count": 144
        }
      ]
    },
    {
      "cell_type": "code",
      "source": [
        "admitido_en_año = int(input('Digita el año de admision a la escuela: '))\n",
        "print(admitido_en_año)\n",
        "print(type(admitido_en_año))"
      ],
      "metadata": {
        "colab": {
          "base_uri": "https://localhost:8080/"
        },
        "id": "aVQgDOJ_t9jR",
        "outputId": "087ba58a-6490-46c0-a1be-9f227b93c4bb"
      },
      "execution_count": null,
      "outputs": [
        {
          "output_type": "stream",
          "name": "stdout",
          "text": [
            "Digita el año de admision a la escuela: 2021\n",
            "2021\n",
            "<class 'int'>\n"
          ]
        }
      ]
    },
    {
      "cell_type": "code",
      "source": [
        "egresado_en_año = int(input('Digita el año de egresado de la escuela: '))\n",
        "print(egresado_en_año)\n",
        "print(type(egresado_en_año))"
      ],
      "metadata": {
        "colab": {
          "base_uri": "https://localhost:8080/"
        },
        "id": "mCZ8IIAPt8-k",
        "outputId": "a3f6dac7-490e-4cca-d804-8f25fc2e6a16"
      },
      "execution_count": null,
      "outputs": [
        {
          "output_type": "stream",
          "name": "stdout",
          "text": [
            "Digita el año de egresado de la escuela: 2026\n",
            "2026\n",
            "<class 'int'>\n"
          ]
        }
      ]
    },
    {
      "cell_type": "code",
      "source": [
        "admision_nota = float(input('digita la nota de admision:'))\n",
        "print (admision_nota)\n",
        "print (type(admision_nota))"
      ],
      "metadata": {
        "id": "MWOHb3vQupQB",
        "colab": {
          "base_uri": "https://localhost:8080/"
        },
        "outputId": "2c1e4bd6-58a3-4acf-86fe-f476626b1eee"
      },
      "execution_count": null,
      "outputs": [
        {
          "output_type": "stream",
          "name": "stdout",
          "text": [
            "digita la nota de admision:7.1\n",
            "7.1\n",
            "<class 'float'>\n"
          ]
        }
      ]
    },
    {
      "cell_type": "markdown",
      "source": [],
      "metadata": {
        "id": "A01wkystt8ol"
      }
    },
    {
      "cell_type": "code",
      "source": [
        "print(f'\\t EL año de admision fue: {admitido_en_año} \\n\\t La nota de admision fue: {admision_nota}')"
      ],
      "metadata": {
        "id": "tgJioD2lt7Yh",
        "colab": {
          "base_uri": "https://localhost:8080/"
        },
        "outputId": "4b443a36-b83b-4476-f9ed-b65be27628f0"
      },
      "execution_count": null,
      "outputs": [
        {
          "output_type": "stream",
          "name": "stdout",
          "text": [
            "\t EL año de admision fue: 2020 \n",
            "\t La nota de admision fue: 7.1\n"
          ]
        }
      ]
    },
    {
      "cell_type": "markdown",
      "source": [
        "Trataremos de representar mejor ahora el resultado de la transformación que obtuvimos. Nosotros podemos formatear y presentar nuestro resultado mezclando strings con valores no textuales.\n",
        "\n",
        "Para ello utilizamos la estructura de formatación `f` con strings."
      ],
      "metadata": {
        "id": "yNI2-XTbB3aS"
      }
    },
    {
      "cell_type": "code",
      "source": [
        "print(f'\\t EL año de admision fue: {admitido_en_año} \\n\\t La nota de admision fue: {admision_nota}')"
      ],
      "metadata": {
        "id": "keJjA5N9_K5i",
        "colab": {
          "base_uri": "https://localhost:8080/"
        },
        "outputId": "0867ac6d-83e6-41aa-a8b8-9d64f2f2f19f"
      },
      "execution_count": null,
      "outputs": [
        {
          "output_type": "stream",
          "name": "stdout",
          "text": [
            "\t EL año de admision fue: 2020 \n",
            "\t La nota de admision fue: 7.1\n"
          ]
        }
      ]
    },
    {
      "cell_type": "code",
      "source": [
        "chr(64)"
      ],
      "metadata": {
        "colab": {
          "base_uri": "https://localhost:8080/",
          "height": 35
        },
        "id": "1X2lzABlrrym",
        "outputId": "961e0d94-995e-410a-fb9e-e940f146e088"
      },
      "execution_count": null,
      "outputs": [
        {
          "output_type": "execute_result",
          "data": {
            "text/plain": [
              "'@'"
            ],
            "application/vnd.google.colaboratory.intrinsic+json": {
              "type": "string"
            }
          },
          "metadata": {},
          "execution_count": 14
        }
      ]
    },
    {
      "cell_type": "code",
      "source": [
        "chr(72) + chr(111) +  chr(108) + chr(97)"
      ],
      "metadata": {
        "colab": {
          "base_uri": "https://localhost:8080/",
          "height": 35
        },
        "id": "RnGqSHwMr4fu",
        "outputId": "0118c6de-ce27-43f3-fd15-62a3c2e46029"
      },
      "execution_count": null,
      "outputs": [
        {
          "output_type": "execute_result",
          "data": {
            "text/plain": [
              "'Hola'"
            ],
            "application/vnd.google.colaboratory.intrinsic+json": {
              "type": "string"
            }
          },
          "metadata": {},
          "execution_count": 15
        }
      ]
    },
    {
      "cell_type": "code",
      "source": [
        "nombre = \"Anita María\"\n",
        "edad = 19\n",
        "print(f\"El nombre de la nueva alumna es {nombre} y su edad es {edad} años.\")"
      ],
      "metadata": {
        "colab": {
          "base_uri": "https://localhost:8080/"
        },
        "id": "5xZdNRyVsR7x",
        "outputId": "2808062a-bd02-4eca-a65f-38d6927d0a12"
      },
      "execution_count": null,
      "outputs": [
        {
          "output_type": "stream",
          "name": "stdout",
          "text": [
            "El nombre de la nueva alumna es Anita María y su edad es 19 años.\n"
          ]
        }
      ]
    },
    {
      "cell_type": "code",
      "source": [
        "Nombre_Alumnioa = 'Penélope Camacho (formato)'\n",
        "print('Nombre del alumno (formato): %s' %(Nombre_Alumnioa))"
      ],
      "metadata": {
        "colab": {
          "base_uri": "https://localhost:8080/"
        },
        "id": "1Az3vFZptqps",
        "outputId": "5900cb97-2a76-4c65-fe66-c12678bb3130"
      },
      "execution_count": null,
      "outputs": [
        {
          "output_type": "stream",
          "name": "stdout",
          "text": [
            "Nombre del alumno (formato): Penélope Camacho (formato)\n"
          ]
        }
      ]
    },
    {
      "cell_type": "code",
      "source": [
        "Nombre_Alumnioa = 'Penélope Camacho formato'\n",
        "Edad_Alumnioa = 9\n",
        "Media_Alumnioa = 9.75\n",
        "print('Nombre del alumno formato es %s, tiene %d años y su media es %f.' %(Nombre_Alumnioa, Edad_Alumnioa, Media_Alumnioa))"
      ],
      "metadata": {
        "colab": {
          "base_uri": "https://localhost:8080/"
        },
        "id": "VOyzxX5lumeb",
        "outputId": "7b71d0b0-7b95-40b0-e16f-86e05e9f5040"
      },
      "execution_count": null,
      "outputs": [
        {
          "output_type": "stream",
          "name": "stdout",
          "text": [
            "Nombre del alumno formato es Penélope Camacho formato, tiene 9 años y su media es 9.750000.\n"
          ]
        }
      ]
    },
    {
      "cell_type": "code",
      "source": [
        "print('Nombre del alumno es %s, tiene %d años y su media es %.2f.' %(Nombre_Alumnioa, Edad_Alumnioa, Media_Alumnioa))"
      ],
      "metadata": {
        "colab": {
          "base_uri": "https://localhost:8080/"
        },
        "id": "YNFQu6kHvaLC",
        "outputId": "e3e9e8cb-a505-463d-e611-10e81b1fd33b"
      },
      "execution_count": null,
      "outputs": [
        {
          "output_type": "stream",
          "name": "stdout",
          "text": [
            "Nombre del alumno es Penélope Camacho formato, tiene 9 años y su media es 9.75.\n"
          ]
        }
      ]
    },
    {
      "cell_type": "code",
      "source": [
        "x = True\n",
        "print(\"Valor de x: %s\" % str(x))"
      ],
      "metadata": {
        "colab": {
          "base_uri": "https://localhost:8080/"
        },
        "id": "qYpbJF8AvteT",
        "outputId": "182a0f3c-c169-40c3-8162-85bb9b8b582e"
      },
      "execution_count": null,
      "outputs": [
        {
          "output_type": "stream",
          "name": "stdout",
          "text": [
            "Valor de x: True\n"
          ]
        }
      ]
    },
    {
      "cell_type": "code",
      "source": [
        "Nombre_Alumnao = 'Fabricio Daniel formato'\n",
        "print('Nombre del alumno: {}'.format(Nombre_Alumnao))"
      ],
      "metadata": {
        "colab": {
          "base_uri": "https://localhost:8080/"
        },
        "id": "jL_N9Edmv3E0",
        "outputId": "4a87bb6c-d116-4497-fb66-9f3c30b08ac4"
      },
      "execution_count": null,
      "outputs": [
        {
          "output_type": "stream",
          "name": "stdout",
          "text": [
            "Nombre del alumno: Fabricio Daniel formato\n"
          ]
        }
      ]
    },
    {
      "cell_type": "code",
      "source": [
        "Nombre_Alumnao = 'Fabricio Daniel formato'\n",
        "Edad_Alumnao = 15\n",
        "Media_Alumnao = 9.95\n",
        "print('Nombre del alumno es {}, tiene {} años y su media es {}.' .format(Nombre_Alumnao, Edad_Alumnao, Media_Alumnao))"
      ],
      "metadata": {
        "colab": {
          "base_uri": "https://localhost:8080/"
        },
        "id": "KNDyowFIwUmY",
        "outputId": "66f0cfac-8f4b-4348-f402-5c1228eb7fd2"
      },
      "execution_count": null,
      "outputs": [
        {
          "output_type": "stream",
          "name": "stdout",
          "text": [
            "Nombre del alumno es Fabricio Daniel formato, tiene 15 años y su media es 9.95.\n"
          ]
        }
      ]
    },
    {
      "cell_type": "code",
      "source": [
        "print(\"Estudiar es un esfuerzo constante el DS,\\nEs como cultivar una planta Sana ,\\nNecesitamos + dedicación y + paciencia,\\nPara ver madurar el fruto de l DS.\")"
      ],
      "metadata": {
        "colab": {
          "base_uri": "https://localhost:8080/"
        },
        "id": "7xW5Z3jmwUXI",
        "outputId": "4226178d-c3a8-4bf5-ad98-ec7416c62153"
      },
      "execution_count": null,
      "outputs": [
        {
          "output_type": "stream",
          "name": "stdout",
          "text": [
            "Estudiar es un esfuerzo constante el DS,\n",
            "Es como cultivar una planta Sana ,\n",
            "Necesitamos + dedicación y + paciencia,\n",
            "Para ver madurar el fruto de l DS.\n"
          ]
        }
      ]
    },
    {
      "cell_type": "code",
      "source": [
        "print('\\tTabla primera  \\nCantidad\\tCalidad\\n5 muestras\\tAlta\\n3 muestras\\tBaja')"
      ],
      "metadata": {
        "colab": {
          "base_uri": "https://localhost:8080/"
        },
        "id": "ycYUmSXXxMT0",
        "outputId": "492afde8-8091-46f4-ca2c-a73b37354571"
      },
      "execution_count": null,
      "outputs": [
        {
          "output_type": "stream",
          "name": "stdout",
          "text": [
            "\tTabla primera  \n",
            "Cantidad\tCalidad\n",
            "5 muestras\tAlta\n",
            "3 muestras\tBaja\n"
          ]
        }
      ]
    },
    {
      "cell_type": "code",
      "source": [
        "print(\"Una vez oí: \\\"Los frutos del conocimiento son los más dulces y duraderos de todos.\\\"\")"
      ],
      "metadata": {
        "colab": {
          "base_uri": "https://localhost:8080/"
        },
        "id": "XWoL9j37xMHv",
        "outputId": "bfae74cb-ef0c-444e-cc16-9f840cabc213"
      },
      "execution_count": null,
      "outputs": [
        {
          "output_type": "stream",
          "name": "stdout",
          "text": [
            "Una vez oí: \"Los frutos del conocimiento son los más dulces y duraderos de todos.\"\n"
          ]
        }
      ]
    },
    {
      "cell_type": "code",
      "source": [
        "print('Mi profesora una vez dijo: \\'Estudiar es la clave del éxito.\\'')"
      ],
      "metadata": {
        "colab": {
          "base_uri": "https://localhost:8080/"
        },
        "id": "rgGF0Pp0y5lR",
        "outputId": "446ee9b1-d532-4827-95b4-96374094fc8a"
      },
      "execution_count": null,
      "outputs": [
        {
          "output_type": "stream",
          "name": "stdout",
          "text": [
            "Mi profesora una vez dijo: 'Estudiar es la clave del éxito.'\n"
          ]
        }
      ]
    },
    {
      "cell_type": "code",
      "source": [],
      "metadata": {
        "id": "2_vOGbvMzmYW"
      },
      "execution_count": null,
      "outputs": []
    },
    {
      "cell_type": "markdown",
      "source": [
        "#****Recopilacion y muestras de datos**"
      ],
      "metadata": {
        "id": "0O1HJPXYzuxb"
      }
    },
    {
      "cell_type": "code",
      "source": [
        "\"\"\"\n",
        "ejercicios de recopilacion y muestra de datos\n",
        "\"\"\"\n",
        "\n",
        "Usuario_Nombre = input('Escribe tu nombre de usario')\n",
        "print('Hola nuevo usuario : ', Usuario_Nombre)\n",
        "\n"
      ],
      "metadata": {
        "colab": {
          "base_uri": "https://localhost:8080/"
        },
        "id": "P-KmebZx0gUI",
        "outputId": "6008ebd5-fef2-4413-aaa6-bd02739ec312"
      },
      "execution_count": null,
      "outputs": [
        {
          "output_type": "stream",
          "name": "stdout",
          "text": [
            "Escribe tu nombre de usarioSandra Bibiana\n",
            "Hola nuevo usuario :  Sandra Bibiana\n"
          ]
        }
      ]
    },
    {
      "cell_type": "code",
      "source": [
        "'''\n",
        "print('Nombre de usuario nuevo es :  %s, tiene %d años y su media es %f.' %(Usuario_Nombre, Edad_Usuario, Media_Usuario))\n",
        "'''\n",
        "\n",
        "\n",
        "Usuario_Nombre = input ('Digita nombre de usuario nuevo :')\n",
        "Edad_Usuario = input ('Digita edad de usuario nuevo :')\n",
        "Media_Usuario = input ('Digita media  de usuario nuevo :')\n",
        "\n",
        "print(f'\\t Hola \\n\\t Nuevo usuario : {Usuario_Nombre} \\n\\t La edad del usuario es: {Edad_Usuario} \\n\\t la media del usuario es: {Media_Usuario}')\n"
      ],
      "metadata": {
        "colab": {
          "base_uri": "https://localhost:8080/"
        },
        "id": "gP8_4ox0IRyU",
        "outputId": "dd5bcce8-c312-4a1f-bc0a-730412acd4df"
      },
      "execution_count": null,
      "outputs": [
        {
          "output_type": "stream",
          "name": "stdout",
          "text": [
            "Digita nombre de usuario nuevo :Sandra B\n",
            "Digita edad de usuario nuevo :16\n",
            "Digita media  de usuario nuevo :8.5\n",
            "\t Hola \n",
            "\t Nuevo usuario : Sandra B \n",
            "\t La edad del usuario es: 16 \n",
            "\t la media del usuario es: 8.5\n"
          ]
        }
      ]
    },
    {
      "cell_type": "code",
      "source": [
        "Usuario_NNombre = input ('ingrese su nombre :')\n",
        "EEdad_Usuario = input ('ingrese su edad :')\n",
        "Estatura_Usuario = input ('ingrrese su estatura  :')\n",
        "\n",
        "print(f'\\t Hola \\n\\t {Usuario_NNombre} \\n\\t tu edad es: {EEdad_Usuario} \\n\\t tu estatura es {Estatura_Usuario}')\n"
      ],
      "metadata": {
        "colab": {
          "base_uri": "https://localhost:8080/"
        },
        "id": "bFpbWsWgNerg",
        "outputId": "61180c30-304d-4b6a-a491-73ffa93d2b6c"
      },
      "execution_count": null,
      "outputs": [
        {
          "output_type": "stream",
          "name": "stdout",
          "text": [
            "ingrese su nombre :Sandra A\n",
            "ingrese su edad :19\n",
            "ingrrese su estatura  :1.65\n",
            "\t Hola \n",
            "\t Sandra A \n",
            "\t tu edad es: 19 \n",
            "\t tu estatura es 1.65\n"
          ]
        }
      ]
    },
    {
      "cell_type": "code",
      "source": [
        "primer_numero = int(input('Ingrese el primer número: '))\n",
        "segundo_numero = int(input('Ingrese el segundo número: '))\n",
        "suma = primer_numero + segundo_numero\n",
        "print(f'La suma de {primer_numero} y {segundo_numero} es = {suma}.')"
      ],
      "metadata": {
        "colab": {
          "base_uri": "https://localhost:8080/"
        },
        "id": "EW3RalrhNegu",
        "outputId": "3f4695a0-ddfe-4f29-b30a-fa3e5fe6583b"
      },
      "execution_count": null,
      "outputs": [
        {
          "output_type": "stream",
          "name": "stdout",
          "text": [
            "Ingrese el primer número: 21\n",
            "Ingrese el segundo número: 21\n",
            "La suma de 21 y 21 es = 42.\n"
          ]
        }
      ]
    },
    {
      "cell_type": "code",
      "source": [
        "primer_numero = int(input('Ingrese el primer número: '))\n",
        "segundo_numero = int(input('Ingrese el segundo número: '))\n",
        "tercer_numero = int(input('Ingrese el tercer número: '))\n",
        "suma = primer_numero + segundo_numero + tercer_numero\n",
        "print (f'La suma de {primer_numero} + {segundo_numero} + {tercer_numero}es = {suma}.')\n"
      ],
      "metadata": {
        "colab": {
          "base_uri": "https://localhost:8080/"
        },
        "id": "3zTQSr20NeXK",
        "outputId": "9b93ca0b-9aba-4f4c-bf44-c490b2a062ad"
      },
      "execution_count": null,
      "outputs": [
        {
          "output_type": "stream",
          "name": "stdout",
          "text": [
            "Ingrese el primer número: 35\n",
            "Ingrese el segundo número: 87\n",
            "Ingrese el tercer número: 54\n",
            "La suma de 35 + 87 + 54es = 176.\n"
          ]
        }
      ]
    },
    {
      "cell_type": "code",
      "source": [
        "primer_numero = int(input('Ingrese el primer número: '))\n",
        "segundo_numero = int(input('Ingrese el segundo número: '))\n",
        "resta = primer_numero - segundo_numero\n",
        "print(f'La resta de {primer_numero} y {segundo_numero} es = {resta}.')"
      ],
      "metadata": {
        "colab": {
          "base_uri": "https://localhost:8080/"
        },
        "id": "GSG_A69CNeOH",
        "outputId": "b45981e1-112e-45b9-8b43-534a845202cb"
      },
      "execution_count": null,
      "outputs": [
        {
          "output_type": "stream",
          "name": "stdout",
          "text": [
            "Ingrese el primer número: 100\n",
            "Ingrese el segundo número: 75\n",
            "La resta de 100 y 75 es = 25.\n"
          ]
        }
      ]
    },
    {
      "cell_type": "code",
      "source": [
        "primer_numero = int(input('Ingrese el primer número: '))\n",
        "segundo_numero = int(input('Ingrese el segundo número: '))\n",
        "miltiplicacion = primer_numero * segundo_numero\n",
        "print(f'La resta de {primer_numero} y {segundo_numero} es = {miltiplicacion}.')"
      ],
      "metadata": {
        "colab": {
          "base_uri": "https://localhost:8080/"
        },
        "id": "5nS2ucHGNeEO",
        "outputId": "46d0f4bd-3b1e-42d4-96b8-e4a7473b98ce"
      },
      "execution_count": null,
      "outputs": [
        {
          "output_type": "stream",
          "name": "stdout",
          "text": [
            "Ingrese el primer número: 80\n",
            "Ingrese el segundo número: 30\n",
            "La resta de 80 y 30 es = 2400.\n"
          ]
        }
      ]
    },
    {
      "cell_type": "code",
      "source": [
        "Numerador_numero = int(input('Ingese el numerador de la fracción: '))\n",
        "Denominador_numero = int(input('Ingese el denominador de la fracción: \\n\\t el denominador NO debe ser 0  :  '))\n",
        "\n",
        "Devision = Numerador_numero / Denominador_numero\n",
        "print(f'La division  del numerador {Numerador_numero} yentre el denominador  {Denominador_numero} es = {Devision}.')"
      ],
      "metadata": {
        "colab": {
          "base_uri": "https://localhost:8080/"
        },
        "id": "TMo2NnjNNd5i",
        "outputId": "edf6ad98-6133-4f46-a0d3-291bdad115d7"
      },
      "execution_count": null,
      "outputs": [
        {
          "output_type": "stream",
          "name": "stdout",
          "text": [
            "Ingese el numerador de la fracción: 6546768\n",
            "Ingese el denominador de la fracción: \n",
            "\t el denominador NO debe ser 0  :  3543453\n",
            "La division  del numerador 6546768 yentre el denominador  3543453 es = 1.8475673305106628.\n"
          ]
        }
      ]
    },
    {
      "cell_type": "code",
      "source": [
        "BasePot_numero = int(input('Ingese la base de la potencia: '))\n",
        "ExponentePot_numero = int(input('Ingese el exponente de la potencia: '))\n",
        "Pot_encia = BasePot_numero ** ExponentePot_numero\n",
        "print(f'La base de la potencia es  {BasePot_numero} el exponente de la potencia es  {ExponentePot_numero} es = {Pot_encia}.')\n"
      ],
      "metadata": {
        "colab": {
          "base_uri": "https://localhost:8080/"
        },
        "id": "AkIFnCzDNdhw",
        "outputId": "c5942486-068d-4fe7-d115-c95d7d18f7c0"
      },
      "execution_count": null,
      "outputs": [
        {
          "output_type": "stream",
          "name": "stdout",
          "text": [
            "Ingese la base de la potencia: 3\n",
            "Ingese el exponente de la potencia: 3\n",
            "La base de la potencia es  3 el exponente de la potencia es  3 es = 27.\n"
          ]
        }
      ]
    },
    {
      "cell_type": "code",
      "source": [
        "Numerador_numero = int(input('Ingese el numerador de la fracción: '))\n",
        "Denominador_numero = int(input('Ingese el denominador de la fracción: \\n\\t el denominador NO debe ser 0  :  '))\n",
        "\n",
        "Devision = Numerador_numero // Denominador_numero\n",
        "print(f'La division  del numerador {Numerador_numero} yentre el denominador  {Denominador_numero} es = {Devision}.')"
      ],
      "metadata": {
        "colab": {
          "base_uri": "https://localhost:8080/"
        },
        "id": "UKI7IktqmOoY",
        "outputId": "6ae75dce-0d3e-4e81-ea28-8759fe55d01c"
      },
      "execution_count": null,
      "outputs": [
        {
          "output_type": "stream",
          "name": "stdout",
          "text": [
            "Ingese el numerador de la fracción: 654654\n",
            "Ingese el denominador de la fracción: \n",
            "\t el denominador NO debe ser 0  :  654\n",
            "La division  del numerador 654654 yentre el denominador  654 es = 1001.\n"
          ]
        }
      ]
    },
    {
      "cell_type": "code",
      "source": [
        "Primera_nota = float(input('Ingrese la primera nota: '))\n",
        "Segunda_nota = float(input('Ingrese la segunda nota: '))\n",
        "Tercera_nota = float(input('Ingrese la tercera nota: '))\n",
        "print(f'El promedio de las notas: \\n\\t primera nota {Primera_nota} \\n\\t segunda nota {Segunda_nota} \\n\\t tercera nota {Tercera_nota}\\n\\t Promedio es = {(Primera_nota + Segunda_nota + Tercera_nota) / 3}' )\n"
      ],
      "metadata": {
        "colab": {
          "base_uri": "https://localhost:8080/"
        },
        "id": "sy8WnmUdmOda",
        "outputId": "03072b31-2347-4f64-ae27-cd9ae95c3816"
      },
      "execution_count": null,
      "outputs": [
        {
          "output_type": "stream",
          "name": "stdout",
          "text": [
            "Ingrese la primera nota: 6.54\n",
            "Ingrese la segunda nota: 7.89\n",
            "Ingrese la tercera nota: 8.98\n",
            "El promedio de las notas: \n",
            "\t primera nota 6.54 \n",
            "\t segunda nota 7.89 \n",
            "\t tercera nota 8.98\n",
            "\t Promedio es = 7.803333333333334\n"
          ]
        }
      ]
    },
    {
      "cell_type": "code",
      "source": [
        "'''\n",
        "media poinderada de los números 5, 12, 20 y 15 con pesos respectivamente iguales a 1, 2, 3 y 4.\n",
        "Calculamos la media ponderada multiplicando los pesos por sus respectivos valores y sumando el resultado de cada multiplicación.\n",
        "El valor de estas sumas se divide entre la suma total de los pesos. Con el comando print, imprimimos el resultado del cálculo de la media.\n",
        "'''\n",
        "\n",
        "print(f'Calculo de media ponderada \\n\\t Valores 5 12 20 15 \\n\\t Pesos   1  2  3  4 \\n\\t La Media ponderada es = {(5 * 1 + 12 * 2 + 20 * 3 + 15 * 4) / (1 + 2 + 3 + 4)}')"
      ],
      "metadata": {
        "colab": {
          "base_uri": "https://localhost:8080/"
        },
        "id": "gzH3NX-xmOPp",
        "outputId": "04dac939-1e8d-4468-d3e8-9ad2ce5e2a6d"
      },
      "execution_count": null,
      "outputs": [
        {
          "output_type": "stream",
          "name": "stdout",
          "text": [
            "Calculo de media ponderada \n",
            "\t Valores 5 12 20 15 \n",
            "\t Pesos   1  2  3  4 \n",
            "\t La Media ponderada es = 14.9\n"
          ]
        }
      ]
    },
    {
      "cell_type": "code",
      "source": [
        "PrimeraFrase = 'ciencia de datos y Python'\n",
        "print(PrimeraFrase)"
      ],
      "metadata": {
        "colab": {
          "base_uri": "https://localhost:8080/"
        },
        "id": "mv_8VxSHmOB1",
        "outputId": "64680527-e77f-4f81-abf0-a5613f1b190a"
      },
      "execution_count": null,
      "outputs": [
        {
          "output_type": "stream",
          "name": "stdout",
          "text": [
            "ciencia de datos y Python\n"
          ]
        }
      ]
    },
    {
      "cell_type": "code",
      "source": [
        "Pedir_Frase = input('Ingrese una frase: ')\n",
        "print(Pedir_Frase)"
      ],
      "metadata": {
        "colab": {
          "base_uri": "https://localhost:8080/"
        },
        "id": "EHLD9WSWsKYR",
        "outputId": "eb14f3df-5dbd-4228-a0b6-314fd32c11e2"
      },
      "execution_count": null,
      "outputs": [
        {
          "output_type": "stream",
          "name": "stdout",
          "text": [
            "Ingrese una frase: Estudiando Pyton\n",
            "Estudiando Pyton\n"
          ]
        }
      ]
    },
    {
      "cell_type": "code",
      "source": [
        "Pedir_Frase = input('Ingrese una frase: ')\n",
        "print(Pedir_Frase.upper())\n"
      ],
      "metadata": {
        "colab": {
          "base_uri": "https://localhost:8080/"
        },
        "id": "AaG80CpXsd6y",
        "outputId": "fd3d191e-1ab7-4bb2-dad3-e535c684bc9d"
      },
      "execution_count": null,
      "outputs": [
        {
          "output_type": "stream",
          "name": "stdout",
          "text": [
            "Ingrese una frase: hola mundo\n",
            "HOLA MUNDO\n"
          ]
        }
      ]
    },
    {
      "cell_type": "code",
      "source": [
        "Pedir_Frase = input('Ingrese una frase: ')\n",
        "print(Pedir_Frase.lower())"
      ],
      "metadata": {
        "colab": {
          "base_uri": "https://localhost:8080/"
        },
        "id": "etLw_Nkvsd2i",
        "outputId": "a9a63554-5aac-443f-c881-241a6ae16297"
      },
      "execution_count": null,
      "outputs": [
        {
          "output_type": "stream",
          "name": "stdout",
          "text": [
            "Ingrese una frase: ESTABA AL INVERSO EL MUNDO\n",
            "estaba al inverso el mundo\n"
          ]
        }
      ]
    },
    {
      "cell_type": "code",
      "source": [
        "Pedir_Frase = input('Ingrese una frase: ')\n",
        "print(Pedir_Frase.strip())"
      ],
      "metadata": {
        "colab": {
          "base_uri": "https://localhost:8080/"
        },
        "id": "5eowVLO-sdyk",
        "outputId": "0a904ea4-92a4-4fb8-8c64-158ec98fd4a5"
      },
      "execution_count": null,
      "outputs": [
        {
          "output_type": "stream",
          "name": "stdout",
          "text": [
            "Ingrese una frase:   la frase tien varios espacio al inicio y al final      \n",
            "la frase tien varios espacio al inicio y al final\n"
          ]
        }
      ]
    },
    {
      "cell_type": "code",
      "source": [
        "Pedir_Frase = input('Ingrese una frase: ')\n",
        "print(Pedir_Frase.strip().lower())"
      ],
      "metadata": {
        "colab": {
          "base_uri": "https://localhost:8080/"
        },
        "id": "ZfOUyHeXsdsh",
        "outputId": "865e1e14-e17f-415a-c39f-003b13a18d07"
      },
      "execution_count": null,
      "outputs": [
        {
          "output_type": "stream",
          "name": "stdout",
          "text": [
            "Ingrese una frase:      FRASE CON ESPACION AL INICIO Y AL FINAL  EN MAYUSCULAS    \n",
            "frase con espacion al inicio y al final  en mayusculas\n"
          ]
        }
      ]
    },
    {
      "cell_type": "code",
      "source": [
        "Pedir_Frase = input('Ingrese una frase: ')\n",
        "print(f'La frese se cambiaron las vocales \"e\" por la consonnte \"f\" \\n\\t {Pedir_Frase.strip().lower().replace(\"e\", \"f\")}')"
      ],
      "metadata": {
        "colab": {
          "base_uri": "https://localhost:8080/"
        },
        "id": "sw7E48LCsdoY",
        "outputId": "03872f1d-c997-4526-e5c8-313738086c90"
      },
      "execution_count": null,
      "outputs": [
        {
          "output_type": "stream",
          "name": "stdout",
          "text": [
            "Ingrese una frase:    el espacio esta controlado por  entes no especiales           \n",
            "La frese se cambiaron las vocales \"e\" por la consonnte \"f\" \n",
            "\t fl fspacio fsta controlado por  fntfs no fspfcialfs\n"
          ]
        }
      ]
    },
    {
      "cell_type": "code",
      "source": [
        "Pedir_Frase = input('Ingrese una frase: ')\n",
        "print(f'La frese se cambiaron las vocales \"a\" por la consonnte \"@\" \\n\\t {Pedir_Frase.strip().lower().replace(\"a\", chr(64))}')"
      ],
      "metadata": {
        "colab": {
          "base_uri": "https://localhost:8080/"
        },
        "id": "4-1fO8Kusdj5",
        "outputId": "88e84ff1-9ca1-4ad2-a606-f0c29dd21350"
      },
      "execution_count": null,
      "outputs": [
        {
          "output_type": "stream",
          "name": "stdout",
          "text": [
            "Ingrese una frase:     la anterior frase cambiaba la e ahora cambia la a , en el espacio y la atmosfera        \n",
            "La frese se cambiaron las vocales \"a\" por la consonnte \"@\" \n",
            "\t l@ @nterior fr@se c@mbi@b@ l@ e @hor@ c@mbi@ l@ @ , en el esp@cio y l@ @tmosfer@\n"
          ]
        }
      ]
    },
    {
      "cell_type": "code",
      "source": [
        "Pedir_Frase = input('Ingrese una frase: ')\n",
        "print(f'La frese se cambiaron la consonate \"S\" por la consonnte \"$\" \\n\\t {Pedir_Frase.strip().lower().replace(\"s\", chr(36))}')"
      ],
      "metadata": {
        "colab": {
          "base_uri": "https://localhost:8080/"
        },
        "id": "hYsCtkhbsdYq",
        "outputId": "a396fd10-651b-45e5-f378-a1f7311e7f94"
      },
      "execution_count": null,
      "outputs": [
        {
          "output_type": "stream",
          "name": "stdout",
          "text": [
            "Ingrese una frase:      sonido sandra sonia samira samir sonoridad sambo   \n",
            "La frese se cambiaron la consonate \"S\" por la consonnte \"$\" \n",
            "\t $onido $andra $onia $amira $amir $onoridad $ambo\n"
          ]
        }
      ]
    },
    {
      "cell_type": "code",
      "source": [],
      "metadata": {
        "id": "2wC4v9bS1Uaj"
      },
      "execution_count": null,
      "outputs": []
    },
    {
      "cell_type": "markdown",
      "source": [
        "# Estructuras condicionales"
      ],
      "metadata": {
        "id": "NwRaiHHHhhyl"
      }
    },
    {
      "cell_type": "code",
      "source": [
        "# NOTA DE APROBACION ENTRE 7 Y 10 == NOTA DE APROBACION >= 7\n",
        "# NOPTE DE REPROBADO ES MENOR A 7 == NOTA DE REPROBADO >7\n",
        "\n",
        "\"\"\"\n",
        "SI\n",
        "  NOTA ES MAYOR O IGUAL A 7\n",
        "        EL ESTUIDANTE APRUEBA\n",
        "   SINO\n",
        "        EL ESTUDIANTE REPRUEBA\n",
        "\"\"\""
      ],
      "metadata": {
        "id": "pa4gLncu-mvU",
        "colab": {
          "base_uri": "https://localhost:8080/",
          "height": 35
        },
        "outputId": "7f4b7e2b-9fee-4a1c-d935-f63aaed3de08"
      },
      "execution_count": null,
      "outputs": [
        {
          "output_type": "execute_result",
          "data": {
            "text/plain": [
              "'\\nSI \\n  NOTA ES MAYOR O IGUAL A 7\\n        EL ESTUIDANTE APRUEBA \\n   SINO\\n        EL ESTUDIANTE REPRUEBA\\n'"
            ],
            "application/vnd.google.colaboratory.intrinsic+json": {
              "type": "string"
            }
          },
          "metadata": {},
          "execution_count": 2
        }
      ]
    },
    {
      "cell_type": "code",
      "source": [],
      "metadata": {
        "id": "_cWRmDiE-m4p"
      },
      "execution_count": null,
      "outputs": []
    },
    {
      "cell_type": "markdown",
      "source": [
        "## `IF` y `ELSE`\n",
        "\n",
        "Los comandos `if` y `else` son dos estructuras condicionales. El comando `if` ejecutará el bloque de comandos en caso de que la condición citada sea  **verdadera**. El comando `else` ejecutará el bloque de comandos en el caso de que la condicional de `if` sea **falsa**."
      ],
      "metadata": {
        "id": "qXZqg9aYEhAh"
      }
    },
    {
      "cell_type": "markdown",
      "source": [
        "El comando `if` es una palabra clave en Python que significa \"si\". Este se emplea para conformar la estructura condicional, que te permite verificar si una determinada condición es verdadera o falsa e, inmediatamente después, ejecute un bloque de código específico dependiendo del resultado de la verificación. La sintaxis para usar el comando `if` es:\n",
        "\n",
        "\n",
        "\n",
        "```\n",
        "if condicion:\n",
        "    # Realiza algo\n",
        "```\n",
        "\n"
      ],
      "metadata": {
        "id": "EIhlqHXd2Gil"
      }
    },
    {
      "cell_type": "code",
      "source": [
        "if 3 < 9:\n",
        "  print('3 es menor que 9')"
      ],
      "metadata": {
        "id": "S2S6XAFz-czM",
        "colab": {
          "base_uri": "https://localhost:8080/"
        },
        "outputId": "845b5520-407e-4465-a7fe-180d090dffe6"
      },
      "execution_count": null,
      "outputs": [
        {
          "output_type": "stream",
          "name": "stdout",
          "text": [
            "3 es menor que 9\n"
          ]
        }
      ]
    },
    {
      "cell_type": "code",
      "source": [
        "if 3 > 9:\n",
        "  print('3 es menor que 9')\n",
        "print('fin de la consulta')"
      ],
      "metadata": {
        "id": "YHkwMMyY-c1r",
        "colab": {
          "base_uri": "https://localhost:8080/"
        },
        "outputId": "1988721b-e291-4d74-a1d1-3f61aa3ad69b"
      },
      "execution_count": null,
      "outputs": [
        {
          "output_type": "stream",
          "name": "stdout",
          "text": [
            "fin de la consulta\n"
          ]
        }
      ]
    },
    {
      "cell_type": "code",
      "source": [],
      "metadata": {
        "id": "imd_NnVP0s5t"
      },
      "execution_count": null,
      "outputs": []
    },
    {
      "cell_type": "markdown",
      "source": [
        "Ya el comando `else` en Python se usa en junción con la palabra clave `if` para formar una estructura condicional. la sintaxis para usar el `else` es:\n",
        "\n",
        "```\n",
        "if condicion:\n",
        "  # codigo en caso de que sea verdad\n",
        "else:\n",
        "  # codigo en caso de que sea falso\n",
        "```\n",
        "\n",
        "el comando `else` se ejecuta cuando la condición verificada por el `if` es evaluada como `False`."
      ],
      "metadata": {
        "id": "27RW2v_sIKct"
      }
    },
    {
      "cell_type": "code",
      "source": [
        "if 3 > 9:\n",
        "  print('3 es menor que 9')\n",
        "else:\n",
        "  print('la condicion no se cumple')\n",
        "print('Fin de la consulta')"
      ],
      "metadata": {
        "id": "ZTfNJd_f-aOq",
        "colab": {
          "base_uri": "https://localhost:8080/"
        },
        "outputId": "3abb5f7b-080d-4e4b-9806-062bb50b23d9"
      },
      "execution_count": null,
      "outputs": [
        {
          "output_type": "stream",
          "name": "stdout",
          "text": [
            "la condicion no se cumple\n",
            "Fin de la consulta\n"
          ]
        }
      ]
    },
    {
      "cell_type": "code",
      "source": [
        "if 3 < 9:\n",
        "  print('3 es menor que 9')\n",
        "else:\n",
        "  print('la condicion no se cumple')\n",
        "print('Fin de la consulta')"
      ],
      "metadata": {
        "id": "LPOb5MkV-btq",
        "colab": {
          "base_uri": "https://localhost:8080/"
        },
        "outputId": "8524c9a8-2618-4b36-bb13-f6e727b055bf"
      },
      "execution_count": null,
      "outputs": [
        {
          "output_type": "stream",
          "name": "stdout",
          "text": [
            "3 es menor que 9\n",
            "Fin de la consulta\n"
          ]
        }
      ]
    },
    {
      "cell_type": "code",
      "source": [
        "edad_maria = int(input('Ingrese la edad de María: '))\n",
        "edad_beatriz = int(input('Ingrese la edad de Beatriz: '))\n",
        "\n",
        "if edad_maria > edad_beatriz:\n",
        "  print('María es mayor que Beatriz.')\n",
        "print('Fin de la consulta')"
      ],
      "metadata": {
        "colab": {
          "base_uri": "https://localhost:8080/"
        },
        "id": "3GdYpU8f1h75",
        "outputId": "f41f3f73-215c-429b-b00a-b229ce93a2b7"
      },
      "execution_count": null,
      "outputs": [
        {
          "output_type": "stream",
          "name": "stdout",
          "text": [
            "Ingrese la edad de María: 25\n",
            "Ingrese la edad de Beatriz: 18\n",
            "María es mayor que Beatriz.\n"
          ]
        }
      ]
    },
    {
      "cell_type": "code",
      "source": [
        "edad_maria = int(input('Ingrese la edad de María: '))\n",
        "edad_beatriz = int(input('Ingrese la edad de Beatriz: '))\n",
        "\n",
        "if edad_maria < edad_beatriz:\n",
        "  print('María es menor que Beatriz.')\n",
        "print('Fin de la consulta')"
      ],
      "metadata": {
        "colab": {
          "base_uri": "https://localhost:8080/"
        },
        "id": "LHmqDS9T2hid",
        "outputId": "b056a021-aaec-479e-9ca6-1c031aece85c"
      },
      "execution_count": null,
      "outputs": [
        {
          "output_type": "stream",
          "name": "stdout",
          "text": [
            "Ingrese la edad de María: 15\n",
            "Ingrese la edad de Beatriz: 22\n",
            "María es menor que Beatriz.\n",
            "Fin de la consulta\n"
          ]
        }
      ]
    },
    {
      "cell_type": "code",
      "source": [
        "empleados_empresa_1 = int(input('Ingrese la cantidad de empleados de la empresa 1: '))\n",
        "empleados_empresa_2 = int(input('Ingrese la cantidad de empleados de la empresa 2: '))\n",
        "\n",
        "if empleados_empresa_1 >= empleados_empresa_2:\n",
        "  print('La empresa 1 tiene una cantidad de empleados mayor o igual a la empresa 2.')\n",
        "print('Fin de la consulta')"
      ],
      "metadata": {
        "colab": {
          "base_uri": "https://localhost:8080/"
        },
        "id": "85x3zrqY3MQR",
        "outputId": "84e4d0f7-18d7-4ac8-bc5d-beefdd9f9cfa"
      },
      "execution_count": null,
      "outputs": [
        {
          "output_type": "stream",
          "name": "stdout",
          "text": [
            "Ingrese la cantidad de empleados de la empresa 1: 580\n",
            "Ingrese la cantidad de empleados de la empresa 2: 580\n",
            "La empresa 1 tiene una cantidad de empleados mayor o igual a la empresa 2.\n"
          ]
        }
      ]
    },
    {
      "cell_type": "code",
      "source": [
        "empleados_empresa_1 = int(input('Ingrese la cantidad de empleados de la empresa 1: '))\n",
        "empleados_empresa_2 = int(input('Ingrese la cantidad de empleados de la empresa 2: '))\n",
        "\n",
        "if empleados_empresa_1 <= empleados_empresa_2:\n",
        "  print('La empresa 1 tiene una cantidad de empleados menor o igual a la empresa 2.')\n",
        "print('Fin de la consulta')"
      ],
      "metadata": {
        "colab": {
          "base_uri": "https://localhost:8080/"
        },
        "id": "K9eg4HV53Tgu",
        "outputId": "6e9623ae-8c29-4e74-ba7e-66f6454c7bcf"
      },
      "execution_count": null,
      "outputs": [
        {
          "output_type": "stream",
          "name": "stdout",
          "text": [
            "Ingrese la cantidad de empleados de la empresa 1: 210\n",
            "Ingrese la cantidad de empleados de la empresa 2: 210\n",
            "La empresa 1 tiene una cantidad de empleados menor o igual a la empresa 2.\n",
            "Fin de la consulta\n"
          ]
        }
      ]
    },
    {
      "cell_type": "code",
      "source": [
        "libro_1 = input('Ingrese el título del 1° libro: ')\n",
        "libro_2 = input('Ingrese el título del 2° libro: ')\n",
        "\n",
        "if libro_1 == libro_2:\n",
        "  print('Los libros tienen el mismo título.')\n",
        "print('Fin de la consulta')"
      ],
      "metadata": {
        "colab": {
          "base_uri": "https://localhost:8080/"
        },
        "id": "UAhrKR-J3iyB",
        "outputId": "cbb63791-5722-4593-bb06-5c903ef2aa02"
      },
      "execution_count": null,
      "outputs": [
        {
          "output_type": "stream",
          "name": "stdout",
          "text": [
            "Ingrese el título del 1° libro: soledad\n",
            "Ingrese el título del 2° libro: soledad\n",
            "Los libros tienen el mismo título.\n",
            "Fin de la consulta\n"
          ]
        }
      ]
    },
    {
      "cell_type": "code",
      "source": [
        "libro_1 = input('Ingrese el título del 1° libro: ')\n",
        "libro_2 = input('Ingrese el título del 2° libro: ')\n",
        "\n",
        "if libro_1 != libro_2:\n",
        "  print('Los libros tienen títulos diferentes.')\n",
        "print('Fin de la consulta')"
      ],
      "metadata": {
        "colab": {
          "base_uri": "https://localhost:8080/"
        },
        "id": "jFG78-Ld4CTn",
        "outputId": "4ad725e3-1c2d-42f5-a3ef-fc4a771574e3"
      },
      "execution_count": null,
      "outputs": [
        {
          "output_type": "stream",
          "name": "stdout",
          "text": [
            "Ingrese el título del 1° libro: azul \n",
            "Ingrese el título del 2° libro: soledad\n",
            "Los libros tienen títulos diferentes.\n",
            "Fin de la consulta\n"
          ]
        }
      ]
    },
    {
      "cell_type": "code",
      "source": [],
      "metadata": {
        "id": "E2MiZuhA4UJV"
      },
      "execution_count": null,
      "outputs": []
    },
    {
      "cell_type": "markdown",
      "source": [
        "---\n",
        "**Situación:**\n",
        "\n",
        "Recibiremos el promedio de la nota de los estudiantes y necesitamos de un algoritmo que ejecute el análisis y determine si el estudiante fue **Aprobado** o **Reprobado**, mostrando un mensaje del resultado. Para ser aprobado, el promedio necesita ser igual o superior a 7.0."
      ],
      "metadata": {
        "id": "BqORg85XX-Nl"
      }
    },
    {
      "cell_type": "code",
      "source": [
        "Mi_Nota = float(input('Ingrese la nota del estudiante: '))\n",
        "if Mi_Nota >= 7.0:\n",
        "  print('El estudiante fue aprobado')\n",
        "else:\n",
        "  print('El estudiante fue reprobado')\n",
        "print('Fin de la consulta')"
      ],
      "metadata": {
        "id": "UukCN4AQ-YYW",
        "colab": {
          "base_uri": "https://localhost:8080/"
        },
        "outputId": "6dee4c6c-7d92-4891-e5f0-09df7beef074"
      },
      "execution_count": null,
      "outputs": [
        {
          "output_type": "stream",
          "name": "stdout",
          "text": [
            "Ingrese la nota del estudiante: 7.0\n",
            "El estudiante fue aprobado\n",
            "Fin de la consulta\n"
          ]
        }
      ]
    },
    {
      "cell_type": "code",
      "source": [
        "Mi_Nota = float(input('Ingrese la nota del estudiante: '))\n",
        "if Mi_Nota >= 7.0:\n",
        "  print('El estudiante fue aprobado')\n",
        "if 7 > Mi_Nota >= 5:\n",
        "  print('El estudiante va a recuperacion')\n",
        "if Mi_Nota < 5:\n",
        "  print('El estudiante fue reprobado')\n",
        "print('Fin de la consulta')"
      ],
      "metadata": {
        "id": "X0o8FW1H-YkA",
        "colab": {
          "base_uri": "https://localhost:8080/"
        },
        "outputId": "71f50b7d-4639-4214-b6ec-b0f1635ccf6e"
      },
      "execution_count": null,
      "outputs": [
        {
          "output_type": "stream",
          "name": "stdout",
          "text": [
            "Ingrese la nota del estudiante: 3.9\n",
            "El estudiante fue reprobado\n",
            "Fin de la consulta\n"
          ]
        }
      ]
    },
    {
      "cell_type": "code",
      "source": [
        "# codigo con else donde esta errada la evalucion emite dos respuestas\n",
        "\n",
        "\n",
        "Mi_Nota = float(input('Ingrese la nota del estudiante: '))\n",
        "if Mi_Nota >= 7.0:\n",
        "  print('El estudiante fue aprobado')\n",
        "if 7 > Mi_Nota >= 5:\n",
        "  print('El estudiante va a recuperacion')\n",
        "else:\n",
        "  print('El estudiante fue reprobado')\n",
        "print('Fin de la consulta')"
      ],
      "metadata": {
        "colab": {
          "base_uri": "https://localhost:8080/"
        },
        "id": "IkiT6UHUKbm5",
        "outputId": "249826a6-d01a-4814-a7f1-99ba87b0302b"
      },
      "execution_count": null,
      "outputs": [
        {
          "output_type": "stream",
          "name": "stdout",
          "text": [
            "Ingrese la nota del estudiante: 8\n",
            "El estudiante fue aprobado\n",
            "El estudiante fue reprobado\n",
            "Fin de la consulta\n"
          ]
        }
      ]
    },
    {
      "cell_type": "code",
      "source": [],
      "metadata": {
        "id": "b0kDAxTgKbYK"
      },
      "execution_count": null,
      "outputs": []
    },
    {
      "cell_type": "markdown",
      "source": [
        "Ahora, nuestra institución educativa estableció que las personas que tengan el promedio entre 5.0 y 7.0 pueden participar del curso de **Recuperación** durante las vacaciones para lograr aprobar.\n",
        "\n",
        "Entonces podemos apoyarnos en un conjunto de `if`s para poder estructurar esta nueva condición."
      ],
      "metadata": {
        "id": "bD9O17HB6LUo"
      }
    },
    {
      "cell_type": "code",
      "source": [
        "Mi_Nota = float(input('Ingrese la nota del estudiante: '))\n",
        "if Mi_Nota >= 7.0:\n",
        "  print('El estudiante fue aprobado')\n",
        "if 7 > Mi_Nota >= 5:\n",
        "  print('El estudiante va a recuperacion')\n",
        "if Mi_Nota < 5:\n",
        "  print('El estudiante fue reprobado')\n",
        "print('Fin de la consulta')"
      ],
      "metadata": {
        "id": "G9cJ5O9--W52",
        "colab": {
          "base_uri": "https://localhost:8080/"
        },
        "outputId": "a24759ee-8ebf-4dbf-904e-c053d0df3ca3"
      },
      "execution_count": null,
      "outputs": [
        {
          "output_type": "stream",
          "name": "stdout",
          "text": [
            "Ingrese la nota del estudiante: 8\n",
            "El estudiante fue aprobado\n",
            "Fin de la consulta\n"
          ]
        }
      ]
    },
    {
      "cell_type": "code",
      "source": [
        "# codigo con else donde esta errada la evalucion emite dos respuestas\n",
        "\n",
        "\n",
        "Mi_Nota = float(input('Ingrese la nota del estudiante: '))\n",
        "if Mi_Nota >= 7.0:\n",
        "  print('El estudiante fue aprobado')\n",
        "if 7 > Mi_Nota >= 5:\n",
        "  print('El estudiante va a recuperacion')\n",
        "else:\n",
        "  print('El estudiante fue reprobado')\n",
        "print('Fin de la consulta')"
      ],
      "metadata": {
        "id": "iU-pjoJt-W89",
        "colab": {
          "base_uri": "https://localhost:8080/"
        },
        "outputId": "ac8a35cb-0b5b-44e9-ae3b-f8c797457302"
      },
      "execution_count": null,
      "outputs": [
        {
          "output_type": "stream",
          "name": "stdout",
          "text": [
            "Ingrese la nota del estudiante: 8\n",
            "El estudiante fue aprobado\n",
            "El estudiante fue reprobado\n",
            "Fin de la consulta\n"
          ]
        }
      ]
    },
    {
      "cell_type": "markdown",
      "source": [
        "Observa que en casos con 3 situaciones como este necesitamos definir bien nuestras condiciones. Pues, si realizamos una condición con `else` al final, este irá a considerar solamente la condición `if` inmediatamente anterior para generar la salida en caso de que el resultado de su operación lógica sea **falso** dando como resultado, dos o más ejecuciones.\n",
        "\n",
        "Por ejemplo:"
      ],
      "metadata": {
        "id": "D5e2mByjvycO"
      }
    },
    {
      "cell_type": "code",
      "source": [
        "Mi_Nota = float(input('Ingrese la nota del estudiante: '))\n",
        "if Mi_Nota >= 7.0:\n",
        "  print('El estudiante fue aprobado')\n",
        "if 7 > Mi_Nota >= 5:\n",
        "  print('El estudiante va a recuperacion')\n",
        "if Mi_Nota < 5:\n",
        "  print('El estudiante fue reprobado')\n",
        "print('Fin de la consulta')"
      ],
      "metadata": {
        "id": "C21JmOuK-VU8",
        "colab": {
          "base_uri": "https://localhost:8080/"
        },
        "outputId": "690c55ff-4568-4a07-d54d-5f12b8ab0bb7"
      },
      "execution_count": null,
      "outputs": [
        {
          "output_type": "stream",
          "name": "stdout",
          "text": [
            "Ingrese la nota del estudiante: 8\n",
            "El estudiante fue aprobado\n",
            "Fin de la consulta\n"
          ]
        }
      ]
    },
    {
      "cell_type": "code",
      "source": [
        "# codigo con else donde esta errada la evalucion emite dos respuestas\n",
        "\n",
        "\n",
        "Mi_Nota = float(input('Ingrese la nota del estudiante: '))\n",
        "if Mi_Nota >= 7.0:\n",
        "  print('El estudiante fue aprobado')\n",
        "if 7 > Mi_Nota >= 5:\n",
        "  print('El estudiante va a recuperacion')\n",
        "else:\n",
        "  print('El estudiante fue reprobado')\n",
        "print('Fin de la consulta')"
      ],
      "metadata": {
        "id": "bHiVgnPs-Vlv",
        "colab": {
          "base_uri": "https://localhost:8080/"
        },
        "outputId": "b28f4b8c-191d-4bcd-fe7e-d340e5ab9c33"
      },
      "execution_count": null,
      "outputs": [
        {
          "output_type": "stream",
          "name": "stdout",
          "text": [
            "Ingrese la nota del estudiante: 8\n",
            "El estudiante fue aprobado\n",
            "El estudiante fue reprobado\n",
            "Fin de la consulta\n"
          ]
        }
      ]
    },
    {
      "cell_type": "markdown",
      "source": [
        "## `ELIF`\n",
        "\n",
        "El comando `elif` es una palabra clave en Python que significa \"si no, si\" y lo podemos considerar una *contracción* entre `else` e `if`. Se utiliza en conjunto con la palabra clave `if` para formar una estructura condicional en cadena."
      ],
      "metadata": {
        "id": "04T5g-7h4zWx"
      }
    },
    {
      "cell_type": "markdown",
      "source": [
        "la sintaxis para utilizar el comando `elif` es:\n",
        "\n",
        "```\n",
        "if condicion1:\n",
        "    # Realiza algo\n",
        "elif condicion2:\n",
        "    # Realiza otra cosa\n",
        "elif condicion3:\n",
        "    # Realiza otra cosa\n",
        "else:\n",
        "    # Realiza algo diferente\n",
        "```\n",
        "\n",
        "El comando `elif` permite que puedas verificar varias condiciones en cadena, economizando espacio en tu código. Si la primera condición se evalúa como `False`, el interpretador de Python evaluará la próxima condición con el `elif`. Ello continuará hasta que una condición sea evaluada como `True` o hasta que el `else` sea alcazado. Si ninguna de las condiciones es evaluada como `True`, la ejecución del código del comando `else` será iniciada."
      ],
      "metadata": {
        "id": "rNBHr5mm1Lm6"
      }
    },
    {
      "cell_type": "markdown",
      "source": [
        "Vamos a emplear el mismo caso anterior:"
      ],
      "metadata": {
        "id": "MVoykFbB4bd4"
      }
    },
    {
      "cell_type": "code",
      "source": [
        "# codigo con else donde esta errada la evalucion emite dos respuestas, correccin con elif\n",
        "\n",
        "\n",
        "Mi_Nota = float(input('Ingrese la nota del estudiante: '))\n",
        "if Mi_Nota >= 7.0:\n",
        "  print('El estudiante fue aprobado')\n",
        "elif 7 > Mi_Nota >= 5:\n",
        "  print('El estudiante va a recuperacion')\n",
        "else:\n",
        "  print('El estudiante fue reprobado')\n",
        "print('Fin de la consulta')"
      ],
      "metadata": {
        "id": "QFamB78s-TW_",
        "colab": {
          "base_uri": "https://localhost:8080/"
        },
        "outputId": "52892ada-a888-401f-8da2-6617c63608e2"
      },
      "execution_count": null,
      "outputs": [
        {
          "output_type": "stream",
          "name": "stdout",
          "text": [
            "Ingrese la nota del estudiante: 8\n",
            "El estudiante fue aprobado\n",
            "Fin de la consulta\n"
          ]
        }
      ]
    },
    {
      "cell_type": "code",
      "source": [],
      "metadata": {
        "id": "nuScbnHF-TfK"
      },
      "execution_count": null,
      "outputs": []
    },
    {
      "cell_type": "markdown",
      "source": [
        "## Operadores\n",
        "\n",
        "Durante la construcción de comandos a veces necesitamos de una elaboración mayor de la expresión condicional, necesitando que algunos operadores lógicos se encuentren integrados."
      ],
      "metadata": {
        "id": "Tf1wSOem6iwZ"
      }
    },
    {
      "cell_type": "markdown",
      "source": [
        "### `AND`, `OR`, `NOT`\n",
        "\n",
        "Los operadores lógicos `and`, `or` y `not` son usados para combinar expresiones lógicas en Python. Ellos son usados frecuentemente en conjunto con el comando `if` para crear estructuras condicionales más complejas.\n"
      ],
      "metadata": {
        "id": "GFIZnRWXGPWO"
      }
    },
    {
      "cell_type": "markdown",
      "source": [
        "- `AND` es usado para verificar si dos condiciones son verdaderas. La expresión lógica¹ `x and y` se evalúa como `True` tan solo si **ambas condiciones `x` y `y` son verdaderas**, y como `False` en caso contrario.\n",
        "\n",
        "- `OR` es usado para verificar si al menos una de las condiciones es verdadera. La expresión lógica `x or y` se evalúa como `True` **si al menos una de las condiciones `x` o `y` es verdadera**, y como `False` si ambas condiciones son falsas.\n",
        "\n",
        "- `NOT` es usado para **negar una condición**. La expresión lógica `not x` es evaluada como `True` si la condición x es falsa, y como `False` si la condición x es verdadera.\n",
        "\n",
        "¹ Una expresión lógica es una declaración que puede ser evaluada como verdadera o falsa. Ella se compone por operandos lógicos² y por operadores lógicos³, que son usados ​​para combinar varias expresiones lógicas en una única expresión.\n",
        "\n",
        "² Los operandos lógicos son los elementos que son comparados o evaluados en una expresión lógica. Ellos son generalmente valores verdaderos o falsos, pero también pueden ser expresiones lógicas más complejas. En Python, los operandos lógicos son los valores `True` y `False`.\n",
        "\n",
        "³ Los operadores lógicos son ls símbolos o palabras clave que son usados ​​para combinar varias expresiones lógicas en una única expresión. En Python, los operadores lógicos son `and`, `or` y `not`, bien como las palabras clave `if`, `elif` e `else`."
      ],
      "metadata": {
        "id": "Z_dgAoHXJbzB"
      }
    },
    {
      "cell_type": "markdown",
      "source": [
        "> Operadores lógicos más comunes\n",
        "\n",
        "|a|b|AND|OR|NOT|\n",
        "|-|-|-|-|-|\n",
        "|0|0|0|0|1\n",
        "|0|1|0|1|-\n",
        "|1|0|0|1|-\n",
        "|1|1|1|1|0\n"
      ],
      "metadata": {
        "id": "2E5aUogf-49u"
      }
    },
    {
      "cell_type": "code",
      "source": [
        "Verdad = True\n",
        "Falso = False"
      ],
      "metadata": {
        "id": "DFKmpvmS-Pa6"
      },
      "execution_count": null,
      "outputs": []
    },
    {
      "cell_type": "code",
      "source": [
        "if Verdad and Falso:\n",
        "  print('Verdadero')\n",
        "else:\n",
        "  print('Falso')"
      ],
      "metadata": {
        "id": "W5BIrpOD-PeI",
        "colab": {
          "base_uri": "https://localhost:8080/"
        },
        "outputId": "8d1ea111-a552-4703-961c-f6c085e36469"
      },
      "execution_count": null,
      "outputs": [
        {
          "output_type": "stream",
          "name": "stdout",
          "text": [
            "Falso\n"
          ]
        }
      ]
    },
    {
      "cell_type": "code",
      "source": [
        "if Verdad or Falso:\n",
        "  print('Verdadero')\n",
        "else:\n",
        "  print('Falso')"
      ],
      "metadata": {
        "id": "fpDhYxq4-PiM",
        "colab": {
          "base_uri": "https://localhost:8080/"
        },
        "outputId": "768e61ab-7415-41ef-9d9b-f367e3e1cb71"
      },
      "execution_count": null,
      "outputs": [
        {
          "output_type": "stream",
          "name": "stdout",
          "text": [
            "Verdadero\n"
          ]
        }
      ]
    },
    {
      "cell_type": "code",
      "source": [
        "if not Falso:\n",
        "  print('Verdadero')\n",
        "else:\n",
        "  print('Falso')"
      ],
      "metadata": {
        "colab": {
          "base_uri": "https://localhost:8080/"
        },
        "id": "0ByGEfbeRbvs",
        "outputId": "d333f24b-c00c-4377-9883-b8f531ae3a50"
      },
      "execution_count": null,
      "outputs": [
        {
          "output_type": "stream",
          "name": "stdout",
          "text": [
            "Verdadero\n"
          ]
        }
      ]
    },
    {
      "cell_type": "markdown",
      "source": [
        "### `IN`\n",
        "\n",
        "Es usado para verificar si un elemento está presente en una lista, tupla u otra colección de conjunto. La expresión `x in y` se evalúa como `True` si el elemento `x` esta presente na variávelen la variable de conjunto `y`, y como `False` en caso contrario."
      ],
      "metadata": {
        "id": "w7EXG1dhWtja"
      }
    },
    {
      "cell_type": "markdown",
      "source": [
        "Podemos verificarlo con variables de texto.\n",
        "\n",
        "---\n",
        "\n",
        "**Situación:**\n",
        "\n",
        "En la escuela nos entregaron una lista con nombres de estudiantes que fueron aprobados según el promedio del semestre, pero es necesario verificar si algunos nombres están en esa lista para confirmar que los datos estén correctos.\n",
        "\n",
        "La lista distribuida puede ser observada a continuación:\n",
        "\n",
        "```\n",
        "lista = 'Juan Pérez, María González, Pedro Rodríguez, Ana López, Carlos Martínez,\n",
        "    Laura Sánchez, José García, Elena Fernández, Luis Morales, Carmen Torres,\n",
        "    David Ruiz, Isabel Ramírez, Javier Díaz, Sara Herrera, Miguel Castro,\n",
        "    Patricia Ortega, Francisco Vargas, Marta Jiménez, Manuel Medina, Rosa Molina,\n",
        "    Alejandro Silva, Silvia Ruiz, Andrés Torres, Natalia Soto, Diego Guerrero,\n",
        "    Paula Ríos, Ricardo Navarro, Alicia Cordero, Carlos Vidal, Lorena Gómez'\n",
        "```\n",
        "\n",
        "Los nombres que necesitas verificar son los siguientes:\n",
        "\n",
        "```\n",
        "nombre_1 = 'Miguel Castro'\n",
        "nombre_2 = 'Marcelo Noguera'\n",
        "```"
      ],
      "metadata": {
        "id": "enJNp6JenQbq"
      }
    },
    {
      "cell_type": "code",
      "source": [
        "lista_uno = 'Juan Pérez, María González, Pedro Rodríguez, Ana López, Carlos Martínez, Laura Sánchez, José García, Elena Fernández, Luis Morales, Carmen Torres, David Ruiz, Isabel Ramírez, Javier Díaz, Sara Herrera, Miguel Castro, Patricia Ortega, Francisco Vargas, Marta Jiménez, Manuel Medina, Rosa Molina, Alejandro Silva, Silvia Ruiz, Andrés Torres, Natalia Soto, Diego Guerrero, Paula Ríos, Ricardo Navarro, Alicia Cordero, Carlos Vidal, Lorena Gómez'\n",
        "print(lista_uno)"
      ],
      "metadata": {
        "id": "gPPN9BCT-Mki",
        "colab": {
          "base_uri": "https://localhost:8080/"
        },
        "outputId": "0eb7c1b2-7e7d-4e01-fbb2-931c80392bc6"
      },
      "execution_count": null,
      "outputs": [
        {
          "output_type": "stream",
          "name": "stdout",
          "text": [
            "Juan Pérez, María González, Pedro Rodríguez, Ana López, Carlos Martínez, Laura Sánchez, José García, Elena Fernández, Luis Morales, Carmen Torres, David Ruiz, Isabel Ramírez, Javier Díaz, Sara Herrera, Miguel Castro, Patricia Ortega, Francisco Vargas, Marta Jiménez, Manuel Medina, Rosa Molina, Alejandro Silva, Silvia Ruiz, Andrés Torres, Natalia Soto, Diego Guerrero, Paula Ríos, Ricardo Navarro, Alicia Cordero, Carlos Vidal, Lorena Gómez\n"
          ]
        }
      ]
    },
    {
      "cell_type": "code",
      "source": [
        "Nombre_uno = 'Miguel Castro'\n",
        "Nombre_dos = 'Marcelo Noguera'"
      ],
      "metadata": {
        "id": "GINbG3Fa-Mnb"
      },
      "execution_count": null,
      "outputs": []
    },
    {
      "cell_type": "code",
      "source": [
        "if Nombre_uno in lista_uno:\n",
        "  print(f'El nombre {Nombre_uno} esta en la lista')\n",
        "else:\n",
        "  print(f'El nombre {Nombre_uno} no esta en la lista')"
      ],
      "metadata": {
        "id": "hk-RhNRT-Mp7",
        "colab": {
          "base_uri": "https://localhost:8080/"
        },
        "outputId": "47b8f54a-a126-481e-f3b4-436ce40e97ae"
      },
      "execution_count": null,
      "outputs": [
        {
          "output_type": "stream",
          "name": "stdout",
          "text": [
            "El nombre Miguel Castro esta en la lista\n"
          ]
        }
      ]
    },
    {
      "cell_type": "code",
      "source": [
        "if Nombre_dos in lista_uno:\n",
        "  print(f'El nombre {Nombre_dos} esta en la lista, aprobado ')\n",
        "else:\n",
        "  print(f'El nombre {Nombre_dos} no esta en la lista, reprobado')"
      ],
      "metadata": {
        "colab": {
          "base_uri": "https://localhost:8080/"
        },
        "id": "fQaSoe2aTc4L",
        "outputId": "3d032874-82d5-4f3f-bd7b-09af765540b3"
      },
      "execution_count": null,
      "outputs": [
        {
          "output_type": "stream",
          "name": "stdout",
          "text": [
            "El nombre Marcelo Noguera no esta en la lista, reprobado\n"
          ]
        }
      ]
    },
    {
      "cell_type": "markdown",
      "source": [
        "#**Desafio: ¡Es hora de practicar!**#"
      ],
      "metadata": {
        "id": "oaz1JaLyUtLY"
      }
    },
    {
      "cell_type": "code",
      "source": [
        "Uno_numero = float(input('Ingrese el primer numero: '))\n",
        "Dos_numero = float(input('Ingrese el segundo numero: '))\n",
        "if Uno_numero > Dos_numero:\n",
        "  print(f'El priemero numero {Uno_numero} es mayor que el segundo numero {Dos_numero}')\n",
        "elif Uno_numero < Dos_numero:\n",
        "  print(f'El segundo numero {Dos_numero} es mayor que el primer numero {Uno_numero}')\n",
        "else:\n",
        "  print(f'El primer numero {Uno_numero} y el segundo nmero {Dos_numero} son iguales')\n",
        "print ('Fin de la consulta')"
      ],
      "metadata": {
        "colab": {
          "base_uri": "https://localhost:8080/"
        },
        "id": "O2kgLABIU7lK",
        "outputId": "3ec33048-a676-42e9-9c83-f5483ba8879b"
      },
      "execution_count": null,
      "outputs": [
        {
          "output_type": "stream",
          "name": "stdout",
          "text": [
            "Ingrese el primer numero: 32454.6489\n",
            "Ingrese el segundo numero: 9865465464.25654\n",
            "El segundo numero 9865465464.25654 es mayor que el primer numero 32454.6489\n",
            "Fin de la consulta\n"
          ]
        }
      ]
    },
    {
      "cell_type": "code",
      "source": [
        "Porcentaje_Crec = float(input('Ingrese el porcentaje de crecimiento: '))\n",
        "if Porcentaje_Crec > 0:\n",
        "  print(f'El porcentaje de crecimiento {Porcentaje_Crec}% es positivo')\n",
        "elif Porcentaje_Crec < 0:\n",
        "  print(f'El porcentaje de crecimiento {Porcentaje_Crec}% es negativo')\n",
        "else:\n",
        "  print(f'El porcentaje de crecimiento {Porcentaje_Crec}% es cero')\n",
        "print ('Fin de la consulta')"
      ],
      "metadata": {
        "colab": {
          "base_uri": "https://localhost:8080/"
        },
        "id": "_SoBnBpNX9Dr",
        "outputId": "fbd24331-cf4c-44d3-b068-61edc7d5ba0e"
      },
      "execution_count": null,
      "outputs": [
        {
          "output_type": "stream",
          "name": "stdout",
          "text": [
            "Ingrese el porcentaje de crecimiento: 0\n",
            "El porcentaje de crecimiento 0.0% es cero\n",
            "Fin de la consulta\n"
          ]
        }
      ]
    },
    {
      "cell_type": "code",
      "source": [
        "Letra_usuario = input('Ingrese una letra: ')\n",
        "if Letra_usuario.lower() in ['a', 'e', 'i', 'o', 'u']:\n",
        "  print(f'La letra \" {Letra_usuario} \" es una vocal')\n",
        "elif Letra_usuario.lower() in ['b', 'c', 'd', 'f', 'g', 'h', 'j', 'k', 'l', 'll', 'm', 'n', 'ñ','p', 'q', 'r', 's', 't', 'v', 'w', 'x', 'y', 'z']:\n",
        "  print(f'La letra \" {Letra_usuario} \" es una consonante')\n",
        "else:\n",
        "  print(f'La letra \" {Letra_usuario} \" no es letra es simbolo')\n",
        "print ('Fin de la consulta')"
      ],
      "metadata": {
        "colab": {
          "base_uri": "https://localhost:8080/"
        },
        "id": "I9b0ylZdb5L1",
        "outputId": "94c2008d-fd99-4f60-fd84-17a4503f4de4"
      },
      "execution_count": null,
      "outputs": [
        {
          "output_type": "stream",
          "name": "stdout",
          "text": [
            "Ingrese una letra: Ñ\n",
            "La letra \" Ñ \" es una consonante\n",
            "Fin de la consulta\n"
          ]
        }
      ]
    },
    {
      "cell_type": "code",
      "source": [
        "Precio_Prom_año_uno = float(input('Ingrese el precio promedio del año 1: '))\n",
        "Precio_Prom_año_dos = float(input('Ingrese el precio promedio del año 2: '))\n",
        "Precio_Prom_año_tres = float(input('Ingrese el precio promedio del año 3: '))\n",
        "if Precio_Prom_año_uno > Precio_Prom_año_dos and Precio_Prom_año_uno > Precio_Prom_año_tres:\n",
        "  print(f'El precio promedio del año 1 {Precio_Prom_año_uno} es el mayor')\n",
        "elif Precio_Prom_año_dos > Precio_Prom_año_uno and Precio_Prom_año_dos > Precio_Prom_año_tres:\n",
        "  print(f'El precio promedio del año 2 {Precio_Prom_año_dos} es el mayor')\n",
        "elif Precio_Prom_año_tres > Precio_Prom_año_uno and Precio_Prom_año_tres > Precio_Prom_año_dos:\n",
        "  print(f'El precio promedio del año 3 {Precio_Prom_año_tres} es el mayor')\n",
        "elif Precio_Prom_año_uno < Precio_Prom_año_dos and Precio_Prom_año_uno < Precio_Prom_año_tres:\n",
        "  print(f'El precio promedio del año 1 {Precio_Prom_año_uno} es el menor')\n",
        "elif Precio_Prom_año_dos < Precio_Prom_año_uno and Precio_Prom_año_dos < Precio_Prom_año_tres:\n",
        "  print(f'El precio promedio del año 2 {Precio_Prom_año_dos} es el menor')\n",
        "elif Precio_Prom_año_tres > Precio_Prom_año_uno and Precio_Prom_año_tres > Precio_Prom_año_dos:\n",
        "  print(f'El precio promedio del año 3 {Precio_Prom_año_tres} es el menor')\n",
        "else:\n",
        "  print(f'El precio promedio del año 3 {Precio_Prom_año_tres}El precio promedio del año 2 {Precio_Prom_año_dos} El precio promedio del año 1 {Precio_Prom_año_uno} son iguales')\n",
        "print ('Fin de la consulta')"
      ],
      "metadata": {
        "colab": {
          "base_uri": "https://localhost:8080/"
        },
        "id": "VqQZ7FLwb4w9",
        "outputId": "f916ea7b-7ed0-4894-8e5a-5660bb191deb"
      },
      "execution_count": null,
      "outputs": [
        {
          "output_type": "stream",
          "name": "stdout",
          "text": [
            "Ingrese el precio promedio del año 1: 900\n",
            "Ingrese el precio promedio del año 2: 900\n",
            "Ingrese el precio promedio del año 3: 900\n",
            "El precio promedio del año 3 900.0El precio promedio del año 2 900.0 El precio promedio del año 1 900.0 son iguales\n",
            "Fin de la consulta\n"
          ]
        }
      ]
    },
    {
      "cell_type": "code",
      "source": [
        "Precio_Prom_año_uno = float(input('Ingrese el precio promedio del año 1: '))\n",
        "Precio_Prom_año_dos = float(input('Ingrese el precio promedio del año 2: '))\n",
        "Precio_Prom_año_tres = float(input('Ingrese el precio promedio del año 3: '))\n",
        "Precio_mayor = max(Precio_Prom_año_uno, Precio_Prom_año_dos, Precio_Prom_año_tres)\n",
        "print(f'El precio mayor es : {Precio_mayor}')\n",
        "Precio_menor = min(Precio_Prom_año_uno, Precio_Prom_año_dos, Precio_Prom_año_tres)\n",
        "print(f'El precio mayor es : {Precio_menor}')\n",
        "if Precio_Prom_año_dos == Precio_Prom_año_uno and Precio_Prom_año_uno == Precio_Prom_año_tres:\n",
        "  print(f'El precio promedio del año 3 {Precio_Prom_año_tres}El precio promedio del año 2 {Precio_Prom_año_dos} El precio promedio del año 1 {Precio_Prom_año_uno}')\n",
        "print ('Fin de la consulta')"
      ],
      "metadata": {
        "colab": {
          "base_uri": "https://localhost:8080/"
        },
        "id": "xJwVKmdLb4sG",
        "outputId": "78ada8ca-c2f6-451e-9c35-2b7f1aa7d397"
      },
      "execution_count": null,
      "outputs": [
        {
          "output_type": "stream",
          "name": "stdout",
          "text": [
            "Ingrese el precio promedio del año 1: 100.2\n",
            "Ingrese el precio promedio del año 2: 500.5\n",
            "Ingrese el precio promedio del año 3: 900.2\n",
            "El precio mayor es : 900.2\n",
            "El precio mayor es : 100.2\n",
            "Fin de la consulta\n"
          ]
        }
      ]
    },
    {
      "cell_type": "code",
      "source": [
        "Precio_Prom_año_uno = float(input('Ingrese el precio promedio del año 1: '))\n",
        "Precio_Prom_año_dos = float(input('Ingrese el precio promedio del año 2: '))\n",
        "Precio_Prom_año_tres = float(input('Ingrese el precio promedio del año 3: '))\n",
        "Precio_mayor = Precio_Prom_año_uno\n",
        "if Precio_Prom_año_dos > Precio_mayor:\n",
        "  Precio_mayor = Precio_Prom_año_dos\n",
        "if Precio_Prom_año_tres > Precio_mayor:\n",
        "  Precio_mayor = Precio_Prom_año_tres\n",
        "Precio_menor = Precio_Prom_año_uno\n",
        "if Precio_Prom_año_dos < Precio_menor:\n",
        "  Precio_menor = Precio_Prom_año_dos\n",
        "if Precio_Prom_año_tres < Precio_menor:\n",
        "  Precio_menor = Precio_Prom_año_tres\n",
        "print(f'El precio más alto fue de COP$ {Precio_mayor}.')\n",
        "print(f'El precio más bajo fue de COP$ {Precio_menor}.')\n",
        "if Precio_Prom_año_dos == Precio_Prom_año_uno and Precio_Prom_año_uno == Precio_Prom_año_tres:\n",
        "  print(f'El precio promedio del año 3 {Precio_Prom_año_tres} El precio promedio del año 2 {Precio_Prom_año_dos} El precio promedio del año 1 {Precio_Prom_año_uno} son iguales')\n",
        "print ('Fin de la consulta')"
      ],
      "metadata": {
        "colab": {
          "base_uri": "https://localhost:8080/"
        },
        "id": "k_Q0sctCb4m5",
        "outputId": "b04622f9-737e-47d3-f805-360417220df1"
      },
      "execution_count": null,
      "outputs": [
        {
          "output_type": "stream",
          "name": "stdout",
          "text": [
            "Ingrese el precio promedio del año 1: 21\n",
            "Ingrese el precio promedio del año 2: 21\n",
            "Ingrese el precio promedio del año 3: 1000\n",
            "El precio más alto fue de R$ 1000.0.\n",
            "El precio más bajo fue de R$ 21.0.\n",
            "Fin de la consulta\n"
          ]
        }
      ]
    },
    {
      "cell_type": "code",
      "source": [
        "Precio_produc_uno = float(input('Ingrese el precio del producto 1: '))\n",
        "Precio_produc_dos = float(input('Ingrese el precio del producto 2: '))\n",
        "Precio_produc_tres = float(input('Ingrese el precio del producto 3: '))\n",
        "if Precio_produc_uno < Precio_produc_dos and Precio_produc_uno < Precio_produc_tres:\n",
        "  print(f'El producto 1 tiene el menor precio de R$ {Precio_produc_uno}')\n",
        "elif Precio_produc_dos < Precio_produc_uno and Precio_produc_dos < Precio_produc_tres:\n",
        "  print(f'El producto 2 tiene el menor precio de COP$ {Precio_produc_dos}')\n",
        "else:\n",
        "  print(f'El producto 3 tiene el menor precio de COP$ {Precio_produc_tres}')\n",
        "print ('Fin de la consulta')"
      ],
      "metadata": {
        "colab": {
          "base_uri": "https://localhost:8080/"
        },
        "id": "XdMASv-3b4iZ",
        "outputId": "e21aed12-f7f2-4ea3-c884-1ea8ea21b3af"
      },
      "execution_count": null,
      "outputs": [
        {
          "output_type": "stream",
          "name": "stdout",
          "text": [
            "Ingrese el precio del producto 1: 987.25\n",
            "Ingrese el precio del producto 2: 257.85\n",
            "Ingrese el precio del producto 3: 101.23\n",
            "El producto 3 tiene el menor precio de COP$ 101.23\n",
            "Fin de la consulta\n"
          ]
        }
      ]
    },
    {
      "cell_type": "code",
      "source": [
        "Num_uno = float(input('Ingrese el primer numero: '))\n",
        "Num_dos = float(input('Ingrese el segundo numero: '))\n",
        "Num_tres = float(input('Ingrese el tercer numero: '))\n",
        "\n",
        "Num_mayor = Num_uno\n",
        "if Num_dos > Num_mayor:\n",
        "  Num_mayor = Num_dos\n",
        "if Num_tres > Num_mayor:\n",
        "  Num_mayor = Num_tres\n",
        "\n",
        "num_menor = Num_uno\n",
        "if Num_dos < num_menor:\n",
        "  num_menor = Num_dos\n",
        "if Num_tres < num_menor:\n",
        "  num_menor = Num_tres\n",
        "\n",
        "num_medio = Num_uno\n",
        "if Num_mayor == Num_uno and num_menor == Num_tres:\n",
        "  num_medio = Num_dos\n",
        "elif Num_mayor == Num_uno and num_menor == Num_dos:\n",
        "  num_medio = Num_tres\n",
        "elif Num_mayor == Num_dos and num_menor == Num_tres:\n",
        "  num_medio = Num_uno\n",
        "else:\n",
        "  print(f'El numero {Num_mayor} > el numero {num_medio} > el numero {num_menor}')\n",
        "\n",
        "\n",
        "print(f'El numero {Num_mayor} > el numero {num_medio} > el numero {num_menor}')\n",
        "\n",
        "print('Fin de la consulta')"
      ],
      "metadata": {
        "colab": {
          "base_uri": "https://localhost:8080/"
        },
        "id": "PbY7pTBvb4dv",
        "outputId": "944c9538-f7b3-405c-c81e-48f580e4b9db"
      },
      "execution_count": null,
      "outputs": [
        {
          "output_type": "stream",
          "name": "stdout",
          "text": [
            "Ingrese el primer numero: 9.8\n",
            "Ingrese el segundo numero: 7.5\n",
            "Ingrese el tercer numero: 6.3\n",
            "El numero 9.8 > el numero 7.5 > el numero 6.3\n",
            "Fin de la consulta\n"
          ]
        }
      ]
    },
    {
      "cell_type": "code",
      "source": [
        "Num_uno = float(input('Ingrese el primer numero: '))\n",
        "Num_dos = float(input('Ingrese el segundo numero: '))\n",
        "Num_tres = float(input('Ingrese el tercer numero: '))\n",
        "if Num_uno > Num_dos and Num_uno > Num_tres:\n",
        "  if Num_dos > Num_tres:\n",
        "    print(f'El numero {Num_uno} > el numero {Num_dos} > el numero {Num_tres}')\n",
        "  else:\n",
        "    print(f'El numero {Num_uno} > el numero {Num_tres} > el numero {Num_dos}')\n",
        "elif Num_dos > Num_uno and Num_dos > Num_tres:\n",
        "  if Num_uno > Num_tres:\n",
        "    print(f'El numero {Num_dos} > el numero {Num_uno} > el numero {Num_tres}')\n",
        "  else:\n",
        "    print(f'El numero {Num_dos} > el numero {Num_tres} > el numero {Num_uno}')\n",
        "else:\n",
        "  if Num_uno > Num_dos:\n",
        "    print(f'El numero {Num_tres} > el numero {Num_uno} > el numero {Num_dos}')\n",
        "  else:\n",
        "    print(f'El numero {Num_tres} > el numero {Num_dos} > el numero {Num_uno}')\n",
        "print('Fin de la consulta')"
      ],
      "metadata": {
        "colab": {
          "base_uri": "https://localhost:8080/"
        },
        "id": "Ix2DxARfb4Ys",
        "outputId": "365bf3dd-750a-41c5-d1dd-9b93941d202f"
      },
      "execution_count": null,
      "outputs": [
        {
          "output_type": "stream",
          "name": "stdout",
          "text": [
            "Ingrese el primer numero: 987.21\n",
            "Ingrese el segundo numero: 1024.89\n",
            "Ingrese el tercer numero: 2057.39\n",
            "El numero 2057.39 > el numero 1024.89 > el numero 987.21\n",
            "Fin de la consulta\n"
          ]
        }
      ]
    },
    {
      "cell_type": "code",
      "source": [
        "Turno_trabajo = input('Ecribe el turno de trabajo que te corresponde \\n\\t Mañana o Tarde o Noche ')\n",
        "Turno_trabajo = Turno_trabajo.lower().strip()\n",
        "if Turno_trabajo == 'mañana':\n",
        "  print (f'el turno ingresado fue \"{Turno_trabajo}\"')\n",
        "  print('Buenos dias')\n",
        "elif Turno_trabajo == 'tarde':\n",
        "  print (f'el turno ingresado fue \"{Turno_trabajo}\"')\n",
        "  print('Buenas tardes')\n",
        "elif Turno_trabajo == 'noche':\n",
        "  print (f'el turno ingresado fue \"{Turno_trabajo}\"')\n",
        "  print('Buenas noches')\n",
        "else:\n",
        "  print('El turno ingersado es incorrecto')\n",
        "print('Fin de la consulta')\n"
      ],
      "metadata": {
        "id": "eqTGdM6Hb4OG",
        "colab": {
          "base_uri": "https://localhost:8080/"
        },
        "outputId": "7caa4374-3d78-4d81-ca56-253d79b437b2"
      },
      "execution_count": null,
      "outputs": [
        {
          "output_type": "stream",
          "name": "stdout",
          "text": [
            "Ecribe el turno de trabajo que te corresponde \n",
            "\t Mañana o Tarde o Noche  noCHE\n",
            "el turno ingresado fue \"noche\"\n",
            "Buenas noches\n",
            "Fin de la consulta\n"
          ]
        }
      ]
    },
    {
      "cell_type": "code",
      "source": [
        "Numero_par_impar = int(input('Ingrrese un numero recuerd que debe ser entero : '))\n",
        "if Numero_par_impar % 2 == 0:\n",
        "  print(f'El numero {Numero_par_impar} es un numero par')\n",
        "else:\n",
        "  print(f'El numero {Numero_par_impar} es un numero impar')\n",
        "print('\\n\\tFin de la consulta')"
      ],
      "metadata": {
        "id": "LKeEE5Khb4BK",
        "colab": {
          "base_uri": "https://localhost:8080/"
        },
        "outputId": "4b09af39-7ba8-4f85-f6e3-c0a15b83ab1d"
      },
      "execution_count": null,
      "outputs": [
        {
          "output_type": "stream",
          "name": "stdout",
          "text": [
            "Ingrrese un numero recuerd que debe ser entero : 15\n",
            "El numero 15 es un numero impar\n",
            "\n",
            "\tFin de la consulta\n"
          ]
        }
      ]
    },
    {
      "cell_type": "code",
      "source": [
        "Numero_entero_decimal = float(input('Ingrrese un numero : '))\n",
        "if Numero_entero_decimal % 1 == 0:\n",
        "  print(f'El numero {Numero_entero_decimal} es un numero entero')\n",
        "else:\n",
        "  print(f'El numero {Numero_entero_decimal} es un numero decimal')\n",
        "print('\\n\\tFin de la consulta')"
      ],
      "metadata": {
        "colab": {
          "base_uri": "https://localhost:8080/"
        },
        "id": "zjVr1SBuCvy-",
        "outputId": "0434c2b8-af8a-42e5-d5be-460cedd934be"
      },
      "execution_count": null,
      "outputs": [
        {
          "output_type": "stream",
          "name": "stdout",
          "text": [
            "Ingrrese un numero : 0.22222\n",
            "El numero 0.22222 es un numero decimal\n",
            "\n",
            "\tFin de la consulta\n"
          ]
        }
      ]
    },
    {
      "cell_type": "code",
      "source": [
        "Lado_Trinagulo_uno = float(input('Ingrese el primer lado del triangulo: '))\n",
        "Lado_Trinagulo_dos = float(input('Ingrese el segundo lado del triangulo: '))\n",
        "Lado_Trinagulo_tres = float(input('Ingrese el tercer lado del triangulo: '))\n",
        "if ((Lado_Trinagulo_uno+Lado_Trinagulo_dos) > Lado_Trinagulo_tres) and ((Lado_Trinagulo_uno+Lado_Trinagulo_tres) > Lado_Trinagulo_dos) and ((Lado_Trinagulo_dos + Lado_Trinagulo_tres) > Lado_Trinagulo_uno):\n",
        "  print('\\nLos 7lados ingresados si forman un triangulo es valido')\n",
        "  if Lado_Trinagulo_uno == Lado_Trinagulo_dos == Lado_Trinagulo_tres:\n",
        "    print('\\nEl triangulo es equilatero')\n",
        "  elif Lado_Trinagulo_uno == Lado_Trinagulo_dos or Lado_Trinagulo_uno == Lado_Trinagulo_tres or Lado_Trinagulo_dos == Lado_Trinagulo_tres:\n",
        "    print('\\nEl triangulo es isoceles')\n",
        "  else:\n",
        "    print('\\nEl triangulo es escaleno')\n",
        "else:\n",
        "  print('Los lados ingresados no forman un triangulo')\n",
        "print('\\n\\tFin de la consulta')"
      ],
      "metadata": {
        "colab": {
          "base_uri": "https://localhost:8080/"
        },
        "id": "-AwvDlYSEuMm",
        "outputId": "53510b2b-c271-420a-f60a-214ae2a00b10"
      },
      "execution_count": null,
      "outputs": [
        {
          "output_type": "stream",
          "name": "stdout",
          "text": [
            "Ingrese el primer lado del triangulo: 7\n",
            "Ingrese el segundo lado del triangulo: 8\n",
            "Ingrese el tercer lado del triangulo: 9\n",
            "\n",
            "Los 7lados ingresados si forman un triangulo es valido\n",
            "\n",
            "El triangulo es escaleno\n",
            "\n",
            "\tFin de la consulta\n"
          ]
        }
      ]
    },
    {
      "cell_type": "code",
      "source": [
        "Litros_combustible_vendidos = float(input('Ingrese la cantidad de litros de combustible: '))\n",
        "Tipo_combustible = input('Ingrese el tipo de combustible:\\n digite \"E\" para etanol \\n digite \"D\" para DIESEL: ')\n",
        "Tipo_combustible = Tipo_combustible.upper().strip()\n",
        "Precio_Etanol_xLitro = 1.70\n",
        "Precio_Diesel_xLitro = 2.00\n",
        "Precio_total_Combustible_vendido = 0.00\n",
        "if Tipo_combustible == 'E' and Litros_combustible_vendidos <= 15:\n",
        "# Aplica descuento del  2%\n",
        "  Precio_total_Combustible_vendido = Litros_combustible_vendidos * Precio_Etanol_xLitro*0.98\n",
        "  print(f'El precio por litro del etanol es COP$ {Precio_Etanol_xLitro}')\n",
        "  print(f'El precio total a pagar es de COP$ {Precio_total_Combustible_vendido} para etanol con un descuento del 2%')\n",
        "\n",
        "elif Tipo_combustible == 'E' and Litros_combustible_vendidos > 15:\n",
        "# Aplica decuento del 4%\n",
        "  Precio_total_Combustible_vendido = Litros_combustible_vendidos * Precio_Etanol_xLitro*0.96\n",
        "  print(f'El precio por litro del etanol es COP$ {Precio_Etanol_xLitro}')\n",
        "  print(f'El precio total a pagar es de COP$ {Precio_total_Combustible_vendido} para etanol con un descuento del 2%')\n",
        "\n",
        "elif Tipo_combustible == 'D' and Litros_combustible_vendidos <= 15:\n",
        "# Aplica descuento del  3%\n",
        "  Precio_total_Combustible_vendido = Litros_combustible_vendidos * Precio_Diesel_xLitro*0.97\n",
        "  print(f'El precio por litro del diesel es COP$ {Precio_Diesel_xLitro}')\n",
        "  print(f'El precio total a pagar es de COP$ {Precio_total_Combustible_vendido} para diesel con un descuento del 3%')\n",
        "elif Tipo_combustible == 'D' and Litros_combustible_vendidos > 15:\n",
        "# Aplica decuento del 5%\n",
        "  Precio_total_Combustible_vendido = Litros_combustible_vendidos * Precio_Diesel_xLitro*0.95\n",
        "  print(f'El precio por litro del diesel es COP$ {Precio_Diesel_xLitro}')\n",
        "  print(f'El precio total a pagar es de COP$ {Precio_total_Combustible_vendido} para diesel con un descuento del 5%')\n",
        "\n",
        "else:\n",
        "  print('No cumple reuisistos de descuento')\n",
        "\n",
        "print('\\n\\tFin de la consulta')\n"
      ],
      "metadata": {
        "colab": {
          "base_uri": "https://localhost:8080/"
        },
        "id": "XjYNKY4CFwQk",
        "outputId": "eea5a13b-fbfd-4412-f6a9-217cb6044200"
      },
      "execution_count": null,
      "outputs": [
        {
          "output_type": "stream",
          "name": "stdout",
          "text": [
            "Ingrese la cantidad de litros de combustible: 20\n",
            "Ingrese el tipo de combustible:\n",
            " digite \"E\" para etanol \n",
            " digite \"D\" para DIESEL: E\n",
            "El precio por litro del etanol es COP$ 1.7\n",
            "El precio total a pagar es de COP$ 32.64 para etanol con un descuento del 2%\n",
            "\n",
            "\tFin de la consulta\n"
          ]
        }
      ]
    },
    {
      "cell_type": "code",
      "source": [
        "CAnt_ventas_2022 = float(input('Ingrese la cantidad de ventas del año 2022: '))\n",
        "CAnt_ventas_2023 = float(input('Ingrese la cantidad de ventas del año 2023: '))\n",
        "Variacion_Porcentual = ((CAnt_ventas_2023 - CAnt_ventas_2022) / CAnt_ventas_2022) * 100\n",
        "\n",
        "print(f'La variacion porcentual entre el año 2022 y 2023 es de {Variacion_Porcentual}%')\n",
        "if  Variacion_Porcentual > 20:\n",
        "  print('El año 2023 fue  mas rentable que el 2022 \\n\\t Gran Bono para el grupoi de ventas')\n",
        "elif 2 <= Variacion_Porcentual <= 20:\n",
        "  print('El año 2023 fue poco mas rentable que el 2022 \\n\\t Pequeño Bono para el grupoi de ventas')\n",
        "elif 2 > Variacion_Porcentual >= -10:\n",
        "  print('El año 2023 fue menos rentable que el 2022 \\n\\t Planificacion de politicas de ventas')\n",
        "elif -10 > Variacion_Porcentual :\n",
        "  print('El año 2023 fue menos rentable que el 2022 \\n\\t Recorte de gastos')\n",
        "else:\n",
        "  print('No cumple con varicion ')\n",
        "\n",
        "print('\\n\\tFin de la consulta')\n"
      ],
      "metadata": {
        "colab": {
          "base_uri": "https://localhost:8080/"
        },
        "id": "Eo6TXyT4lH_L",
        "outputId": "83e6ed8b-0907-4d64-aa96-7aa040e39212"
      },
      "execution_count": null,
      "outputs": [
        {
          "output_type": "stream",
          "name": "stdout",
          "text": [
            "Ingrese la cantidad de ventas del año 2022: 200\n",
            "Ingrese la cantidad de ventas del año 2023: 190\n",
            "La variacion porcentual entre el año 2022 y 2023 es de -5.0%\n",
            "El año 2023 fue menos rentable que el 2022 \n",
            "\t Planificacion de politicas de ventas\n",
            "\n",
            "\tFin de la consulta\n"
          ]
        }
      ]
    },
    {
      "cell_type": "code",
      "source": [],
      "metadata": {
        "id": "LB0QnbSclHuf"
      },
      "execution_count": null,
      "outputs": []
    },
    {
      "cell_type": "code",
      "source": [],
      "metadata": {
        "id": "Ge094zPWlHgo"
      },
      "execution_count": null,
      "outputs": []
    },
    {
      "cell_type": "code",
      "source": [],
      "metadata": {
        "id": "hD1mNmiOlHR2"
      },
      "execution_count": null,
      "outputs": []
    },
    {
      "cell_type": "markdown",
      "source": [
        "# Estructuras de repetición"
      ],
      "metadata": {
        "id": "aL1vJPewvwvz"
      }
    },
    {
      "cell_type": "markdown",
      "source": [
        "Cuando tenemos que ejecutar un mismo bloque de comandos durante varias ocasiones no es nada práctico hacerlo a mano.\n",
        "\n",
        "**Situación**: Nos fue solicitado obtener e imprimir el promedio de 2 notas de **3 estudantes**:"
      ],
      "metadata": {
        "id": "VcPfCa8d-84t"
      }
    },
    {
      "cell_type": "code",
      "source": [
        "\"\"\"\n",
        "Promedio de notas de tres estudiante con tres notas\n",
        "\"\"\"\n",
        "\n",
        "Notaa_1 = float(input('Ingrese la nota del estudiante 1: '))\n",
        "Notaa_2 = float(input('Ingrese la nota del estudiante 2: '))\n",
        "Notaa_3 = float(input('Ingrese la nota del estudiante 3: '))\n",
        "\n",
        "print(f'El promedio de las tres notas del estudiante 1 es = {(Notaa_1+Notaa_2+Notaa_3)/3}')\n",
        "\n",
        "Notaa_1 = float(input('Ingrese la nota del estudiante 1: '))\n",
        "Notaa_2 = float(input('Ingrese la nota del estudiante 2: '))\n",
        "Notaa_3 = float(input('Ingrese la nota del estudiante 3: '))\n",
        "\n",
        "print(f'El promedio de las tres notas del estudiante 2 es = {(Notaa_1+Notaa_2+Notaa_3)/3}')\n",
        "\n",
        "Notaa_1 = float(input('Ingrese la nota del estudiante 1: '))\n",
        "Notaa_2 = float(input('Ingrese la nota del estudiante 2: '))\n",
        "Notaa_3 = float(input('Ingrese la nota del estudiante 3: '))\n",
        "\n",
        "print(f'El promedio de las tres notas del estudiante 1 es = {(Notaa_1+Notaa_2+Notaa_3)/3}')\n",
        "\n",
        "\n",
        "print('\\n\\tFin de la consulta')"
      ],
      "metadata": {
        "id": "xcx21IGT9qA0",
        "colab": {
          "base_uri": "https://localhost:8080/"
        },
        "outputId": "4639c8fe-0024-4cea-d91a-3b2153e968f4"
      },
      "execution_count": null,
      "outputs": [
        {
          "output_type": "stream",
          "name": "stdout",
          "text": [
            "Ingrese la nota del estudiante 1: 2.54\n",
            "Ingrese la nota del estudiante 2: 3.65\n",
            "Ingrese la nota del estudiante 3: 4.54\n",
            "El promedio de las tres notas del estudiante 1 es = 3.5766666666666667\n",
            "Ingrese la nota del estudiante 1: 4.36\n",
            "Ingrese la nota del estudiante 2: 2.14\n",
            "Ingrese la nota del estudiante 3: 3.96\n",
            "El promedio de las tres notas del estudiante 2 es = 3.486666666666667\n",
            "Ingrese la nota del estudiante 1: 4.89\n",
            "Ingrese la nota del estudiante 2: 358\n",
            "Ingrese la nota del estudiante 3: 4.99\n",
            "El promedio de las tres notas del estudiante 1 es = 122.62666666666667\n",
            "\n",
            "\tFin de la consulta\n"
          ]
        }
      ]
    },
    {
      "cell_type": "code",
      "source": [],
      "metadata": {
        "id": "Wtbiy9Ay9rGJ"
      },
      "execution_count": null,
      "outputs": []
    },
    {
      "cell_type": "code",
      "source": [],
      "metadata": {
        "id": "Yfyz4anY9rIr"
      },
      "execution_count": null,
      "outputs": []
    },
    {
      "cell_type": "markdown",
      "source": [
        "Ahora imaginemos una situación en que no son tan solo 3 estudiantes, sino 100 estudiantes. No sería nada interesante repetir el mismo código 100 veces, sino **ejecutar el mismo código 100 veces**.\n",
        "\n",
        "¡Esta estructura la logramos construir con lazos de repetición!"
      ],
      "metadata": {
        "id": "9puIuvUbFSFX"
      }
    },
    {
      "cell_type": "markdown",
      "source": [
        "## `WHILE`"
      ],
      "metadata": {
        "id": "uLO9-aE4-wx8"
      }
    },
    {
      "cell_type": "markdown",
      "source": [
        "El lazo `while` es una estructura de control de repetición en Python que permite ejecutar un bloque de código repetidamente mientras que una determinada condición sea verdadera. Su estructura es:\n",
        "\n",
        "\n",
        "\n",
        "```\n",
        "while condicion:\n",
        "    # bloque de codigo\n",
        "```\n",
        "\n",
        "Vamos a construir un ejemplo con un contador de 1 hasta 10.\n"
      ],
      "metadata": {
        "id": "rXZxDMiqHxm9"
      }
    },
    {
      "cell_type": "code",
      "source": [
        "Cont_Estudiantes = 1\n",
        "while Cont_Estudiantes <= 10:\n",
        "  print(Cont_Estudiantes)\n",
        "  Cont_Estudiantes += 1\n",
        "# Cont_Estudiantes = Cont_Estudiantes + 1\n",
        "print('\\n\\tFin de la consulta')"
      ],
      "metadata": {
        "id": "Hd0ZSWxD9wCD",
        "colab": {
          "base_uri": "https://localhost:8080/"
        },
        "outputId": "d0a69907-db8a-4e36-b92b-72712a363c59"
      },
      "execution_count": null,
      "outputs": [
        {
          "output_type": "stream",
          "name": "stdout",
          "text": [
            "1\n",
            "2\n",
            "3\n",
            "4\n",
            "5\n",
            "6\n",
            "7\n",
            "8\n",
            "9\n",
            "10\n",
            "\n",
            "\tFin de la consulta\n"
          ]
        }
      ]
    },
    {
      "cell_type": "code",
      "source": [
        "Cont_Estudiantes = 1\n",
        "Cant_Estudiantes_ingresados  = int(input('Digite la cantidad de estudiantes a consultar :'))\n",
        "print(f'\\n Cantidad de estudiantes ingresados {Cant_Estudiantes_ingresados}')\n",
        "while Cont_Estudiantes <= Cant_Estudiantes_ingresados:\n",
        "\n",
        "  print(f'\\nIngrese las notas para el estudiante {Cont_Estudiantes}')\n",
        "  Notaa_1 = float(input('\\nIngrese la nota 1 del estudiante' ))\n",
        "  Notaa_2 = float(input('Ingrese la nota 2 del estudiante' ))\n",
        "  Notaa_3 = float(input('Ingrese la nota 3 del estudiante' ))\n",
        "  Cont_Estudiantes += 1\n",
        "\n",
        "  print(f'\\n\\tEl promedio de las tres notas del estudiante 1 es = {(Notaa_1+Notaa_2+Notaa_3)/3}')\n",
        "\n",
        "print(f'\\n\\tConsulta finalizada para {Cont_Estudiantes-1} estudiantes')\n",
        "\n"
      ],
      "metadata": {
        "id": "miFHNqp29nOL",
        "colab": {
          "base_uri": "https://localhost:8080/"
        },
        "outputId": "de1de854-0ba9-4016-a5a3-9e7fb9bd7f27"
      },
      "execution_count": null,
      "outputs": [
        {
          "output_type": "stream",
          "name": "stdout",
          "text": [
            "Digite la cantidad de estudiantes a consultar :1\n",
            "\n",
            " Cantidad de estudiantes ingresados 1\n",
            "\n",
            "Ingrese las notas para el estudiante 1\n",
            "\n",
            "Ingrese la nota 1 del estudiante25\n",
            "Ingrese la nota 2 del estudiante25\n",
            "Ingrese la nota 3 del estudiante25\n",
            "\n",
            "\tEl promedio de las tres notas del estudiante 1 es = 25.0\n",
            "\n",
            "\tConsulta finalizada para 1 estudiantes\n"
          ]
        }
      ]
    },
    {
      "cell_type": "markdown",
      "source": [
        "Ahora vamos a colectar las notas y promedios de cada alumno dentro del lazo `while`. Haremos un ejemplo con 3 promedios."
      ],
      "metadata": {
        "id": "W4KZPBJuIrut"
      }
    },
    {
      "cell_type": "code",
      "source": [
        "precio = 2.00\n",
        "precio += 3\n",
        "print(precio)"
      ],
      "metadata": {
        "id": "9T5eCLFx9wk6",
        "colab": {
          "base_uri": "https://localhost:8080/"
        },
        "outputId": "7cdee15d-6146-4e89-8a6f-36084fbcb5b4"
      },
      "execution_count": null,
      "outputs": [
        {
          "output_type": "stream",
          "name": "stdout",
          "text": [
            "5.0\n"
          ]
        }
      ]
    },
    {
      "cell_type": "code",
      "source": [],
      "metadata": {
        "id": "P6E0_dW-9lZ9"
      },
      "execution_count": null,
      "outputs": []
    },
    {
      "cell_type": "code",
      "source": [],
      "metadata": {
        "id": "SzhERD5NpUHy"
      },
      "execution_count": null,
      "outputs": []
    },
    {
      "cell_type": "code",
      "source": [],
      "metadata": {
        "id": "gHPfBwHYpT01"
      },
      "execution_count": null,
      "outputs": []
    },
    {
      "cell_type": "markdown",
      "source": [
        "## `FOR`"
      ],
      "metadata": {
        "id": "WgAIaENMMfCP"
      }
    },
    {
      "cell_type": "markdown",
      "source": [
        "El lazo `for` es un tipo de estructura de control de flujo en Python que permite iterar sobre un conjunto de elementos. Su estructura es:\n",
        "\n",
        "\n",
        "\n",
        "```\n",
        "for elemento in conjunto:\n",
        "    # codigo a ser ejecutado para cada elemento\n",
        "```\n",
        "\n",
        "El lazo `for` itera sobre cada elemento del conjunto especificado y ejecuta el bloque de código dentro del lazo para cada elemento. Cuando el lazo llega al final del conjunto, este se interrumpe y el programa continúa la ejecución después del lazo.\n",
        "\n"
      ],
      "metadata": {
        "id": "HxrSZoRAMh-x"
      }
    },
    {
      "cell_type": "markdown",
      "source": [
        "El conjunto lo podemos generar con la función incorporada [`range()`](https://docs.python.org/3/library/functions.html#func-range). Se trata de una función capaz de generar una secuencia de números enteros. La estructura de esta función es:\n",
        "\n",
        "```\n",
        "range(inicio, fin, paso)\n",
        "```\n",
        "\n",
        "Según la documentación, `range()` genera una secuencia de números enteros a partir del valor del parámetro `inicio` hasta el valor del parámetro `fin`, de acuerdo con el valor del parámetro `paso`. Si `inicio` no es especificado, el valor por defecto es `0`. Si `paso` no es especificado, el valor por defecto es `1`.\n",
        "\n",
        "\n"
      ],
      "metadata": {
        "id": "6VgjyoQtPHBM"
      }
    },
    {
      "cell_type": "markdown",
      "source": [
        "Vamos a recrear el mismo contador `while` con el lazo `for`."
      ],
      "metadata": {
        "id": "ryn0hfdlUwC8"
      }
    },
    {
      "cell_type": "code",
      "source": [
        "for n_contador in range(1,11):\n",
        "  print(n_contador)\n",
        "print('\\n\\tFin de la consulta')"
      ],
      "metadata": {
        "id": "KkL1wUIj9jL4",
        "colab": {
          "base_uri": "https://localhost:8080/"
        },
        "outputId": "96a880ca-9cb0-4f96-ee7b-b8135f399340"
      },
      "execution_count": null,
      "outputs": [
        {
          "output_type": "stream",
          "name": "stdout",
          "text": [
            "1\n",
            "2\n",
            "3\n",
            "4\n",
            "5\n",
            "6\n",
            "7\n",
            "8\n",
            "9\n",
            "10\n",
            "\n",
            "\tFin de la consulta\n"
          ]
        }
      ]
    },
    {
      "cell_type": "code",
      "source": [
        "\n",
        "#Cant_Estudiantes_ingresados  = int(input('Digite la cantidad de estudiantes a consultar :'))\n",
        "#print(f'\\n Cantidad de estudiantes ingresados {Cant_Estudiantes_ingresados}')\n",
        "\n",
        "for e in range(1,(2+1)):\n",
        "  print(f'\\nIngrese las notas para el estudiante {e}')\n",
        "print('\\n\\t Ejacucion de proigrama finalizada')\n"
      ],
      "metadata": {
        "id": "uXIZnLSr9jOu",
        "colab": {
          "base_uri": "https://localhost:8080/"
        },
        "outputId": "165fe624-a3fc-4c6c-eabc-0bbcee01f209"
      },
      "execution_count": null,
      "outputs": [
        {
          "output_type": "stream",
          "name": "stdout",
          "text": [
            "\n",
            "Ingrese las notas para el estudiante 1\n",
            "\n",
            "Ingrese las notas para el estudiante 2\n",
            "\n",
            "\t Ejacucion de proigrama finalizada\n"
          ]
        }
      ]
    },
    {
      "cell_type": "code",
      "source": [
        "Cant_Estudiantes_ingresados  = int(input('Digite la cantidad de estudiantes a consultar :'))\n",
        "print(f'\\n Cantidad de estudiantes ingresados {Cant_Estudiantes_ingresados}')\n",
        "for Cont_Estudiantes in range(1,(Cant_Estudiantes_ingresados+1)):\n",
        "  print(f'\\nIngrese las notas para el estudiante {Cont_Estudiantes}')\n",
        "\n",
        "  Notaa_1 = float(input('\\nIngrese la nota 1 del estudiante' ))\n",
        "  Notaa_2 = float(input('Ingrese la nota 2 del estudiante' ))\n",
        "  Notaa_3 = float(input('Ingrese la nota 3 del estudiante' ))\n",
        "  Cont_Estudiantes += 1\n",
        "\n",
        "  print(f'\\n\\tEl promedio de las tres notas del estudiante 1 es = {(Notaa_1+Notaa_2+Notaa_3)/3}')\n",
        "\n",
        "print('\\n\\t Ejacucion de programa finalizada')"
      ],
      "metadata": {
        "colab": {
          "base_uri": "https://localhost:8080/"
        },
        "id": "6JRn3T8Ft1MQ",
        "outputId": "256e40dd-66f6-45a6-e7f7-e36fc95e892f"
      },
      "execution_count": null,
      "outputs": [
        {
          "output_type": "stream",
          "name": "stdout",
          "text": [
            "Digite la cantidad de estudiantes a consultar :4\n",
            "\n",
            " Cantidad de estudiantes ingresados 4\n",
            "\n",
            "Ingrese las notas para el estudiante 1\n",
            "\n",
            "Ingrese la nota 1 del estudiante5\n",
            "Ingrese la nota 2 del estudiante4\n",
            "Ingrese la nota 3 del estudiante3\n",
            "\n",
            "\tEl promedio de las tres notas del estudiante 1 es = 4.0\n",
            "\n",
            "Ingrese las notas para el estudiante 2\n",
            "\n",
            "Ingrese la nota 1 del estudiante5\n",
            "Ingrese la nota 2 del estudiante4\n",
            "Ingrese la nota 3 del estudiante3\n",
            "\n",
            "\tEl promedio de las tres notas del estudiante 1 es = 4.0\n",
            "\n",
            "Ingrese las notas para el estudiante 3\n",
            "\n",
            "Ingrese la nota 1 del estudiante5\n",
            "Ingrese la nota 2 del estudiante4\n",
            "Ingrese la nota 3 del estudiante3\n",
            "\n",
            "\tEl promedio de las tres notas del estudiante 1 es = 4.0\n",
            "\n",
            "Ingrese las notas para el estudiante 4\n",
            "\n",
            "Ingrese la nota 1 del estudiante5\n",
            "Ingrese la nota 2 del estudiante4\n",
            "Ingrese la nota 3 del estudiante3\n",
            "\n",
            "\tEl promedio de las tres notas del estudiante 1 es = 4.0\n",
            "\n",
            "\t Ejacucion de programa finalizada\n"
          ]
        }
      ]
    },
    {
      "cell_type": "markdown",
      "source": [],
      "metadata": {
        "id": "QjSOFsgft1BP"
      }
    },
    {
      "cell_type": "code",
      "source": [
        "\"\"\"\n",
        "BUCLES E ITERACIONES CON \"continue\" y \"break\" son los comandos de control que podemos usar con los bucles for y while.\n",
        "\n",
        "sALTA EL 4 Y NO LO IMPRIME\n",
        "\"\"\"\n",
        "for i in range(1, 10):\n",
        "    if i == 6:\n",
        "        continue\n",
        "    print(i)"
      ],
      "metadata": {
        "colab": {
          "base_uri": "https://localhost:8080/"
        },
        "id": "9bovvz_Kw5_x",
        "outputId": "93ceae15-03b2-4989-d758-efcfac86b911"
      },
      "execution_count": null,
      "outputs": [
        {
          "output_type": "stream",
          "name": "stdout",
          "text": [
            "1\n",
            "2\n",
            "3\n",
            "4\n",
            "5\n",
            "7\n",
            "8\n",
            "9\n"
          ]
        }
      ]
    },
    {
      "cell_type": "code",
      "source": [
        "\"\"\"\n",
        "BUCLES E ITERACIONES CON \"continue\" y \"break\" son los comandos de control que podemos usar con los bucles for y while.\n",
        "\n",
        "MIENTRAS QUE EL BREAK INTERRUMPE LA EJECUCION\n",
        "\"\"\"\n",
        "\n",
        "for i in range(1, 10):\n",
        "    if i == 7:\n",
        "        break\n",
        "    print(i)"
      ],
      "metadata": {
        "colab": {
          "base_uri": "https://localhost:8080/"
        },
        "id": "f1lviCunxTbb",
        "outputId": "6ed02a93-52a6-4b56-935d-203614f3eb4c"
      },
      "execution_count": null,
      "outputs": [
        {
          "output_type": "stream",
          "name": "stdout",
          "text": [
            "1\n",
            "2\n",
            "3\n",
            "4\n",
            "5\n",
            "6\n"
          ]
        }
      ]
    },
    {
      "cell_type": "markdown",
      "source": [
        "#**Desafío: ¡Es hora de practicar!sECCION 7**"
      ],
      "metadata": {
        "id": "6RuRGu2fyPhy"
      }
    },
    {
      "cell_type": "markdown",
      "source": [
        "##**Entrenando la programación**"
      ],
      "metadata": {
        "id": "Bgcea4m5yg2H"
      }
    },
    {
      "cell_type": "code",
      "source": [
        "Numero_entero1 = int(input('Ingrese el numero entero de inicio del rango: '))\n",
        "Numero_entero2 = int(input('Ingrese el numero entero de fin del rango: '))\n",
        "print(f'\\nEl rango inicia con el numero {Numero_entero1}')\n",
        "print(f'\\nEl rango termina con el numero {Numero_entero2} \\n')\n",
        "for i in range(Numero_entero1,Numero_entero2+1):\n",
        "  print(i)\n",
        "print('\\n\\tFin de la consulta')\n",
        "\n"
      ],
      "metadata": {
        "colab": {
          "base_uri": "https://localhost:8080/"
        },
        "id": "W_YAhhICxTMC",
        "outputId": "f078b508-c6c0-4769-b45d-dc8f3008a81c"
      },
      "execution_count": null,
      "outputs": [
        {
          "output_type": "stream",
          "name": "stdout",
          "text": [
            "Ingrese el numero entero de inicio del rango: 10\n",
            "Ingrese el numero entero de fin del rango: 15\n",
            "\n",
            "El rango inicia con el numero 10\n",
            "\n",
            "El rango termina con el numero 15 \n",
            "\n",
            "10\n",
            "11\n",
            "12\n",
            "13\n",
            "14\n",
            "15\n",
            "\n",
            "\tFin de la consulta\n"
          ]
        }
      ]
    },
    {
      "cell_type": "code",
      "source": [
        "Numero_entero1_inicio = int(input('Ingrese el numero entero de inicio del rango: '))\n",
        "Numero_entero2_fin = int(input('Ingrese el numero entero de fin del rango: '))\n",
        "\n",
        "if Numero_entero1_inicio < Numero_entero2_fin:\n",
        "  print(f'\\nEl rango inicia con el numero {Numero_entero1_inicio}')\n",
        "  print(f'\\nEl rango termina con el numero {Numero_entero2_fin} \\n')\n",
        "  for imprime_numero in range(Numero_entero1_inicio,Numero_entero2_fin+1):\n",
        "    print(imprime_numero)\n",
        "  print(f'\\nESe imprimieron {Numero_entero2_fin-Numero_entero1_inicio+1}')\n",
        "elif Numero_entero1_inicio > Numero_entero2_fin:\n",
        "  print(f'\\nEl rango inicia con el numero {Numero_entero2_fin}')\n",
        "  print(f'\\nEl rango termina con el numero {Numero_entero1_inicio} \\n')\n",
        "  for imprime_numero in range(Numero_entero2_fin,Numero_entero1_inicio+1):\n",
        "    print(imprime_numero)\n",
        "  print(f'\\nESe imprimieron {Numero_entero1_inicio-Numero_entero2_fin+1}')\n",
        "else:\n",
        "  print(f'Los numeros ingresados son iguales noel inicio {Numero_entero1_inicio} es = al fin {Numero_entero2_fin}, nos se pueden imprimir el rango')\n",
        "print('\\n\\tEjecucion de programa terminada')"
      ],
      "metadata": {
        "colab": {
          "base_uri": "https://localhost:8080/"
        },
        "id": "iO7j6Zf4xTBL",
        "outputId": "05ec26ca-2dca-453c-a469-5beadd265a15"
      },
      "execution_count": null,
      "outputs": [
        {
          "output_type": "stream",
          "name": "stdout",
          "text": [
            "Ingrese el numero entero de inicio del rango: 9870\n",
            "Ingrese el numero entero de fin del rango: 9865\n",
            "\n",
            "El rango inicia con el numero 9865\n",
            "\n",
            "El rango termina con el numero 9870 \n",
            "\n",
            "9865\n",
            "9866\n",
            "9867\n",
            "9868\n",
            "9869\n",
            "9870\n",
            "\n",
            "ESe imprimieron 6\n",
            "\n",
            "\tEjecucion de programa terminada\n"
          ]
        }
      ]
    },
    {
      "cell_type": "code",
      "source": [
        "Cont_iteracion_dias = 0\n",
        "Tasa_Crecimiento_A = 0.03\n",
        "Tasa_Crecimiento_B = 0.015\n",
        "Num_colonia_A = int(input('Ingrese el numero inicial de elementos de la colonia A: '))\n",
        "Num_colonia_B = int(input('Ingrese el numero inicial de elementos de la colonia  B: '))\n",
        "while Num_colonia_A <= Num_colonia_B:\n",
        "  Num_colonia_A *= Tasa_Crecimiento_A+1\n",
        "  Num_colonia_B *= Tasa_Crecimiento_B+1\n",
        "  print(f'\\nLa colonia A tiene {Num_colonia_A} elementos')\n",
        "  print(f'\\nLa colonia B tiene {Num_colonia_B} elementos')\n",
        "  Cont_iteracion_dias += 1\n",
        "print(f'\\n\\Los dias en que las colonias A y B crecen hasta igualar o superar en elementos son  {Cont_iteracion_dias} dias')\n",
        "print('\\n\\tEjecucion de programa terminada')"
      ],
      "metadata": {
        "colab": {
          "base_uri": "https://localhost:8080/"
        },
        "id": "meU4AaIzxS1N",
        "outputId": "3433b819-c948-47aa-84f3-6970974d6c6f"
      },
      "execution_count": null,
      "outputs": [
        {
          "output_type": "stream",
          "name": "stdout",
          "text": [
            "Ingrese el numero inicial de elementos de la colonia A: 4\n",
            "Ingrese el numero inicial de elementos de la colonia  B: 5\n",
            "\n",
            "La colonia A tiene 4.12 elementos\n",
            "\n",
            "La colonia B tiene 5.074999999999999 elementos\n",
            "\n",
            "La colonia A tiene 4.2436 elementos\n",
            "\n",
            "La colonia B tiene 5.151124999999999 elementos\n",
            "\n",
            "La colonia A tiene 4.370908 elementos\n",
            "\n",
            "La colonia B tiene 5.228391874999998 elementos\n",
            "\n",
            "La colonia A tiene 4.5020352400000005 elementos\n",
            "\n",
            "La colonia B tiene 5.306817753124998 elementos\n",
            "\n",
            "La colonia A tiene 4.6370962972 elementos\n",
            "\n",
            "La colonia B tiene 5.386420019421872 elementos\n",
            "\n",
            "La colonia A tiene 4.7762091861160005 elementos\n",
            "\n",
            "La colonia B tiene 5.4672163197131995 elementos\n",
            "\n",
            "La colonia A tiene 4.919495461699481 elementos\n",
            "\n",
            "La colonia B tiene 5.549224564508897 elementos\n",
            "\n",
            "La colonia A tiene 5.0670803255504655 elementos\n",
            "\n",
            "La colonia B tiene 5.63246293297653 elementos\n",
            "\n",
            "La colonia A tiene 5.21909273531698 elementos\n",
            "\n",
            "La colonia B tiene 5.716949876971178 elementos\n",
            "\n",
            "La colonia A tiene 5.375665517376489 elementos\n",
            "\n",
            "La colonia B tiene 5.802704125125745 elementos\n",
            "\n",
            "La colonia A tiene 5.536935482897784 elementos\n",
            "\n",
            "La colonia B tiene 5.88974468700263 elementos\n",
            "\n",
            "La colonia A tiene 5.703043547384717 elementos\n",
            "\n",
            "La colonia B tiene 5.978090857307669 elementos\n",
            "\n",
            "La colonia A tiene 5.874134853806259 elementos\n",
            "\n",
            "La colonia B tiene 6.067762220167284 elementos\n",
            "\n",
            "La colonia A tiene 6.050358899420448 elementos\n",
            "\n",
            "La colonia B tiene 6.158778653469792 elementos\n",
            "\n",
            "La colonia A tiene 6.231869666403061 elementos\n",
            "\n",
            "La colonia B tiene 6.251160333271838 elementos\n",
            "\n",
            "La colonia A tiene 6.418825756395154 elementos\n",
            "\n",
            "La colonia B tiene 6.344927738270915 elementos\n",
            "\n",
            "\\Los dias en que las colonias A y B crecen hasta igualar o superar en elementos son  16 dias\n",
            "\n",
            "\tEjecucion de programa terminada\n"
          ]
        }
      ]
    },
    {
      "cell_type": "code",
      "source": [
        "CAnt_evaluaciones = int(input('Ingrese la cantidad de alumnos a validar sus notas: '))\n",
        "for Cant_evaluacion in range(1,CAnt_evaluaciones+1):\n",
        "  Nota_evaluacion = float(input(f'\\tIngrese la nota de la evaluacion para el estudiante {Cant_evaluacion}: '))\n",
        "  while (0 > Nota_evaluacion) or (Nota_evaluacion > 5):\n",
        "    Nota_evaluacion = float(input(f'\\tLa nota de evaluacion ingresada no es valida {Nota_evaluacion}, debe etar en el rango de 0 a 5. \\n\\t  vuelva a interntarlo.\\n\\t Ingrese la nota de la evaluacion para el estudiante {Cant_evaluacion}: '))\n",
        "    #print(f'\\nla nota de evaluacion ingresada no es valida, vuelva a interntarlo ')\n",
        "  print(f'\\tLa nota de evaluacion ingresada es {Nota_evaluacion} para el estudiante {Cant_evaluacion}')\n",
        "  Cant_evaluacion += 1\n",
        "print(f'\\nFueron verificados {Cant_evaluacion-1} estudiantes')\n",
        "print('\\n\\tLas notas y la cantiodad de estudiantes son validas y verificadas')\n"
      ],
      "metadata": {
        "colab": {
          "base_uri": "https://localhost:8080/"
        },
        "id": "n9OuJyqo51YU",
        "outputId": "e18cfe95-7d51-4ef8-e9c1-3891aac9307d"
      },
      "execution_count": null,
      "outputs": [
        {
          "output_type": "stream",
          "name": "stdout",
          "text": [
            "Ingrese la cantidad de alumnos a validar sus notas: 4\n",
            "\tIngrese la nota de la evaluacion para el estudiante 1: -1\n",
            "\tLa nota de evaluacion ingresada no es valida -1.0, debe etar en el rango de 0 a 5. \n",
            "\t  vuelva a interntarlo.\n",
            "\t Ingrese la nota de la evaluacion para el estudiante 1: 9\n",
            "\tLa nota de evaluacion ingresada no es valida 9.0, debe etar en el rango de 0 a 5. \n",
            "\t  vuelva a interntarlo.\n",
            "\t Ingrese la nota de la evaluacion para el estudiante 1: 4\n",
            "\tLa nota de evaluacion ingresada es 4.0 para el estudiante 1\n",
            "\tIngrese la nota de la evaluacion para el estudiante 2: 3\n",
            "\tLa nota de evaluacion ingresada es 3.0 para el estudiante 2\n",
            "\tIngrese la nota de la evaluacion para el estudiante 3: 2\n",
            "\tLa nota de evaluacion ingresada es 2.0 para el estudiante 3\n",
            "\tIngrese la nota de la evaluacion para el estudiante 4: 1\n",
            "\tLa nota de evaluacion ingresada es 1.0 para el estudiante 4\n",
            "\n",
            "Fueron verificados 4 estudiantes\n",
            "\n",
            "\tLas notas y la cantiodad de estudiantes son validas y verificadas\n"
          ]
        }
      ]
    },
    {
      "cell_type": "code",
      "source": [
        "Temperatura_Grados_Celsius = 0\n",
        "while Temperatura_Grados_Celsius != -273.00:\n",
        "  Temperatura_Grados_Celsius = float(input('Ingrese la temperatura en grados Celsius: '))\n",
        "  print(f'la temperatura ingresada es {Temperatura_Grados_Celsius} grados Celsius')\n",
        "print('\\n\\tLa ejecucion del programa finalizó por ingrersar temperaruta = a -273.00 Grados CElcius')\n"
      ],
      "metadata": {
        "colab": {
          "base_uri": "https://localhost:8080/"
        },
        "id": "Han6KcU5M1vl",
        "outputId": "4f939e30-f16a-42ed-f6fb-7a2479292232"
      },
      "execution_count": null,
      "outputs": [
        {
          "output_type": "stream",
          "name": "stdout",
          "text": [
            "Ingrese la temperatura en grados Celsius: 200\n",
            "la temperatura ingresada es 200.0 grados Celsius\n",
            "Ingrese la temperatura en grados Celsius: 40\n",
            "la temperatura ingresada es 40.0 grados Celsius\n",
            "Ingrese la temperatura en grados Celsius: -273.01\n",
            "la temperatura ingresada es -273.01 grados Celsius\n",
            "Ingrese la temperatura en grados Celsius: 273.00\n",
            "la temperatura ingresada es 273.0 grados Celsius\n",
            "Ingrese la temperatura en grados Celsius: -273.0\n",
            "la temperatura ingresada es -273.0 grados Celsius\n",
            "\n",
            "\tLa ejecucion del programa finalizó por ingrersar temperaruta = a -273.00 Grados CElcius\n"
          ]
        }
      ]
    },
    {
      "cell_type": "code",
      "source": [
        "Temperatura_Grados_Celsius = float(input('Ingrese la temperatura en grados Celsius: '))\n",
        "print(f'la temperatura ingresada es {Temperatura_Grados_Celsius} grados Celsius')\n",
        "cant_temperaturas_ingresadas = 0\n",
        "Suma_temperaturas = 0\n",
        "Promedio_temperaturas = 0\n",
        "\n",
        "while Temperatura_Grados_Celsius != -273.00:\n",
        "  Suma_temperaturas += Temperatura_Grados_Celsius\n",
        "  cant_temperaturas_ingresadas += 1\n",
        "  Temperatura_Grados_Celsius = float(input('Ingrese la temperatura en grados Celsius: '))\n",
        "  print(f'la temperatura ingresada es {Temperatura_Grados_Celsius} grados Celsius')\n",
        "\n",
        "\n",
        "\n",
        "  Promedio_temperaturas = Suma_temperaturas / cant_temperaturas_ingresadas\n",
        "\n",
        "print(f'\\nEl promedio de las {cant_temperaturas_ingresadas-0} temperaturas ingresadas es {Promedio_temperaturas} grados Celsius')\n",
        "print(f'\\nFueron verificados {cant_temperaturas_ingresadas-0} temperaturas')\n",
        "print('\\n\\tLa ejecucion del programa finalizó por ingrersar temperaruta = a -273.00 Grados Celcius')"
      ],
      "metadata": {
        "colab": {
          "base_uri": "https://localhost:8080/"
        },
        "id": "Nl696PjmO1uB",
        "outputId": "dfc760ae-2a90-4cd6-f732-2778b16155a5"
      },
      "execution_count": null,
      "outputs": [
        {
          "output_type": "stream",
          "name": "stdout",
          "text": [
            "Ingrese la temperatura en grados Celsius: 5\n",
            "la temperatura ingresada es 5.0 grados Celsius\n",
            "Ingrese la temperatura en grados Celsius: 10\n",
            "la temperatura ingresada es 10.0 grados Celsius\n",
            "Ingrese la temperatura en grados Celsius: 20\n",
            "la temperatura ingresada es 20.0 grados Celsius\n",
            "Ingrese la temperatura en grados Celsius: 30\n",
            "la temperatura ingresada es 30.0 grados Celsius\n",
            "Ingrese la temperatura en grados Celsius: -273\n",
            "la temperatura ingresada es -273.0 grados Celsius\n",
            "\n",
            "El promedio de las 4 temperaturas ingresadas es 16.25 grados Celsius\n",
            "\n",
            "Fueron verificados 4 temperaturas\n",
            "\n",
            "\tLa ejecucion del programa finalizó por ingrersar temperaruta = a -273.00 Grados Celcius\n"
          ]
        }
      ]
    },
    {
      "cell_type": "markdown",
      "source": [],
      "metadata": {
        "id": "gYH0kC5r1rUL"
      }
    },
    {
      "cell_type": "markdown",
      "source": [],
      "metadata": {
        "id": "v57t6DzE1rNr"
      }
    },
    {
      "cell_type": "code",
      "source": [
        "Numero_factorial = int(input('Digite el numero entero paracalculo de factorial: '))\n",
        "Cont_numFActorial = Numero_factorial\n",
        "print(f'\\nEl numero ingresado es {Numero_factorial}')\n",
        "Total_Factorial = 1\n",
        "while Cont_numFActorial > 0:\n",
        "  Total_Factorial *= Cont_numFActorial\n",
        "  Cont_numFActorial -= 1\n",
        "# print(f'\\n El factorial de {Numero_factorial} ')\n",
        "print(f'El resultado del factorial de {Numero_factorial} es {Total_Factorial} ')\n",
        "print(f'\\n\\tTermino el calculo del fatorial de {Numero_factorial} Gracias')"
      ],
      "metadata": {
        "colab": {
          "base_uri": "https://localhost:8080/"
        },
        "id": "mqch6iLUwY4u",
        "outputId": "8e3875c2-affa-46c4-cf43-6a108cc7de48"
      },
      "execution_count": null,
      "outputs": [
        {
          "output_type": "stream",
          "name": "stdout",
          "text": [
            "Digite el numero entero paracalculo de factorial: 10\n",
            "\n",
            "El numero ingresado es 10\n",
            "El resultado del factorial de 10 es 3628800 \n",
            "\n",
            "\tTermino el calculo del fatorial de 10 Gracias\n"
          ]
        }
      ]
    },
    {
      "cell_type": "markdown",
      "source": [
        "#**Momento de los proyectos**"
      ],
      "metadata": {
        "id": "LB4kK54N1sIi"
      }
    },
    {
      "cell_type": "code",
      "source": [
        "Cantidad_Tabla_Multiplicar = int(input(f'ingrese la cantidad de factores a obtener :'))\n",
        "Numero_Tabla_Multiplicar = int(input(f'ingrese el numero entero para la table de multiplicar :'))\n",
        "\n",
        "for Tabla_Multiplicar_a in range(1,Cantidad_Tabla_Multiplicar+1):\n",
        "  while (0 > Numero_Tabla_Multiplicar) or (Numero_Tabla_Multiplicar > 10):\n",
        "    print(f'\\n\\t El nuero de la tabla de multiplicar  debe estar entre 1 a 10 \\n Vuelva a intertarlo')\n",
        "    Numero_Tabla_Multiplicar = int(input(f'\\n\\t ingrese el numero entero para la table de multiplicar :'))\n",
        "  print(f'{Numero_Tabla_Multiplicar} x {Tabla_Multiplicar_a} = {Numero_Tabla_Multiplicar*Tabla_Multiplicar_a}')\n",
        "print(f'La anterior es la tabla de multiplicar para el numero {Numero_Tabla_Multiplicar} para {Cantidad_Tabla_Multiplicar} factores')\n",
        "print(f'\\n\\tTermino la tabla de multiplicar para el numero {Numero_Tabla_Multiplicar}')\n"
      ],
      "metadata": {
        "colab": {
          "base_uri": "https://localhost:8080/"
        },
        "id": "wxPzr3GZ73-v",
        "outputId": "0c3a8a04-c69d-40b0-af63-eebf3f7ccc66"
      },
      "execution_count": null,
      "outputs": [
        {
          "output_type": "stream",
          "name": "stdout",
          "text": [
            "ingrese la cantidad de factores a obtener :11\n",
            "ingrese el numero entero para la table de multiplicar :9\n",
            "9 x 1 = 9\n",
            "9 x 2 = 18\n",
            "9 x 3 = 27\n",
            "9 x 4 = 36\n",
            "9 x 5 = 45\n",
            "9 x 6 = 54\n",
            "9 x 7 = 63\n",
            "9 x 8 = 72\n",
            "9 x 9 = 81\n",
            "9 x 10 = 90\n",
            "9 x 11 = 99\n",
            "La anterior es la tabla de multiplicar para el numero 9 para 11 factores\n",
            "\n",
            "\tTermino la tabla de multiplicar para el numero 9\n"
          ]
        }
      ]
    },
    {
      "cell_type": "code",
      "source": [
        "Numero_primo = int(input('Digite el numero entero para validar si es primo: '))\n",
        "print(f'\\nEl numero ingresado es {Numero_primo}')\n",
        "if Numero_primo > 1:\n",
        "  for cont_primo in range(2,Numero_primo):\n",
        "    if (Numero_primo % cont_primo) == 0:\n",
        "      print(f'\\nEl numero {Numero_primo} no es primo')\n",
        "      print(f'\\n{Numero_primo} es divisible por {cont_primo}')\n",
        "      break\n",
        "  else:\n",
        "    print(f'\\nEl numero {Numero_primo} es primo')\n",
        "else:\n",
        "  print(f'\\nEl numero {Numero_primo} no es primo')"
      ],
      "metadata": {
        "colab": {
          "base_uri": "https://localhost:8080/"
        },
        "id": "k45u0GkeEkIv",
        "outputId": "471c0de5-f0a6-468f-bc5c-1e1b38ec5084"
      },
      "execution_count": null,
      "outputs": [
        {
          "output_type": "stream",
          "name": "stdout",
          "text": [
            "Digite el numero entero para validar si es primo: 11\n",
            "\n",
            "El numero ingresado es 11\n",
            "\n",
            "El numero 11 es primo\n"
          ]
        }
      ]
    },
    {
      "cell_type": "code",
      "source": [
        "edad_pensionado = int(input('Digite la edad del pensionado (si ingresa un numero negativo se suspende el programa): '))\n",
        "print(f'\\nLa edad del pensionado esingresada es  {edad_pensionado}')\n",
        "cont_rango_0_25 = 0\n",
        "cont_rango_26_50 = 0\n",
        "cont_rango_51_75 = 0\n",
        "cont_rango_76_100 = 0\n",
        "while edad_pensionado >= 0:\n",
        "  if 0 <= edad_pensionado <= 25:\n",
        "    cont_rango_0_25 += 1\n",
        "  elif 26 <= edad_pensionado <= 50:\n",
        "    cont_rango_26_50 += 1\n",
        "  elif 51 <= edad_pensionado <= 75:\n",
        "    cont_rango_51_75 += 1\n",
        "  elif 76 <= edad_pensionado <= 100:\n",
        "    cont_rango_76_100 += 1\n",
        "  edad_pensionado = int(input('Digite la edad del pensionado (si ingresa un numero negativo se suspende el programa): '))\n",
        "  print(f'\\nLa edad del pensionado esingresada es  {edad_pensionado}')\n",
        "print(f'\\n\\t Distribucion de edades ingresadas')\n",
        "print(f'\\nRango de edad 0 a 25 años: {cont_rango_0_25} personas')\n",
        "print(f'\\nRango de edad 26 a 50 años: {cont_rango_26_50} personas')\n",
        "print(f'\\nRango de edad 51 a 75 años: {cont_rango_51_75} personas')\n",
        "print(f'\\nRango de edad 76 a 100 años: {cont_rango_76_100} personas')\n",
        "print(f'\\n\\tTermino la ejecucion del programa')\n"
      ],
      "metadata": {
        "colab": {
          "base_uri": "https://localhost:8080/"
        },
        "id": "s1Qa_JlGJA1H",
        "outputId": "3ec4c438-0609-4830-f427-39ecd4fff794"
      },
      "execution_count": null,
      "outputs": [
        {
          "output_type": "stream",
          "name": "stdout",
          "text": [
            "Digite la edad del pensionado (si ingresa un numero negativo se suspende el programa): 10\n",
            "\n",
            "La edad del pensionado esingresada es  10\n",
            "Digite la edad del pensionado (si ingresa un numero negativo se suspende el programa): 11\n",
            "\n",
            "La edad del pensionado esingresada es  11\n",
            "Digite la edad del pensionado (si ingresa un numero negativo se suspende el programa): 12\n",
            "\n",
            "La edad del pensionado esingresada es  12\n",
            "Digite la edad del pensionado (si ingresa un numero negativo se suspende el programa): 26\n",
            "\n",
            "La edad del pensionado esingresada es  26\n",
            "Digite la edad del pensionado (si ingresa un numero negativo se suspende el programa): 27\n",
            "\n",
            "La edad del pensionado esingresada es  27\n",
            "Digite la edad del pensionado (si ingresa un numero negativo se suspende el programa): 28\n",
            "\n",
            "La edad del pensionado esingresada es  28\n",
            "Digite la edad del pensionado (si ingresa un numero negativo se suspende el programa): 50\n",
            "\n",
            "La edad del pensionado esingresada es  50\n",
            "Digite la edad del pensionado (si ingresa un numero negativo se suspende el programa): 51\n",
            "\n",
            "La edad del pensionado esingresada es  51\n",
            "Digite la edad del pensionado (si ingresa un numero negativo se suspende el programa): 61\n",
            "\n",
            "La edad del pensionado esingresada es  61\n",
            "Digite la edad del pensionado (si ingresa un numero negativo se suspende el programa): 75\n",
            "\n",
            "La edad del pensionado esingresada es  75\n",
            "Digite la edad del pensionado (si ingresa un numero negativo se suspende el programa): 76\n",
            "\n",
            "La edad del pensionado esingresada es  76\n",
            "Digite la edad del pensionado (si ingresa un numero negativo se suspende el programa): 79\n",
            "\n",
            "La edad del pensionado esingresada es  79\n",
            "Digite la edad del pensionado (si ingresa un numero negativo se suspende el programa): 100\n",
            "\n",
            "La edad del pensionado esingresada es  100\n",
            "Digite la edad del pensionado (si ingresa un numero negativo se suspende el programa): -1\n",
            "\n",
            "La edad del pensionado esingresada es  -1\n",
            "\n",
            "\t Distribucion de edades ingresadas\n",
            "\n",
            "Rango de edad 0 a 25 años: 3 personas\n",
            "\n",
            "Rango de edad 26 a 50 años: 4 personas\n",
            "\n",
            "Rango de edad 51 a 75 años: 3 personas\n",
            "\n",
            "Rango de edad 76 a 100 años: 3 personas\n",
            "\n",
            "\tTermino la ejecucion del programa\n"
          ]
        }
      ]
    },
    {
      "cell_type": "code",
      "source": [
        "print('\\n\\t Instrucciones de votacion \\n Cada candidato tiene un munumero asignado de 1, 2, 3 o 4 \\n el voto nulo con numero 5 \\n el voto en blanco con numero 6' )\n",
        "Votos_candidato_1 = 0\n",
        "Votos_candidato_2 = 0\n",
        "Votos_candidato_3 = 0\n",
        "Votos_candidato_4 = 0\n",
        "Votos_nulo_5= 0\n",
        "Votos_blanco_6 = 0\n",
        "Contador_Votos = 0\n",
        "CAntidad_Votos = int(input(f'Digite la cantidad de votos a validar (20): '))\n",
        "\n",
        "while 0 <= Contador_Votos < CAntidad_Votos:\n",
        "  Recibir_Voto = int(input(f'Digite su voto en numero entero (entre 1 al 6): '))\n",
        "  if Recibir_Voto == 1:\n",
        "    Votos_candidato_1 += 1\n",
        "    Contador_Votos += 1\n",
        "  elif Recibir_Voto == 2:\n",
        "    Votos_candidato_2 += 1\n",
        "    Contador_Votos += 1\n",
        "  elif Recibir_Voto == 3:\n",
        "    Votos_candidato_3 += 1\n",
        "    Contador_Votos += 1\n",
        "  elif Recibir_Voto == 4:\n",
        "    Votos_candidato_4 += 1\n",
        "    Contador_Votos += 1\n",
        "  elif Recibir_Voto == 5:\n",
        "    Votos_nulo_5 += 1\n",
        "    Contador_Votos += 1\n",
        "  elif Recibir_Voto == 6:\n",
        "    Votos_blanco_6 += 1\n",
        "    Contador_Votos +=1\n",
        "  else:\n",
        "    print(f'\\n\\t El voto ingresado no es valido')\n",
        "\n",
        "print(f'\\n\\t Resultados de la votacion')\n",
        "print(f'\\n\\tTotal Votos candidato \"1\": {Votos_candidato_1}')\n",
        "print(f'\\n\\tTotal Votos candidato \"2\": {Votos_candidato_2}')\n",
        "print(f'\\n\\tTotal Votos candidato \"3\": {Votos_candidato_3}')\n",
        "print(f'\\n\\tTotal Votos candidato \"4\": {Votos_candidato_4}')\n",
        "print(f'\\n\\tTotal Votos nulos \"5\": {Votos_nulo_5}')\n",
        "print(f'\\n\\tTotal Votos en blanco \"6\": {Votos_blanco_6}')\n",
        "print(f'\\n\\tPorcentaje votos nulos \"5\": {(Votos_nulo_5/Contador_Votos)*100}')\n",
        "print(f'\\n\\tPorcentaje Votos en blanco \"6\": {(Votos_blanco_6/Contador_Votos)*100}')\n",
        "print(f'\\n\\tTotal Votos validos: {Contador_Votos}')\n",
        "print(f'\\n\\tTermino la ejecucion del programa de votacion')\n",
        "\n",
        "\n",
        "\n"
      ],
      "metadata": {
        "colab": {
          "base_uri": "https://localhost:8080/"
        },
        "id": "2ibaVbzBJ0c_",
        "outputId": "61d2643c-84ea-4a97-ce8f-58fba8f19107"
      },
      "execution_count": null,
      "outputs": [
        {
          "output_type": "stream",
          "name": "stdout",
          "text": [
            "\n",
            "\t Instrucciones de votacion \n",
            " Cada candidato tiene un munumero asignado de 1, 2, 3 o 4 \n",
            " el voto nulo con numero 5 \n",
            " el voto en blanco con numero 6\n",
            "Digite la cantidad de votos a validar (20): 20\n",
            "Digite su voto en numero entero (entre 1 al 6): 1\n",
            "Digite su voto en numero entero (entre 1 al 6): 2\n",
            "Digite su voto en numero entero (entre 1 al 6): 3\n",
            "Digite su voto en numero entero (entre 1 al 6): 4\n",
            "Digite su voto en numero entero (entre 1 al 6): 5\n",
            "Digite su voto en numero entero (entre 1 al 6): 6\n",
            "Digite su voto en numero entero (entre 1 al 6): 1\n",
            "Digite su voto en numero entero (entre 1 al 6): 2\n",
            "Digite su voto en numero entero (entre 1 al 6): 3\n",
            "Digite su voto en numero entero (entre 1 al 6): 4\n",
            "Digite su voto en numero entero (entre 1 al 6): 5\n",
            "Digite su voto en numero entero (entre 1 al 6): 6\n",
            "Digite su voto en numero entero (entre 1 al 6): 1\n",
            "Digite su voto en numero entero (entre 1 al 6): 2\n",
            "Digite su voto en numero entero (entre 1 al 6): 3\n",
            "Digite su voto en numero entero (entre 1 al 6): 4\n",
            "Digite su voto en numero entero (entre 1 al 6): 5\n",
            "Digite su voto en numero entero (entre 1 al 6): 6\n",
            "Digite su voto en numero entero (entre 1 al 6): 1\n",
            "Digite su voto en numero entero (entre 1 al 6): 2\n",
            "\n",
            "\t Resultados de la votacion\n",
            "\n",
            "\tTotal Votos candidato \"1\": 4\n",
            "\n",
            "\tTotal Votos candidato \"2\": 4\n",
            "\n",
            "\tTotal Votos candidato \"3\": 3\n",
            "\n",
            "\tTotal Votos candidato \"4\": 3\n",
            "\n",
            "\tTotal Votos nulos \"5\": 3\n",
            "\n",
            "\tTotal Votos en blanco \"6\": 3\n",
            "\n",
            "\tPorcentaje votos nulos \"5\": 15.0\n",
            "\n",
            "\tPorcentaje Votos en blanco \"6\": 15.0\n",
            "\n",
            "\tTotal Votos validos: 20\n",
            "\n",
            "\tTermino la ejecucion del programa de votacion\n"
          ]
        }
      ]
    },
    {
      "cell_type": "code",
      "source": [],
      "metadata": {
        "id": "haxwfds_vS_o"
      },
      "execution_count": null,
      "outputs": []
    },
    {
      "cell_type": "code",
      "source": [],
      "metadata": {
        "id": "Kl6P189VMhUV"
      },
      "execution_count": null,
      "outputs": []
    },
    {
      "cell_type": "markdown",
      "source": [
        "# Estructuras de datos"
      ],
      "metadata": {
        "id": "8noP8OJ0Vhux"
      }
    },
    {
      "cell_type": "markdown",
      "source": [
        "Un conjunto de elementos es una colección de items, que son almacenados juntos de manera organizada. Algunos ejemplos de conjuntos de elementos en Python son las listas, los strings y los diccionarios."
      ],
      "metadata": {
        "id": "xpEUkefTu8fY"
      }
    },
    {
      "cell_type": "markdown",
      "source": [
        "## Listas"
      ],
      "metadata": {
        "id": "THSg4KYLwxIb"
      }
    },
    {
      "cell_type": "markdown",
      "source": [
        "Las listas pueden almacenar una colección de items en orden. Ellas son delimitadas por corchetes `[]` y sus elementos son separados por comas.\n",
        "\n",
        "Estas pueden almacenar cualquier tipo de items, incluyendo números, strings, objetos, otras listas, entre otros. También nos permiten almacenar items de tipos de datos diferentes juntos en una única lista."
      ],
      "metadata": {
        "id": "dzpsiqrOyJcK"
      }
    },
    {
      "cell_type": "code",
      "source": [
        "lista = ['Penélope Camacho',9.5,9.0,9.7,True]\n",
        "lista"
      ],
      "metadata": {
        "id": "DO3TBj7nAYeG",
        "colab": {
          "base_uri": "https://localhost:8080/"
        },
        "outputId": "a1864d94-c013-4c8b-843b-5148b8acff6c"
      },
      "execution_count": null,
      "outputs": [
        {
          "output_type": "execute_result",
          "data": {
            "text/plain": [
              "['Penélope Camacho', 9.5, 9.0, 9.7, True]"
            ]
          },
          "metadata": {},
          "execution_count": 26
        }
      ]
    },
    {
      "cell_type": "code",
      "source": [
        "type(lista)"
      ],
      "metadata": {
        "id": "DO2ubP9N9D_2",
        "colab": {
          "base_uri": "https://localhost:8080/"
        },
        "outputId": "573a6a84-c35a-4df6-cd5f-776282bc8582"
      },
      "execution_count": null,
      "outputs": [
        {
          "output_type": "execute_result",
          "data": {
            "text/plain": [
              "list"
            ]
          },
          "metadata": {},
          "execution_count": 27
        }
      ]
    },
    {
      "cell_type": "markdown",
      "source": [
        "Las listas son organizadas en Python porque **cada elemento de la lista tiene un índice que indica su posición al interior de la lista**. Los índices comienzan en 0 van hasta el tamaño de la lista menos 1."
      ],
      "metadata": {
        "id": "qUz3sJNl6LgK"
      }
    },
    {
      "cell_type": "markdown",
      "source": [
        "Tenemos entonces 5 elementos con índices que varían de 0 a 4, ordenadamente:\n",
        "\n",
        "```\n",
        "#             [0]           [1]   [2]   [3]    [4]\n",
        "lista = ['Penélope Camacho', 9.5 , 9.0 , 9.7 , True]\n",
        "```\n",
        "\n",
        "En Python tenemos también los índices **negativos** que se inician en el último elemento con el valor de `-1` y avanzan en el universo de los negativos hasta llegar al 1° elemento:\n",
        "\n",
        "```\n",
        "#             [-5]         [-4]  [-3]  [-2]   [-1]\n",
        "lista = ['Penélope Camacho', 9.5 , 9.0 , 9.7 , True]\n",
        "```\n",
        "\n",
        "Logramos seleccionar separadamente cada elemento a través de sus respectivos índices. Colocando el nombre de la lista y en seguida el índice que será seleccionado."
      ],
      "metadata": {
        "id": "rLf-Qg526hFD"
      }
    },
    {
      "cell_type": "code",
      "source": [
        "lista[0]"
      ],
      "metadata": {
        "id": "4hco1Zqy88Kw",
        "colab": {
          "base_uri": "https://localhost:8080/",
          "height": 35
        },
        "outputId": "191161bd-c3ad-4804-b5cb-3fc8558e9793"
      },
      "execution_count": null,
      "outputs": [
        {
          "output_type": "execute_result",
          "data": {
            "text/plain": [
              "'Penélope Camacho'"
            ],
            "application/vnd.google.colaboratory.intrinsic+json": {
              "type": "string"
            }
          },
          "metadata": {},
          "execution_count": 28
        }
      ]
    },
    {
      "cell_type": "code",
      "source": [
        "type(lista[0])"
      ],
      "metadata": {
        "id": "M8lH0I2288Ph",
        "colab": {
          "base_uri": "https://localhost:8080/"
        },
        "outputId": "bae16752-1ab1-4b4c-da93-dc215eccdc8f"
      },
      "execution_count": null,
      "outputs": [
        {
          "output_type": "execute_result",
          "data": {
            "text/plain": [
              "str"
            ]
          },
          "metadata": {},
          "execution_count": 29
        }
      ]
    },
    {
      "cell_type": "markdown",
      "source": [
        "Una forma más dinámica de trabajar item a item en una lista es utilizando un lazo `for` para leer un elemento a la vez."
      ],
      "metadata": {
        "id": "6TaE1ijmBTCd"
      }
    },
    {
      "cell_type": "code",
      "source": [
        "for element_lista in lista:\n",
        "  print(element_lista)"
      ],
      "metadata": {
        "id": "rBx4Yu1786Sy",
        "colab": {
          "base_uri": "https://localhost:8080/"
        },
        "outputId": "bc90d387-6534-4afa-e2dc-81cac980b9c3"
      },
      "execution_count": null,
      "outputs": [
        {
          "output_type": "stream",
          "name": "stdout",
          "text": [
            "Penélope Camacho\n",
            "9.5\n",
            "9.0\n",
            "9.7\n",
            "True\n"
          ]
        }
      ]
    },
    {
      "cell_type": "markdown",
      "source": [
        "**Situación**: La nota `9.0` de Penélope necesita ser ajustada pues ganó 1 punto en su última nota por participación en clase. Entonces es necesario realizar un cambio en el índice `2` de `9.0` a `10.0`."
      ],
      "metadata": {
        "id": "Dh1_HnIVvucY"
      }
    },
    {
      "cell_type": "code",
      "source": [
        "lista[2] = 10.0\n",
        "lista"
      ],
      "metadata": {
        "id": "bVPoZg668z3T",
        "colab": {
          "base_uri": "https://localhost:8080/"
        },
        "outputId": "81b50b52-181c-467c-994d-0e6388a38475"
      },
      "execution_count": null,
      "outputs": [
        {
          "output_type": "execute_result",
          "data": {
            "text/plain": [
              "['Penélope Camacho', 9.5, 10.0, 9.7, True]"
            ]
          },
          "metadata": {},
          "execution_count": 31
        }
      ]
    },
    {
      "cell_type": "code",
      "source": [
        "promedio_lista = (lista[1]+lista[2]+lista[3])/3\n",
        "promedio_lista"
      ],
      "metadata": {
        "id": "Jo_PBQ0g8z7D",
        "colab": {
          "base_uri": "https://localhost:8080/"
        },
        "outputId": "5b0a8979-6a8e-4a14-bd11-6404bef37d83"
      },
      "execution_count": null,
      "outputs": [
        {
          "output_type": "execute_result",
          "data": {
            "text/plain": [
              "9.733333333333333"
            ]
          },
          "metadata": {},
          "execution_count": 32
        }
      ]
    },
    {
      "cell_type": "markdown",
      "source": [
        "También podemos calcular el promedio del estudiante a partir de los datos que tenemos."
      ],
      "metadata": {
        "id": "53XduzXkycAf"
      }
    },
    {
      "cell_type": "code",
      "source": [
        "promedio_lista = (lista[1]+lista[2]+lista[3])/3\n",
        "promedio_lista\n"
      ],
      "metadata": {
        "id": "SIH61Rrb8yv4",
        "colab": {
          "base_uri": "https://localhost:8080/"
        },
        "outputId": "89f47cd7-263d-450b-8426-af5c4a4f3f95"
      },
      "execution_count": null,
      "outputs": [
        {
          "output_type": "execute_result",
          "data": {
            "text/plain": [
              "9.733333333333333"
            ]
          },
          "metadata": {},
          "execution_count": 33
        }
      ]
    },
    {
      "cell_type": "code",
      "source": [
        "lenguaje = 'Python'\n"
      ],
      "metadata": {
        "id": "17jnzCrj2DWA"
      },
      "execution_count": null,
      "outputs": []
    },
    {
      "cell_type": "code",
      "source": [
        "print(lenguaje[0], lenguaje[1], lenguaje[2], lenguaje[-3], lenguaje[-2], lenguaje[-1])"
      ],
      "metadata": {
        "colab": {
          "base_uri": "https://localhost:8080/"
        },
        "id": "Fv8TSo9U2He0",
        "outputId": "9eeec2a3-cdb7-483a-d91f-9f6117fc2908"
      },
      "execution_count": null,
      "outputs": [
        {
          "output_type": "stream",
          "name": "stdout",
          "text": [
            "P y t h o n\n"
          ]
        }
      ]
    },
    {
      "cell_type": "code",
      "source": [
        "lenguaje"
      ],
      "metadata": {
        "colab": {
          "base_uri": "https://localhost:8080/",
          "height": 35
        },
        "id": "wHirHxhV2MJU",
        "outputId": "94e6a1bd-3157-48c1-f5f8-b5dda7bbfe8f"
      },
      "execution_count": null,
      "outputs": [
        {
          "output_type": "execute_result",
          "data": {
            "text/plain": [
              "'Python'"
            ],
            "application/vnd.google.colaboratory.intrinsic+json": {
              "type": "string"
            }
          },
          "metadata": {},
          "execution_count": 36
        }
      ]
    },
    {
      "cell_type": "code",
      "source": [
        "pregunta = '¿Quién vino primero? ¿El huevo? ¿O fue la serpiente?'\n",
        "lista_palabras = pregunta.split('?')\n",
        "print(lista_palabras)"
      ],
      "metadata": {
        "colab": {
          "base_uri": "https://localhost:8080/"
        },
        "id": "EakPn89V2pqr",
        "outputId": "bca6e128-ecc4-4e0d-97b4-859498c716ea"
      },
      "execution_count": null,
      "outputs": [
        {
          "output_type": "stream",
          "name": "stdout",
          "text": [
            "['¿Quién vino primero', ' ¿El huevo', ' ¿O fue la serpiente', '']\n"
          ]
        }
      ]
    },
    {
      "cell_type": "code",
      "source": [
        "mezclas = ['Pinturas: rojo, azul y amarillo',\n",
        "            'Verde: mezcla de azul y amarillo',\n",
        "            'Naranja: mezcla de rojo y amarillo',\n",
        "            'Morado: mezcla de rojo y azul']\n",
        "unificador = '. '\n",
        "cadena_mezclas = unificador.join(mezclas)\n",
        "print(cadena_mezclas)"
      ],
      "metadata": {
        "colab": {
          "base_uri": "https://localhost:8080/"
        },
        "id": "Y8HCzZY2231Y",
        "outputId": "18e752d1-11b0-43c9-d66a-b1764cde1f2c"
      },
      "execution_count": null,
      "outputs": [
        {
          "output_type": "stream",
          "name": "stdout",
          "text": [
            "Pinturas: rojo, azul y amarillo. Verde: mezcla de azul y amarillo. Naranja: mezcla de rojo y amarillo. Morado: mezcla de rojo y azul\n"
          ]
        }
      ]
    },
    {
      "cell_type": "markdown",
      "source": [
        "## Manipulación de listas\n",
        "\n",
        "Las listas son muy útiles en Python porque nos permiten almacenar y acceder a una colección de items de manera organizada y rápida. Estas también ofrecen muchos métodos útiles para manipular los itens almacenados, como adicionar, remover, clasificar y buscar elementos."
      ],
      "metadata": {
        "id": "d-iYr10-y4qw"
      }
    },
    {
      "cell_type": "markdown",
      "source": [
        "#### Cantidad de elementos\n",
        "\n",
        "Usamos la función [`len()`](https://docs.python.org/3/library/functions.html#len) para descubrir la cantidad de elementos de un conjunto."
      ],
      "metadata": {
        "id": "ZLqx9A97XVB_"
      }
    },
    {
      "cell_type": "code",
      "source": [
        "len(lista)"
      ],
      "metadata": {
        "id": "6q1Tmm7P8wQf",
        "colab": {
          "base_uri": "https://localhost:8080/"
        },
        "outputId": "1ea0f1b3-42ff-4959-93b3-bc8e14a7dbdc"
      },
      "execution_count": null,
      "outputs": [
        {
          "output_type": "execute_result",
          "data": {
            "text/plain": [
              "5"
            ]
          },
          "metadata": {},
          "execution_count": 39
        }
      ]
    },
    {
      "cell_type": "code",
      "source": [
        "lista"
      ],
      "metadata": {
        "colab": {
          "base_uri": "https://localhost:8080/"
        },
        "id": "Eok7ZW1031Kk",
        "outputId": "525cee39-4741-47e3-ff68-5d42e07d3d56"
      },
      "execution_count": null,
      "outputs": [
        {
          "output_type": "execute_result",
          "data": {
            "text/plain": [
              "['Penélope Camacho', 9.5, 10.0, 9.7, True]"
            ]
          },
          "metadata": {},
          "execution_count": 40
        }
      ]
    },
    {
      "cell_type": "markdown",
      "source": [
        "#### Partición\n",
        "\n",
        "La partición de listas por indexación en Python es una técnica muy útil para seleccionar un subconjunto de elementos de una lista. Esta se realiza usando la sintaxis `lista[inicio:fin]`, donde `inicio` es el índice del primer elemento que será incluído en la partición `fin` es el índice del primer elemento que será excluído de la partición."
      ],
      "metadata": {
        "id": "Z5tpstlHJss3"
      }
    },
    {
      "cell_type": "code",
      "source": [
        "lista[0:2]"
      ],
      "metadata": {
        "id": "NctvJTTU8uV9",
        "colab": {
          "base_uri": "https://localhost:8080/"
        },
        "outputId": "920882d8-4296-491f-871e-7c24e5cb4665"
      },
      "execution_count": null,
      "outputs": [
        {
          "output_type": "execute_result",
          "data": {
            "text/plain": [
              "['Penélope Camacho', 9.5]"
            ]
          },
          "metadata": {},
          "execution_count": 43
        }
      ]
    },
    {
      "cell_type": "code",
      "source": [
        "lista"
      ],
      "metadata": {
        "id": "bQZUwldj8uY2",
        "colab": {
          "base_uri": "https://localhost:8080/"
        },
        "outputId": "41852f8a-c89f-4599-b84b-75d8b2de3435"
      },
      "execution_count": null,
      "outputs": [
        {
          "output_type": "execute_result",
          "data": {
            "text/plain": [
              "['Penélope Camacho', 9.5, 10.0, 9.7, True]"
            ]
          },
          "metadata": {},
          "execution_count": 45
        }
      ]
    },
    {
      "cell_type": "code",
      "source": [
        "lista[:3]"
      ],
      "metadata": {
        "colab": {
          "base_uri": "https://localhost:8080/"
        },
        "id": "eOGf_SmI4bDB",
        "outputId": "ab830b56-6bde-4266-d38a-d088b9c5f4c7"
      },
      "execution_count": null,
      "outputs": [
        {
          "output_type": "execute_result",
          "data": {
            "text/plain": [
              "['Penélope Camacho', 9.5, 10.0]"
            ]
          },
          "metadata": {},
          "execution_count": 47
        }
      ]
    },
    {
      "cell_type": "code",
      "source": [
        "lista[3:]"
      ],
      "metadata": {
        "colab": {
          "base_uri": "https://localhost:8080/"
        },
        "id": "IN1YGDJq4ays",
        "outputId": "092f5968-5199-441e-baf4-53db9a99a4f3"
      },
      "execution_count": null,
      "outputs": [
        {
          "output_type": "execute_result",
          "data": {
            "text/plain": [
              "[9.7, True]"
            ]
          },
          "metadata": {},
          "execution_count": 49
        }
      ]
    },
    {
      "cell_type": "code",
      "source": [
        "lista[:]"
      ],
      "metadata": {
        "colab": {
          "base_uri": "https://localhost:8080/"
        },
        "id": "0WPWkIl_47uS",
        "outputId": "d563c2a0-c991-428f-fbf6-da9cfd3bf791"
      },
      "execution_count": null,
      "outputs": [
        {
          "output_type": "execute_result",
          "data": {
            "text/plain": [
              "['Penélope Camacho', 9.5, 10.0, 9.7, True]"
            ]
          },
          "metadata": {},
          "execution_count": 50
        }
      ]
    },
    {
      "cell_type": "markdown",
      "source": [
        "#### [`append()`](https://docs.python.org/3/tutorial/datastructures.html#:~:text=of%20list%20objects%3A-,list.append(x),-Add%20an%20item)\n",
        "\n",
        "Añade un elemento al final de la lista."
      ],
      "metadata": {
        "id": "O0RRyabkRzZC"
      }
    },
    {
      "cell_type": "code",
      "source": [
        "lista.append(promedio_lista)\n",
        "lista"
      ],
      "metadata": {
        "id": "_Q0oODwa8spC",
        "colab": {
          "base_uri": "https://localhost:8080/"
        },
        "outputId": "c1861f7a-d82f-4240-916c-45d27f2274c7"
      },
      "execution_count": null,
      "outputs": [
        {
          "output_type": "execute_result",
          "data": {
            "text/plain": [
              "['Penélope Camacho', 9.5, 10.0, 9.7, True, 9.733333333333333]"
            ]
          },
          "metadata": {},
          "execution_count": 58
        }
      ]
    },
    {
      "cell_type": "code",
      "source": [],
      "metadata": {
        "id": "RM894r2M8sse"
      },
      "execution_count": null,
      "outputs": []
    },
    {
      "cell_type": "markdown",
      "source": [
        "#### [`extend()`](https://docs.python.org/3/tutorial/datastructures.html#:~:text=list.extend(iterable))\n",
        "\n",
        "Añade varios elementos al final de la lista.\n",
        "\n",
        "Añadiremos las notas `[10.0,8.0,9.0]` En la lista de Penélope Camacho."
      ],
      "metadata": {
        "id": "uQV91XMsUOJD"
      }
    },
    {
      "cell_type": "code",
      "source": [
        "lista.extend([10.0,8.0,9.0])\n",
        "lista"
      ],
      "metadata": {
        "id": "6Zk2MpMw8rQc",
        "colab": {
          "base_uri": "https://localhost:8080/"
        },
        "outputId": "543bad6a-92a4-4be0-a3e4-e75234390358"
      },
      "execution_count": null,
      "outputs": [
        {
          "output_type": "execute_result",
          "data": {
            "text/plain": [
              "['Penélope Camacho', 9.5, 10.0, 9.7, True, 9.733333333333333, 10.0, 8.0, 9.0]"
            ]
          },
          "metadata": {},
          "execution_count": 59
        }
      ]
    },
    {
      "cell_type": "markdown",
      "source": [
        "*A continuación te mostraremos lo que no puede realizarse con* `append`."
      ],
      "metadata": {
        "id": "IVJvkTwNUk6M"
      }
    },
    {
      "cell_type": "code",
      "source": [
        "lista"
      ],
      "metadata": {
        "id": "u3Eub2ZL8pp3",
        "colab": {
          "base_uri": "https://localhost:8080/"
        },
        "outputId": "33bf250d-4ed3-4c33-c028-8524f167b799"
      },
      "execution_count": null,
      "outputs": [
        {
          "output_type": "execute_result",
          "data": {
            "text/plain": [
              "['Penélope Camacho',\n",
              " 9.5,\n",
              " 10.0,\n",
              " 9.7,\n",
              " True,\n",
              " 9.733333333333333,\n",
              " 10.0,\n",
              " 8.0,\n",
              " 9.0,\n",
              " [10.0, 8.0, 9.0]]"
            ]
          },
          "metadata": {},
          "execution_count": 61
        }
      ]
    },
    {
      "cell_type": "code",
      "source": [
        "lista.remove([10.0, 8.0, 9.0])\n",
        "lista"
      ],
      "metadata": {
        "id": "tsKK5Ne58pvN",
        "colab": {
          "base_uri": "https://localhost:8080/"
        },
        "outputId": "e63ab7e3-f218-4b91-829b-6e20010bd970"
      },
      "execution_count": null,
      "outputs": [
        {
          "output_type": "execute_result",
          "data": {
            "text/plain": [
              "['Penélope Camacho', 9.5, 10.0, 9.7, True, 9.733333333333333, 10.0, 8.0, 9.0]"
            ]
          },
          "metadata": {},
          "execution_count": 62
        }
      ]
    },
    {
      "cell_type": "markdown",
      "source": [
        "#### [`remove()`](https://docs.python.org/3/tutorial/datastructures.html#:~:text=append(x).-,list.remove(x),-Remove%20the%20first)\n",
        "\n",
        "Remueve un elemento específico de la lista."
      ],
      "metadata": {
        "id": "dPGM5gpyUX1z"
      }
    },
    {
      "cell_type": "code",
      "source": [
        "lista.remove(9.733333333333333)"
      ],
      "metadata": {
        "id": "mmboODPc8nd5"
      },
      "execution_count": null,
      "outputs": []
    },
    {
      "cell_type": "code",
      "source": [
        "lista\n"
      ],
      "metadata": {
        "id": "T_w6vVgV8nh_",
        "colab": {
          "base_uri": "https://localhost:8080/"
        },
        "outputId": "1fe786aa-700c-4f99-c03a-c222b7758240"
      },
      "execution_count": null,
      "outputs": [
        {
          "output_type": "execute_result",
          "data": {
            "text/plain": [
              "['Penélope Camacho', 9.5, 10.0, 9.7, True, 9.733333333333333, 10.0, 8.0, 9.0]"
            ]
          },
          "metadata": {},
          "execution_count": 63
        }
      ]
    },
    {
      "cell_type": "code",
      "source": [
        "lista.remove(9.733333333333333)\n",
        "lista"
      ],
      "metadata": {
        "colab": {
          "base_uri": "https://localhost:8080/"
        },
        "id": "00jFIJo46bAC",
        "outputId": "2b4dd839-82cb-4d22-ab83-1ce0cca415a3"
      },
      "execution_count": null,
      "outputs": [
        {
          "output_type": "execute_result",
          "data": {
            "text/plain": [
              "['Penélope Camacho', 9.5, 10.0, 9.7, True]"
            ]
          },
          "metadata": {},
          "execution_count": 57
        }
      ]
    },
    {
      "cell_type": "code",
      "source": [
        "razas_de_perros = ['Labrador Retriever',\n",
        "                   'Bulldog Francés',\n",
        "                   'Pastor Alemán',\n",
        "                   'Poodle']\n",
        "razas_de_perros"
      ],
      "metadata": {
        "colab": {
          "base_uri": "https://localhost:8080/"
        },
        "id": "iAHLRqHI8K9T",
        "outputId": "a5ee625a-fb9d-4d7e-faee-3ee9b959b915"
      },
      "execution_count": null,
      "outputs": [
        {
          "output_type": "execute_result",
          "data": {
            "text/plain": [
              "['Labrador Retriever', 'Bulldog Francés', 'Pastor Alemán', 'Poodle']"
            ]
          },
          "metadata": {},
          "execution_count": 73
        }
      ]
    },
    {
      "cell_type": "code",
      "source": [
        "razas_de_perros.insert(1, 'Golden Retriever')\n",
        "razas_de_perros"
      ],
      "metadata": {
        "colab": {
          "base_uri": "https://localhost:8080/"
        },
        "id": "eA8jdYv58K3h",
        "outputId": "ca7a5be3-3e43-4b15-bd2a-b80a4e55b800"
      },
      "execution_count": null,
      "outputs": [
        {
          "output_type": "execute_result",
          "data": {
            "text/plain": [
              "['Labrador Retriever',\n",
              " 'Golden Retriever',\n",
              " 'Bulldog Francés',\n",
              " 'Pastor Alemán',\n",
              " 'Poodle']"
            ]
          },
          "metadata": {},
          "execution_count": 66
        }
      ]
    },
    {
      "cell_type": "code",
      "source": [
        "len(razas_de_perros)"
      ],
      "metadata": {
        "colab": {
          "base_uri": "https://localhost:8080/"
        },
        "id": "R6qf_7Az8Kme",
        "outputId": "cbbb020f-91c7-474b-8ca8-0dcaf744b034"
      },
      "execution_count": null,
      "outputs": [
        {
          "output_type": "execute_result",
          "data": {
            "text/plain": [
              "5"
            ]
          },
          "metadata": {},
          "execution_count": 67
        }
      ]
    },
    {
      "cell_type": "code",
      "source": [
        "razas_de_perros.pop(1)\n",
        "razas_de_perros"
      ],
      "metadata": {
        "colab": {
          "base_uri": "https://localhost:8080/"
        },
        "id": "PPb9AgQt8z1E",
        "outputId": "66ef4757-2bd9-47bb-f205-6599a40d85b0"
      },
      "execution_count": null,
      "outputs": [
        {
          "output_type": "execute_result",
          "data": {
            "text/plain": [
              "['Labrador Retriever', 'Pastor Alemán', 'Poodle']"
            ]
          },
          "metadata": {},
          "execution_count": 69
        }
      ]
    },
    {
      "cell_type": "code",
      "source": [
        "razas_de_perros.index('Pastor Alemán')"
      ],
      "metadata": {
        "colab": {
          "base_uri": "https://localhost:8080/"
        },
        "id": "nmAxzel48zpX",
        "outputId": "b66614cd-47b2-4bee-9423-035c5a7e1541"
      },
      "execution_count": null,
      "outputs": [
        {
          "output_type": "execute_result",
          "data": {
            "text/plain": [
              "1"
            ]
          },
          "metadata": {},
          "execution_count": 70
        }
      ]
    },
    {
      "cell_type": "code",
      "source": [
        "razas_de_perros.sort()\n",
        "razas_de_perros"
      ],
      "metadata": {
        "colab": {
          "base_uri": "https://localhost:8080/"
        },
        "id": "_8N-vCXQ9dQn",
        "outputId": "a02c598e-160b-4bdf-b631-0c7bc5cc09d8"
      },
      "execution_count": null,
      "outputs": [
        {
          "output_type": "execute_result",
          "data": {
            "text/plain": [
              "['Labrador Retriever', 'Pastor Alemán', 'Poodle']"
            ]
          },
          "metadata": {},
          "execution_count": 71
        }
      ]
    },
    {
      "cell_type": "code",
      "source": [
        "razas_de_perros"
      ],
      "metadata": {
        "colab": {
          "base_uri": "https://localhost:8080/"
        },
        "id": "cu2zBWNx9c_L",
        "outputId": "3ee8c25f-97c3-46e1-a12a-b6f996c490b1"
      },
      "execution_count": null,
      "outputs": [
        {
          "output_type": "execute_result",
          "data": {
            "text/plain": [
              "['Labrador Retriever', 'Bulldog Francés', 'Pastor Alemán', 'Poodle']"
            ]
          },
          "metadata": {},
          "execution_count": 74
        }
      ]
    },
    {
      "cell_type": "code",
      "source": [
        "razas_de_perros.sort()\n",
        "razas_de_perros"
      ],
      "metadata": {
        "colab": {
          "base_uri": "https://localhost:8080/"
        },
        "id": "UuD2eFn--oMj",
        "outputId": "512b8bcc-3b24-4bd7-cc04-eb4cb516b7f0"
      },
      "execution_count": null,
      "outputs": [
        {
          "output_type": "execute_result",
          "data": {
            "text/plain": [
              "['Bulldog Francés', 'Labrador Retriever', 'Pastor Alemán', 'Poodle']"
            ]
          },
          "metadata": {},
          "execution_count": 75
        }
      ]
    },
    {
      "cell_type": "markdown",
      "source": [
        "## Diccionario"
      ],
      "metadata": {
        "id": "Rc22Vc08YDZ2"
      }
    },
    {
      "cell_type": "markdown",
      "source": [
        "Los diccionarios son un tipo de estructura de datos que almacenan pares de *llave-valor*. Estos son delimitados por llaves `{}` y los pares *llave-valor* son separados por comas.\n",
        "\n",
        "```\n",
        "diccionario = {llave: valor}\n",
        "```\n",
        "\n",
        "La **llave** es un elemento único que identifica a un valor en el diccionario, mientras que el **valor** es el item que será almacenado para la llave. Las llaves y sus respectivos valores se pueden emplear para **cualquier tipo de dato**.\n",
        "\n",
        "Los diccionarios son útiles para almacenar y acceder a los datos de manera organizada y rápida. Se trata de un tipo de conjunto de elementos en Python, pues almacenan una colección de items."
      ],
      "metadata": {
        "id": "PJ-cCKPjeWxL"
      }
    },
    {
      "cell_type": "code",
      "source": [
        "Diccionario_Primero = {'Llave_a_1':1, 'Llave_a_2':2}\n",
        "Diccionario_Primero"
      ],
      "metadata": {
        "id": "NDHhzooE8ld5",
        "colab": {
          "base_uri": "https://localhost:8080/"
        },
        "outputId": "cbe512f6-4d32-4d25-d5f7-d91ddf428724"
      },
      "execution_count": null,
      "outputs": [
        {
          "output_type": "execute_result",
          "data": {
            "text/plain": [
              "{'Llave_a_1': 1, 'Llave_a_2': 2}"
            ]
          },
          "metadata": {},
          "execution_count": 3
        }
      ]
    },
    {
      "cell_type": "code",
      "source": [
        "type(Diccionario_Primero)"
      ],
      "metadata": {
        "id": "AVOzqzy-8lhh",
        "colab": {
          "base_uri": "https://localhost:8080/"
        },
        "outputId": "cf5e0b47-7ed2-4642-967e-ef2b792ae352"
      },
      "execution_count": null,
      "outputs": [
        {
          "output_type": "execute_result",
          "data": {
            "text/plain": [
              "dict"
            ]
          },
          "metadata": {},
          "execution_count": 4
        }
      ]
    },
    {
      "cell_type": "markdown",
      "source": [
        "---\n",
        "**Situación:**\n",
        "\n",
        "Vamos a crear un conjunto de datos con las informaciones de matrícula de un estudiante. Los datos son los siguientes:\n",
        "\n",
        "- matrícula: 2000168933\n",
        "- día de registro: 25\n",
        "- mes de registro: 10\n",
        "- grupo: 2E"
      ],
      "metadata": {
        "id": "_JbQ3KMKfkXU"
      }
    },
    {
      "cell_type": "code",
      "source": [
        "Matricula_Estudiante = {'Matricula':2000168933, 'Dia_Registro':25, 'Mes_Registro':10, 'Grupo':'2E'}\n",
        "Matricula_Estudiante"
      ],
      "metadata": {
        "id": "0lfOu_c38jED",
        "colab": {
          "base_uri": "https://localhost:8080/"
        },
        "outputId": "d053a0cb-b1fa-4572-bea0-ccf333f6b5f8"
      },
      "execution_count": null,
      "outputs": [
        {
          "output_type": "execute_result",
          "data": {
            "text/plain": [
              "{'Matricula': 2000168933,\n",
              " 'Dia_Registro': 25,\n",
              " 'Mes_Registro': 10,\n",
              " 'Grupo': '2E'}"
            ]
          },
          "metadata": {},
          "execution_count": 5
        }
      ]
    },
    {
      "cell_type": "code",
      "source": [
        "type(Matricula_Estudiante)"
      ],
      "metadata": {
        "id": "XIuqpTTy8jHV",
        "colab": {
          "base_uri": "https://localhost:8080/"
        },
        "outputId": "0c6b17d5-676a-4022-f75e-9afa7ad1670f"
      },
      "execution_count": null,
      "outputs": [
        {
          "output_type": "execute_result",
          "data": {
            "text/plain": [
              "dict"
            ]
          },
          "metadata": {},
          "execution_count": 7
        }
      ]
    },
    {
      "cell_type": "code",
      "source": [
        "Matricula_Estudiante"
      ],
      "metadata": {
        "colab": {
          "base_uri": "https://localhost:8080/"
        },
        "id": "gcf8c19pBNyX",
        "outputId": "6bbf4aae-7fe1-4775-836f-a63242aba11f"
      },
      "execution_count": null,
      "outputs": [
        {
          "output_type": "execute_result",
          "data": {
            "text/plain": [
              "{'Matricula': 2000168933,\n",
              " 'Dia_Registro': 25,\n",
              " 'Mes_Registro': 10,\n",
              " 'Grupo': '2E'}"
            ]
          },
          "metadata": {},
          "execution_count": 8
        }
      ]
    },
    {
      "cell_type": "code",
      "source": [
        "Matricula_Estudiante['Matricula']\n"
      ],
      "metadata": {
        "colab": {
          "base_uri": "https://localhost:8080/"
        },
        "id": "vzLaxD0aBNlq",
        "outputId": "07a980e8-3b25-42db-e986-62490e1c06f7"
      },
      "execution_count": null,
      "outputs": [
        {
          "output_type": "execute_result",
          "data": {
            "text/plain": [
              "2000168933"
            ]
          },
          "metadata": {},
          "execution_count": 9
        }
      ]
    },
    {
      "cell_type": "code",
      "source": [
        "Matricula_Estudiante['Grupo']"
      ],
      "metadata": {
        "colab": {
          "base_uri": "https://localhost:8080/",
          "height": 35
        },
        "id": "lIUeDK8IB7N5",
        "outputId": "389e0c27-ffeb-44ae-d737-105273e02c45"
      },
      "execution_count": null,
      "outputs": [
        {
          "output_type": "execute_result",
          "data": {
            "text/plain": [
              "'2E'"
            ],
            "application/vnd.google.colaboratory.intrinsic+json": {
              "type": "string"
            }
          },
          "metadata": {},
          "execution_count": 10
        }
      ]
    },
    {
      "cell_type": "code",
      "source": [
        "Matricula_Estudiante['Grupo'] = '2G'"
      ],
      "metadata": {
        "id": "GfyOLZOICK-b"
      },
      "execution_count": null,
      "outputs": []
    },
    {
      "cell_type": "markdown",
      "source": [
        "Es posible sustituir los valores dentro de una llave. Por ejemplo, recibimos la información de que el grupo del estudiante que registramos cambio a `'2G'` y ahora necesitamos cambiar el valor de la llave `'grupo'`."
      ],
      "metadata": {
        "id": "8ex5pt2ykDd2"
      }
    },
    {
      "cell_type": "code",
      "source": [
        "Matricula_Estudiante['Grupo'] = '2G'"
      ],
      "metadata": {
        "id": "kQGlp36b8fyP"
      },
      "execution_count": null,
      "outputs": []
    },
    {
      "cell_type": "code",
      "source": [
        "Matricula_Estudiante"
      ],
      "metadata": {
        "id": "DnfH_qHi8f17",
        "colab": {
          "base_uri": "https://localhost:8080/"
        },
        "outputId": "47b441c5-677d-4a4c-c1ed-6da3111abd88"
      },
      "execution_count": null,
      "outputs": [
        {
          "output_type": "execute_result",
          "data": {
            "text/plain": [
              "{'Matricula': 2000168933,\n",
              " 'Dia_Registro': 25,\n",
              " 'Mes_Registro': 10,\n",
              " 'Grupo': '2G',\n",
              " 'Gripo': '2G'}"
            ]
          },
          "metadata": {},
          "execution_count": 16
        }
      ]
    },
    {
      "cell_type": "code",
      "source": [
        "del Matricula_Estudiante['Gripo']"
      ],
      "metadata": {
        "id": "2neidFGpC78r"
      },
      "execution_count": null,
      "outputs": []
    },
    {
      "cell_type": "code",
      "source": [
        "Matricula_Estudiante"
      ],
      "metadata": {
        "colab": {
          "base_uri": "https://localhost:8080/"
        },
        "id": "Rk632o67E62t",
        "outputId": "0553bf9c-27ae-48c8-e9df-bf341fb9d3d8"
      },
      "execution_count": null,
      "outputs": [
        {
          "output_type": "execute_result",
          "data": {
            "text/plain": [
              "{'Matricula': 2000168933,\n",
              " 'Dia_Registro': 25,\n",
              " 'Mes_Registro': 10,\n",
              " 'Grupo': '2G'}"
            ]
          },
          "metadata": {},
          "execution_count": 19
        }
      ]
    },
    {
      "cell_type": "markdown",
      "source": [
        "También podemos añadir otros datos al diccionario. Vamos a añadir la información sobre la modalidad de estudio, nuestro estudiante estudiará inicialemente en la modalidad EAD.\n",
        "\n",
        "Definiremos una llave llamada `'modalidad'` con el valor `'EAD'`."
      ],
      "metadata": {
        "id": "wB0qRb56mQvv"
      }
    },
    {
      "cell_type": "code",
      "source": [
        "Matricula_Estudiante['Modalidad'] = 'EAD'"
      ],
      "metadata": {
        "id": "EeLYdlIm8d8a"
      },
      "execution_count": null,
      "outputs": []
    },
    {
      "cell_type": "code",
      "source": [
        "Matricula_Estudiante"
      ],
      "metadata": {
        "id": "olDIavsm8d_o",
        "colab": {
          "base_uri": "https://localhost:8080/"
        },
        "outputId": "7462cb93-0483-4581-d8db-ecd22ce1569c"
      },
      "execution_count": null,
      "outputs": [
        {
          "output_type": "execute_result",
          "data": {
            "text/plain": [
              "{'Matricula': 2000168933,\n",
              " 'Dia_Registro': 25,\n",
              " 'Mes_Registro': 10,\n",
              " 'Grupo': '2G',\n",
              " 'Modalidad': 'EAD'}"
            ]
          },
          "metadata": {},
          "execution_count": 21
        }
      ]
    },
    {
      "cell_type": "code",
      "source": [
        "type(Matricula_Estudiante)\n"
      ],
      "metadata": {
        "colab": {
          "base_uri": "https://localhost:8080/"
        },
        "id": "iVzErsvlFmHj",
        "outputId": "7eb6cf29-75d4-4793-b9ac-9d875c6f4875"
      },
      "execution_count": null,
      "outputs": [
        {
          "output_type": "execute_result",
          "data": {
            "text/plain": [
              "dict"
            ]
          },
          "metadata": {},
          "execution_count": 22
        }
      ]
    },
    {
      "cell_type": "code",
      "source": [
        "len(Matricula_Estudiante)"
      ],
      "metadata": {
        "colab": {
          "base_uri": "https://localhost:8080/"
        },
        "id": "otPS-OE_FtRD",
        "outputId": "cbe9dacc-1813-4627-ab13-e81394d6709e"
      },
      "execution_count": null,
      "outputs": [
        {
          "output_type": "execute_result",
          "data": {
            "text/plain": [
              "5"
            ]
          },
          "metadata": {},
          "execution_count": 23
        }
      ]
    },
    {
      "cell_type": "markdown",
      "source": [
        "## Profundizando en diccionarios"
      ],
      "metadata": {
        "id": "LJ3o_inroxg_"
      }
    },
    {
      "cell_type": "markdown",
      "source": [
        "#### [`pop()`](https://python-reference.readthedocs.io/en/latest/docs/dict/pop.html)\n",
        "Remueve un item de un diccionario y lo representa en la salida."
      ],
      "metadata": {
        "id": "2N3GLlkSpBiu"
      }
    },
    {
      "cell_type": "code",
      "source": [
        "Matricula_Estudiante"
      ],
      "metadata": {
        "id": "ZsSCZx6G8b-T",
        "colab": {
          "base_uri": "https://localhost:8080/"
        },
        "outputId": "d377ef06-98b2-4f51-be58-a60f17899c15"
      },
      "execution_count": null,
      "outputs": [
        {
          "output_type": "execute_result",
          "data": {
            "text/plain": [
              "{'Matricula': 2000168933,\n",
              " 'Dia_Registro': 25,\n",
              " 'Mes_Registro': 10,\n",
              " 'Grupo': '2G',\n",
              " 'Modalidad': 'EAD'}"
            ]
          },
          "metadata": {},
          "execution_count": 24
        }
      ]
    },
    {
      "cell_type": "code",
      "source": [
        "Matricula_Estudiante.pop('Grupo')"
      ],
      "metadata": {
        "id": "7lQ8_jpi8cBR",
        "colab": {
          "base_uri": "https://localhost:8080/",
          "height": 35
        },
        "outputId": "04e42bab-992b-4ed2-ca02-84a6bb43b29d"
      },
      "execution_count": null,
      "outputs": [
        {
          "output_type": "execute_result",
          "data": {
            "text/plain": [
              "'2G'"
            ],
            "application/vnd.google.colaboratory.intrinsic+json": {
              "type": "string"
            }
          },
          "metadata": {},
          "execution_count": 25
        }
      ]
    },
    {
      "cell_type": "code",
      "source": [
        "Matricula_Estudiante"
      ],
      "metadata": {
        "colab": {
          "base_uri": "https://localhost:8080/"
        },
        "id": "5-6rGjfrGp7C",
        "outputId": "2571b8cc-3425-4e06-b47c-6fe2ee5e32ce"
      },
      "execution_count": null,
      "outputs": [
        {
          "output_type": "execute_result",
          "data": {
            "text/plain": [
              "{'Matricula': 2000168933,\n",
              " 'Dia_Registro': 25,\n",
              " 'Mes_Registro': 10,\n",
              " 'Modalidad': 'EAD'}"
            ]
          },
          "metadata": {},
          "execution_count": 26
        }
      ]
    },
    {
      "cell_type": "markdown",
      "source": [
        "#### [`items()`](https://python-reference.readthedocs.io/en/latest/docs/dict/items.html)\n",
        "Retorna una lista de pares `llave-valor` del diccionario."
      ],
      "metadata": {
        "id": "sYZGvJJYrW_y"
      }
    },
    {
      "cell_type": "code",
      "source": [
        "Matricula_Estudiante.items()"
      ],
      "metadata": {
        "id": "ncdycLV08an7",
        "colab": {
          "base_uri": "https://localhost:8080/"
        },
        "outputId": "0bf776c3-b037-4717-a5c0-72a5bf0c249c"
      },
      "execution_count": null,
      "outputs": [
        {
          "output_type": "execute_result",
          "data": {
            "text/plain": [
              "dict_items([('Matricula', 2000168933), ('Dia_Registro', 25), ('Mes_Registro', 10), ('Modalidad', 'EAD')])"
            ]
          },
          "metadata": {},
          "execution_count": 27
        }
      ]
    },
    {
      "cell_type": "markdown",
      "source": [
        "#### [`keys()`](https://python-reference.readthedocs.io/en/latest/docs/dict/keys.html)\n",
        "Retorna una lista de las llaves del diccionario."
      ],
      "metadata": {
        "id": "Lb0utNFGrZBY"
      }
    },
    {
      "cell_type": "code",
      "source": [
        "Matricula_Estudiante.keys()"
      ],
      "metadata": {
        "id": "eZo0biaM8ZVs",
        "colab": {
          "base_uri": "https://localhost:8080/"
        },
        "outputId": "5beeae7a-a9f3-4698-8365-99bd02a64094"
      },
      "execution_count": null,
      "outputs": [
        {
          "output_type": "execute_result",
          "data": {
            "text/plain": [
              "dict_keys(['Matricula', 'Dia_Registro', 'Mes_Registro', 'Modalidad'])"
            ]
          },
          "metadata": {},
          "execution_count": 29
        }
      ]
    },
    {
      "cell_type": "markdown",
      "source": [
        "#### [`values()`](https://python-reference.readthedocs.io/en/latest/docs/dict/values.html)\n",
        "Retorna una lista de los valores del diccionario."
      ],
      "metadata": {
        "id": "qKyu3bf9rbtX"
      }
    },
    {
      "cell_type": "code",
      "source": [
        "Matricula_Estudiante.values()"
      ],
      "metadata": {
        "colab": {
          "base_uri": "https://localhost:8080/"
        },
        "id": "KN_fCEJVHj1z",
        "outputId": "fe0a1b19-c002-4dfa-a0b4-b38ae32ac799"
      },
      "execution_count": null,
      "outputs": [
        {
          "output_type": "execute_result",
          "data": {
            "text/plain": [
              "dict_values([2000168933, 25, 10, 'EAD'])"
            ]
          },
          "metadata": {},
          "execution_count": 30
        }
      ]
    },
    {
      "cell_type": "code",
      "source": [],
      "metadata": {
        "id": "-NxRT9C18Yvo"
      },
      "execution_count": null,
      "outputs": []
    },
    {
      "cell_type": "markdown",
      "source": [
        "### Lectura de valores con el lazo `for`"
      ],
      "metadata": {
        "id": "e3XVjR8Frp75"
      }
    },
    {
      "cell_type": "code",
      "source": [
        "for Llave_estudiante in Matricula_Estudiante.keys():\n",
        "  print(Lllave_estudiante)"
      ],
      "metadata": {
        "id": "NYcjU-Ip8Xan",
        "colab": {
          "base_uri": "https://localhost:8080/"
        },
        "outputId": "deb1f94f-0291-44e9-e767-b68d61d87db3"
      },
      "execution_count": null,
      "outputs": [
        {
          "output_type": "stream",
          "name": "stdout",
          "text": [
            "Modalidad\n",
            "Modalidad\n",
            "Modalidad\n",
            "Modalidad\n"
          ]
        }
      ]
    },
    {
      "cell_type": "code",
      "source": [
        "for Llave_estudiante,Valor_estudiante in Matricula_Estudiante.items():\n",
        "  print(Llave_estudiante, ' --> ' ,Valor_estudiante)"
      ],
      "metadata": {
        "id": "aAnpP1Wv8XfJ",
        "colab": {
          "base_uri": "https://localhost:8080/"
        },
        "outputId": "a58b358c-d9cf-4048-dfca-4ea40b3208e1"
      },
      "execution_count": null,
      "outputs": [
        {
          "output_type": "stream",
          "name": "stdout",
          "text": [
            "Matricula  -->  2000168933\n",
            "Dia_Registro  -->  25\n",
            "Mes_Registro  -->  10\n",
            "Modalidad  -->  EAD\n"
          ]
        }
      ]
    },
    {
      "cell_type": "markdown",
      "source": [
        "#**Para saber más: listas en diccionarios**"
      ],
      "metadata": {
        "id": "38xV2bS4JW6U"
      }
    },
    {
      "cell_type": "code",
      "source": [
        "Tienda_Electrodomesticos = {'nombres': ['televisión', 'celular', 'notebook', 'geladeira', 'estufa'],\n",
        "          'precios': [2000, 1500, 3500, 4000, 1500]}"
      ],
      "metadata": {
        "id": "i0ajxqNoJbmt"
      },
      "execution_count": null,
      "outputs": []
    },
    {
      "cell_type": "code",
      "source": [
        "Tienda_Electrodomesticos"
      ],
      "metadata": {
        "colab": {
          "base_uri": "https://localhost:8080/"
        },
        "id": "25aQXgGcJ5VN",
        "outputId": "c08867b1-d79a-4dd1-d464-5e7eccac753e"
      },
      "execution_count": null,
      "outputs": [
        {
          "output_type": "execute_result",
          "data": {
            "text/plain": [
              "{'nombres': ['televisión', 'celular', 'notebook', 'geladeira', 'estufa'],\n",
              " 'precios': [2000, 1500, 3500, 4000, 1500]}"
            ]
          },
          "metadata": {},
          "execution_count": 36
        }
      ]
    },
    {
      "cell_type": "code",
      "source": [
        "for Electrodomestico_tienda in Tienda_Electrodomesticos['nombres']:\n",
        "  print(Electrodomestico_tienda)"
      ],
      "metadata": {
        "colab": {
          "base_uri": "https://localhost:8080/"
        },
        "id": "slkGlvl8J8ST",
        "outputId": "9ec5cb92-7278-4599-8d7f-aee8567b8189"
      },
      "execution_count": null,
      "outputs": [
        {
          "output_type": "stream",
          "name": "stdout",
          "text": [
            "televisión\n",
            "celular\n",
            "notebook\n",
            "geladeira\n",
            "estufa\n"
          ]
        }
      ]
    },
    {
      "cell_type": "code",
      "source": [
        "for Precios_tienda in Tienda_Electrodomesticos['precios']:\n",
        "  print(Precios_tienda)"
      ],
      "metadata": {
        "colab": {
          "base_uri": "https://localhost:8080/"
        },
        "id": "Rpoe6MXIKYAA",
        "outputId": "14faa810-cf7b-4bcd-a219-c6469d2a53b5"
      },
      "execution_count": null,
      "outputs": [
        {
          "output_type": "stream",
          "name": "stdout",
          "text": [
            "2000\n",
            "1500\n",
            "3500\n",
            "4000\n",
            "1500\n"
          ]
        }
      ]
    },
    {
      "cell_type": "code",
      "source": [
        "for Clave_tienda, Elementos_tienda in Tienda_Electrodomesticos.items():\n",
        "  print(f'Clave_lista_ tienda: {Clave_tienda}\\n\\tElementos_lista_tienda:')\n",
        "  for Dato_teinda in Elementos_tienda:\n",
        "    print(f'\\t {Dato_teinda}')\n"
      ],
      "metadata": {
        "colab": {
          "base_uri": "https://localhost:8080/"
        },
        "id": "vijAZImGK0HB",
        "outputId": "f9ae9fe6-f86e-4446-c0ae-b07732e815f2"
      },
      "execution_count": null,
      "outputs": [
        {
          "output_type": "stream",
          "name": "stdout",
          "text": [
            "Clave_lista_ tienda: nombres\n",
            "\tElementos_lista_tienda:\n",
            "\t televisión\n",
            "\t celular\n",
            "\t notebook\n",
            "\t geladeira\n",
            "\t estufa\n",
            "Clave_lista_ tienda: precios\n",
            "\tElementos_lista_tienda:\n",
            "\t 2000\n",
            "\t 1500\n",
            "\t 3500\n",
            "\t 4000\n",
            "\t 1500\n"
          ]
        }
      ]
    },
    {
      "cell_type": "markdown",
      "source": [
        "#**Para saber más: funciones incorporadas**"
      ],
      "metadata": {
        "id": "kfsjQohNM__S"
      }
    },
    {
      "cell_type": "code",
      "source": [
        "Precios_productos = [100.0, 400.0, 200.0]\n",
        "suma = sum(Precios_productos)\n",
        "suma"
      ],
      "metadata": {
        "colab": {
          "base_uri": "https://localhost:8080/"
        },
        "id": "nylqiuHYM-0C",
        "outputId": "1a098eb2-2785-4f18-a018-dc1025923128"
      },
      "execution_count": null,
      "outputs": [
        {
          "output_type": "execute_result",
          "data": {
            "text/plain": [
              "700.0"
            ]
          },
          "metadata": {},
          "execution_count": 46
        }
      ]
    },
    {
      "cell_type": "code",
      "source": [
        "help(print)"
      ],
      "metadata": {
        "colab": {
          "base_uri": "https://localhost:8080/"
        },
        "id": "8mC8_iVENqbA",
        "outputId": "6add40df-9cc5-407e-cfd0-d668d1d24190"
      },
      "execution_count": null,
      "outputs": [
        {
          "output_type": "stream",
          "name": "stdout",
          "text": [
            "Help on built-in function print in module builtins:\n",
            "\n",
            "print(*args, sep=' ', end='\\n', file=None, flush=False)\n",
            "    Prints the values to a stream, or to sys.stdout by default.\n",
            "    \n",
            "    sep\n",
            "      string inserted between values, default a space.\n",
            "    end\n",
            "      string appended after the last value, default a newline.\n",
            "    file\n",
            "      a file-like object (stream); defaults to the current sys.stdout.\n",
            "    flush\n",
            "      whether to forcibly flush the stream.\n",
            "\n"
          ]
        }
      ]
    },
    {
      "cell_type": "code",
      "source": [
        "help(sum)"
      ],
      "metadata": {
        "colab": {
          "base_uri": "https://localhost:8080/"
        },
        "id": "jUIxkOuONuQ8",
        "outputId": "83216b50-a811-47c5-95b6-c4ea792aff76"
      },
      "execution_count": null,
      "outputs": [
        {
          "output_type": "stream",
          "name": "stdout",
          "text": [
            "Help on built-in function sum in module builtins:\n",
            "\n",
            "sum(iterable, /, start=0)\n",
            "    Return the sum of a 'start' value (default: 0) plus an iterable of numbers\n",
            "    \n",
            "    When the iterable is empty, return the start value.\n",
            "    This function is intended specifically for use with numeric values and may\n",
            "    reject non-numeric types.\n",
            "\n"
          ]
        }
      ]
    },
    {
      "cell_type": "code",
      "source": [
        "Lista_numeros = [1,2,3]\n",
        "dir(Lista_numeros)"
      ],
      "metadata": {
        "colab": {
          "base_uri": "https://localhost:8080/"
        },
        "id": "_P8j32UBN7ae",
        "outputId": "573b3291-3686-4759-e4c4-4f8a19d03485"
      },
      "execution_count": null,
      "outputs": [
        {
          "output_type": "execute_result",
          "data": {
            "text/plain": [
              "['__add__',\n",
              " '__class__',\n",
              " '__class_getitem__',\n",
              " '__contains__',\n",
              " '__delattr__',\n",
              " '__delitem__',\n",
              " '__dir__',\n",
              " '__doc__',\n",
              " '__eq__',\n",
              " '__format__',\n",
              " '__ge__',\n",
              " '__getattribute__',\n",
              " '__getitem__',\n",
              " '__getstate__',\n",
              " '__gt__',\n",
              " '__hash__',\n",
              " '__iadd__',\n",
              " '__imul__',\n",
              " '__init__',\n",
              " '__init_subclass__',\n",
              " '__iter__',\n",
              " '__le__',\n",
              " '__len__',\n",
              " '__lt__',\n",
              " '__mul__',\n",
              " '__ne__',\n",
              " '__new__',\n",
              " '__reduce__',\n",
              " '__reduce_ex__',\n",
              " '__repr__',\n",
              " '__reversed__',\n",
              " '__rmul__',\n",
              " '__setattr__',\n",
              " '__setitem__',\n",
              " '__sizeof__',\n",
              " '__str__',\n",
              " '__subclasshook__',\n",
              " 'append',\n",
              " 'clear',\n",
              " 'copy',\n",
              " 'count',\n",
              " 'extend',\n",
              " 'index',\n",
              " 'insert',\n",
              " 'pop',\n",
              " 'remove',\n",
              " 'reverse',\n",
              " 'sort']"
            ]
          },
          "metadata": {},
          "execution_count": 52
        }
      ]
    },
    {
      "cell_type": "markdown",
      "source": [
        "#**Desafío: ¡Es hora de practicar! Seccion 5**"
      ],
      "metadata": {
        "id": "GWt8HKaLOqTJ"
      }
    },
    {
      "cell_type": "code",
      "source": [
        "Lista_empresa_papel = [2172.54, 3701.35, 3518.09, 3456.61, 3249.38, 2840.82, 3891.45, 3075.26, 2317.64, 3219.08]\n",
        "Lista_empresa_papel"
      ],
      "metadata": {
        "colab": {
          "base_uri": "https://localhost:8080/"
        },
        "id": "dU9eDJhcOHkC",
        "outputId": "0d41ec02-c87c-4843-a37d-5abc42b13fbd"
      },
      "execution_count": null,
      "outputs": [
        {
          "output_type": "execute_result",
          "data": {
            "text/plain": [
              "[2172.54,\n",
              " 3701.35,\n",
              " 3518.09,\n",
              " 3456.61,\n",
              " 3249.38,\n",
              " 2840.82,\n",
              " 3891.45,\n",
              " 3075.26,\n",
              " 2317.64,\n",
              " 3219.08]"
            ]
          },
          "metadata": {},
          "execution_count": 53
        }
      ]
    },
    {
      "cell_type": "code",
      "source": [
        "# en realidad son gastos no precios\n",
        "Lista_precios_empresa_papel = [2172.54, 3701.35, 3518.09, 3456.61, 3249.38, 2840.82, 3891.45, 3075.26, 2317.64, 3219.08]\n",
        "Suma_precios_empresa_papel = sum(Lista_precios_empresa_papel)\n",
        "print(f'La suma de precios empresa papel es de {Suma_precios_empresa_papel}')\n",
        "Cantidad_precios_Emp_Papel = len(Lista_precios_empresa_papel)\n",
        "print(f'La cantidad de precios de empresa papel es de {Cantidad_precios_Emp_Papel}')\n",
        "Promedio_precios_Emp_Papel = Suma_precios_empresa_papel/Cantidad_precios_Emp_Papel\n",
        "print(f'El promedio de precios (gastos) de empresa papel es de {Promedio_precios_Emp_Papel}')\n"
      ],
      "metadata": {
        "colab": {
          "base_uri": "https://localhost:8080/"
        },
        "id": "QxyYD_ECOHfl",
        "outputId": "75d4dfc0-e458-4c98-f574-eb44bf75213e"
      },
      "execution_count": null,
      "outputs": [
        {
          "output_type": "stream",
          "name": "stdout",
          "text": [
            "La suma de precios empresa papel es de 31442.22\n",
            "La cantidad de precios de empresa papel es de 10\n",
            "El promedio de precios (gastos) de empresa papel es de 3144.222\n"
          ]
        }
      ]
    },
    {
      "cell_type": "code",
      "source": [
        "Contador_Gastos_Emp_Papel = 0\n",
        "for Gastos_Emp_Papel in Lista_precios_empresa_papel:\n",
        "   if Gastos_Emp_Papel>3000.00:\n",
        "     Contador_Gastos_Emp_Papel += 1\n",
        "Porcentaje_MAyor_3000 = (Contador_Gastos_Emp_Papel/Cantidad_precios_Emp_Papel)*100\n",
        "print(f'El porcentaje de gastos mayores a 3000 es de {Porcentaje_MAyor_3000}%')\n",
        "print(f'La cantidad de gastos mayores a 3000 es de {Contador_Gastos_Emp_Papel} compras de {Cantidad_precios_Emp_Papel} compras')\n",
        "print(f'\\n\\tFinaliza el programa')\n",
        "\n"
      ],
      "metadata": {
        "colab": {
          "base_uri": "https://localhost:8080/"
        },
        "id": "xjb-qt6zOHbU",
        "outputId": "0fd87622-b714-4645-b7f7-f9dfb2b26d5b"
      },
      "execution_count": null,
      "outputs": [
        {
          "output_type": "stream",
          "name": "stdout",
          "text": [
            "El porcentaje de gastos mayores a 3000 es de 70.0%\n",
            "La cantidad de gastos mayores a 3000 es de 7 compras de 10 compras\n",
            "\n",
            "\tFinaliza el programa\n"
          ]
        }
      ]
    },
    {
      "cell_type": "code",
      "source": [
        "Lista_Numeros_aleatorios = []\n",
        "Cantidad_numeros_aleatorios = int(input('Digite la cantidad de numeros aleatorios a generar: '))\n",
        "import random\n",
        "for Llenar_lista in range (0,Cantidad_numeros_aleatorios):\n",
        "  Numeros_aleatorios = random.randint(0,10)\n",
        "  Lista_Numeros_aleatorios.append(Numeros_aleatorios)\n",
        "print(Lista_Numeros_aleatorios)"
      ],
      "metadata": {
        "colab": {
          "base_uri": "https://localhost:8080/"
        },
        "id": "Rqh5bLn8OHXJ",
        "outputId": "74f246ff-37d7-4244-d4ce-73ec716e8194"
      },
      "execution_count": null,
      "outputs": [
        {
          "output_type": "stream",
          "name": "stdout",
          "text": [
            "Digite la cantidad de numeros aleatorios a generar: 5\n",
            "[6, 3, 5, 1, 4]\n"
          ]
        }
      ]
    },
    {
      "cell_type": "code",
      "source": [
        "Lista_Numeros_aleatorios_A = []\n",
        "Cantidad_numeros_aleatorios = int(input('Digite la cantidad de numeros aleatorios a generar: '))\n",
        "# import random\n",
        "for Llenar_lista in range (0,Cantidad_numeros_aleatorios):\n",
        "  # Numeros_aleatorios = random.randint(0,10)\n",
        "  Numeros_aleatorios = int(input('Digite un numero aleatorio: '))\n",
        "# import random\n",
        "  Lista_Numeros_aleatorios_A.append(Numeros_aleatorios)\n",
        "print(Lista_Numeros_aleatorios)"
      ],
      "metadata": {
        "colab": {
          "base_uri": "https://localhost:8080/"
        },
        "id": "E6xBpV1SOHPr",
        "outputId": "ee7a32f8-0dbc-47ff-9865-fec44b774d31"
      },
      "execution_count": null,
      "outputs": [
        {
          "output_type": "stream",
          "name": "stdout",
          "text": [
            "Digite la cantidad de numeros aleatorios a generar: 5\n",
            "Digite un numero aleatorio: 1\n",
            "Digite un numero aleatorio: 4\n",
            "Digite un numero aleatorio: 7\n",
            "Digite un numero aleatorio: 2\n",
            "Digite un numero aleatorio: 4\n",
            "[6, 3, 5, 1, 4]\n"
          ]
        }
      ]
    },
    {
      "cell_type": "code",
      "source": [
        "Lista_Numeros_aleatorios = []\n",
        "Cantidad_numeros_aleatorios = int(input('Digite la cantidad de numeros aleatorios a generar: '))\n",
        "import random\n",
        "for Llenar_lista in range (0,Cantidad_numeros_aleatorios):\n",
        "  Numeros_aleatorios = random.randint(0,10)\n",
        "  Lista_Numeros_aleatorios.append(Numeros_aleatorios)\n",
        "print(Lista_Numeros_aleatorios)\n",
        "print(f'Lista de Numeros aleatorios: {Lista_Numeros_aleatorios}')\n",
        "print(f'Lista de Numeros aleatorios invertida : {Lista_Numeros_aleatorios[::-1]}')\n"
      ],
      "metadata": {
        "colab": {
          "base_uri": "https://localhost:8080/"
        },
        "id": "yxE6KGgqOHJc",
        "outputId": "689876dd-af33-4cc7-d15a-b06a1125a849"
      },
      "execution_count": null,
      "outputs": [
        {
          "output_type": "stream",
          "name": "stdout",
          "text": [
            "Digite la cantidad de numeros aleatorios a generar: 5\n",
            "[9, 2, 6, 6, 1]\n",
            "Lista de Numeros aleatorios: [9, 2, 6, 6, 1]\n",
            "Lista de Numeros aleatorios invertida : [1, 6, 6, 2, 9]\n"
          ]
        }
      ]
    },
    {
      "cell_type": "code",
      "source": [
        "Lista_numeros_primos = []\n",
        "Numero_para_primos = int(input(f'ingrese un numero entero para genera sus numeros primos: '))\n",
        "for Numeros_primos in range(2,Numero_para_primos):\n",
        "  bandera_primo = True\n",
        "  # print(f'Numero Primo: {Numeros_primos} \\n bandera primo = {bandera_primo} \\n numero para primos = {Numero_para_primos}')\n",
        "  # print(f'Lista primer for  {Lista_numeros_primos}')\n",
        "  for Cont_primo in range(2,Numeros_primos):\n",
        "    if (Numeros_primos % Cont_primo) == 0:\n",
        "      bandera_primo = False\n",
        "      # print(f'Numero Primo: {Numeros_primos} \\n bandera primo = {bandera_primo} \\n contador primos  = {Cont_primo}')\n",
        "      # print(f'Lista segundo  for  {Lista_numeros_primos}')\n",
        "      break\n",
        "  if bandera_primo:\n",
        "     Lista_numeros_primos.append(Numeros_primos)\n",
        "print(f'Lista general {Lista_numeros_primos}')"
      ],
      "metadata": {
        "colab": {
          "base_uri": "https://localhost:8080/"
        },
        "id": "h4-9q82odnfZ",
        "outputId": "98eeae5e-5a39-45e1-b1c7-8dce171679d7"
      },
      "execution_count": null,
      "outputs": [
        {
          "output_type": "stream",
          "name": "stdout",
          "text": [
            "ingrese un numero entero para genera sus numeros primos: 22\n",
            "Lista general [2, 3, 5, 7, 11, 13, 17, 19]\n"
          ]
        }
      ]
    },
    {
      "cell_type": "code",
      "source": [
        "\"\"\"\n",
        "if (Verif_dia >= 1) and (Verif_dia <= 31):\n",
        "  if (Verif_nes >= 1) and (Verif_nes <= 12):\n",
        "    if (Verif_ano >= 1900) and (Verif_ano <= 2025):\n",
        "      if Verif_nes == 2:\n",
        "        if Verif_ano % 4 == 0:\n",
        "          if Verif_dia <= 29:\n",
        "            print(f'La fecha es valida')\n",
        "      print(f'La fecha es valida')\n",
        "\"\"\"\n",
        "\n",
        "Verif_dia = int(input(f'Digite el dia de la fecha: '))\n",
        "Verif_mes = int(input(f'Digite el mes de la mes: '))\n",
        "Verif_ano = int(input(f'Digite el año de la año: '))\n",
        "\n",
        "if Verif_mes == 2:\n",
        "  if Verif_ano % 4 == 0 and (Verif_ano % 400 == 0 or Verif_ano % 100 != 0):\n",
        "    Los_dias_febereo = 29\n",
        "  else:\n",
        "    Los_dias_febereo = 28\n",
        "  if Verif_dia >= 1 and Verif_dia <= Los_dias_febereo:\n",
        "    print('Fecha verificada válida')\n",
        "  else:\n",
        "    print('Fecha verificada inválida')\n",
        "elif Verif_mes >= 1 in  [1, 3, 5, 7, 8, 10, 12]:\n",
        "  if Verif_dia >= 1 and Verif_dia <= 31:\n",
        "    print('Fecha verificada válida')\n",
        "  else:\n",
        "    print('Fecha verificada inválida')\n",
        "elif Verif_mes >= 1 in [4, 6, 9, 11]:\n",
        "  if Verif_dia >= 1 and Verif_dia <= 30:\n",
        "    print('Fecha verificada válida')\n",
        "  else:\n",
        "    print('Fecha verificada inválida')\n",
        "else:\n",
        "  print('Fecha verificada inválida')\n",
        "print(f'\\n\\tFinaliza el programa de verificacion de fechas validas, la fecha es dia {Verif_dia} mes {Verif_mes} año {Verif_ano}')"
      ],
      "metadata": {
        "colab": {
          "base_uri": "https://localhost:8080/"
        },
        "id": "u0X54O8DdnTK",
        "outputId": "df727238-d410-4f01-bd6b-dec6df7f7447"
      },
      "execution_count": null,
      "outputs": [
        {
          "output_type": "stream",
          "name": "stdout",
          "text": [
            "Digite el dia de la fecha: 28\n",
            "Digite el mes de la mes: 2\n",
            "Digite el año de la año: 1970\n",
            "Fecha verificada válida\n",
            "\n",
            "\tFinaliza el programa de verificacion de fechas validas, la fecha es dia 28 mes 2 año 1970\n"
          ]
        }
      ]
    },
    {
      "cell_type": "markdown",
      "source": [
        "##**Momento para los proyectos**"
      ],
      "metadata": {
        "id": "bOChWxbQEp37"
      }
    },
    {
      "cell_type": "code",
      "source": [
        "Data_Bacterias_xDia = [1.2, 2.1, 3.3, 5.0, 7.8, 11.3, 16.6, 25.1, 37.8, 56.9]\n",
        "tipo_lista = type (Data_Bacterias_xDia)\n",
        "print(tipo_lista)\n",
        "tipo_elemento = type(Data_Bacterias_xDia[0])\n",
        "print(tipo_elemento)\n",
        "longitud_lista = len(Data_Bacterias_xDia)\n",
        "print(longitud_lista)\n",
        "for indice_lista in range(0,longitud_lista):\n",
        "  if indice_lista == 0:\n",
        "\n",
        "    print(f'El poercentaje de crecimineto en el dia {indice_lista+1} es de {(Data_Bacterias_xDia[indice_lista])*1}%')\n",
        "  else:\n",
        "    print(Data_Bacterias_xDia[indice_lista])\n",
        "    print(f'El poercentaje de crecimineto en el dia {indice_lista+1} es de {((Data_Bacterias_xDia[indice_lista]-Data_Bacterias_xDia[indice_lista-1])/(Data_Bacterias_xDia[indice_lista]))*100}%')\n",
        "print(f'\\n\\tFinaliza el programa de crecimiento de bacterias')"
      ],
      "metadata": {
        "id": "6Ayz__jhdmz4",
        "colab": {
          "base_uri": "https://localhost:8080/"
        },
        "outputId": "7439c3b3-926d-476e-d4c1-9e1a94463edd"
      },
      "execution_count": null,
      "outputs": [
        {
          "output_type": "stream",
          "name": "stdout",
          "text": [
            "<class 'list'>\n",
            "<class 'float'>\n",
            "10\n",
            "El poercentaje de crecimineto en el dia 1 es de 1.2%\n",
            "2.1\n",
            "El poercentaje de crecimineto en el dia 2 es de 42.85714285714286%\n",
            "3.3\n",
            "El poercentaje de crecimineto en el dia 3 es de 36.36363636363636%\n",
            "5.0\n",
            "El poercentaje de crecimineto en el dia 4 es de 34.0%\n",
            "7.8\n",
            "El poercentaje de crecimineto en el dia 5 es de 35.8974358974359%\n",
            "11.3\n",
            "El poercentaje de crecimineto en el dia 6 es de 30.973451327433633%\n",
            "16.6\n",
            "El poercentaje de crecimineto en el dia 7 es de 31.927710843373497%\n",
            "25.1\n",
            "El poercentaje de crecimineto en el dia 8 es de 33.86454183266932%\n",
            "37.8\n",
            "El poercentaje de crecimineto en el dia 9 es de 33.59788359788359%\n",
            "56.9\n",
            "El poercentaje de crecimineto en el dia 10 es de 33.567662565905096%\n",
            "\n",
            "\tFinaliza el programa de crecimiento de bacterias\n"
          ]
        }
      ]
    },
    {
      "cell_type": "markdown",
      "source": [],
      "metadata": {
        "id": "tw-RAl2WiDjw"
      }
    },
    {
      "cell_type": "code",
      "source": [
        "Lista_IDs_alimentos = []\n",
        "Alimento_Dulce = 0\n",
        "Alimento_Salado = 0\n",
        "Cantidad_IDs_alimentos = int(input('Digite la cantidad de IDs de alimentos : '))\n",
        "for LLenar_list_IDs_alimentos in range (0,Cantidad_IDs_alimentos):\n",
        "  IDs_alimentos = int(input(f'Digite el ID de alimentos numero: {LLenar_list_IDs_alimentos + 1 }  '))\n",
        "  Lista_IDs_alimentos.append(IDs_alimentos)\n",
        "for id in Lista_IDs_alimentos:\n",
        "  if id % 2 == 0:\n",
        "    Alimento_Dulce +=1\n",
        "  else:\n",
        "    Alimento_Salado +=1\n",
        "print(f'La cantidad de alimentos dulces es de {Alimento_Dulce}')\n",
        "print(f'La cantidad de alimentos salados es de {Alimento_Salado}')\n",
        "print(f'\\n\\tFinaliza el programa de ID alimentos ')"
      ],
      "metadata": {
        "colab": {
          "base_uri": "https://localhost:8080/"
        },
        "id": "sAY4TVzveX-j",
        "outputId": "b6757a83-e278-40c4-de28-bcdb57806ce9"
      },
      "execution_count": null,
      "outputs": [
        {
          "output_type": "stream",
          "name": "stdout",
          "text": [
            "Digite la cantidad de IDs de alimentos : 7\n",
            "Digite el ID de alimentos numero: 1  1\n",
            "Digite el ID de alimentos numero: 2  2\n",
            "Digite el ID de alimentos numero: 3  3\n",
            "Digite el ID de alimentos numero: 4  4\n",
            "Digite el ID de alimentos numero: 5  5\n",
            "Digite el ID de alimentos numero: 6  6\n",
            "Digite el ID de alimentos numero: 7  7\n",
            "La cantidad de alimentos dulces es de 3\n",
            "La cantidad de alimentos salados es de 4\n",
            "\n",
            "\tFinaliza el programa de ID alimentos \n"
          ]
        }
      ]
    },
    {
      "cell_type": "code",
      "source": [
        "Hoja_respuetas = []\n",
        "Respuestas_Gabarito = ['D', 'A', 'C', 'B', 'A', 'D', 'C', 'C', 'A', 'B']\n",
        "Resumen_nota = 0\n",
        "Cantidad_notas_examen = len(Respuestas_Gabarito)\n",
        "Cantidad_respuestas_examen = 0\n",
        "for CAnt_not_exam in range(0,Cantidad_notas_examen):\n",
        "  Hoja_respuetas.append(input(f'Digite la respuesta numero {CAnt_not_exam + 1} : ').upper())\n",
        "  Cantidad_respuestas_examen = len(Hoja_respuetas)\n",
        "if Cantidad_notas_examen == Cantidad_respuestas_examen:\n",
        "  for Nota_examen in range(0,Cantidad_notas_examen):\n",
        "    if Hoja_respuetas[Nota_examen] == Respuestas_Gabarito[Nota_examen]:\n",
        "      Resumen_nota += 1\n",
        "for id in Hoja_respuetas:\n",
        "  print(f'la respuesta ingresada es:{id} ')\n",
        "for id in Respuestas_Gabarito:\n",
        "  print(f'\\tla respuesta correcta es:{id}')\n",
        "print(f'La nota del examen es de {Resumen_nota}')\n",
        "print(f'LAs repuestas correctas son   : {Respuestas_Gabarito}')\n",
        "print(f'LAs repuestas del alumnos son : {Hoja_respuetas}')\n",
        "print(f'\\n\\tFinaliza el programa de examen')"
      ],
      "metadata": {
        "colab": {
          "base_uri": "https://localhost:8080/"
        },
        "id": "gd43yBk91hTH",
        "outputId": "ac3a578a-09fe-48a2-b238-079fde9d9c2b"
      },
      "execution_count": null,
      "outputs": [
        {
          "output_type": "stream",
          "name": "stdout",
          "text": [
            "Digite la respuesta numero 1 : b\n",
            "Digite la respuesta numero 2 : b\n",
            "Digite la respuesta numero 3 : b\n",
            "Digite la respuesta numero 4 : b\n",
            "Digite la respuesta numero 5 : b\n",
            "Digite la respuesta numero 6 : b\n",
            "Digite la respuesta numero 7 : b\n",
            "Digite la respuesta numero 8 : b\n",
            "Digite la respuesta numero 9 : b\n",
            "Digite la respuesta numero 10 : b\n",
            "la respuesta ingresada es:B \n",
            "la respuesta ingresada es:B \n",
            "la respuesta ingresada es:B \n",
            "la respuesta ingresada es:B \n",
            "la respuesta ingresada es:B \n",
            "la respuesta ingresada es:B \n",
            "la respuesta ingresada es:B \n",
            "la respuesta ingresada es:B \n",
            "la respuesta ingresada es:B \n",
            "la respuesta ingresada es:B \n",
            "\tla respuesta correcta es:D\n",
            "\tla respuesta correcta es:A\n",
            "\tla respuesta correcta es:C\n",
            "\tla respuesta correcta es:B\n",
            "\tla respuesta correcta es:A\n",
            "\tla respuesta correcta es:D\n",
            "\tla respuesta correcta es:C\n",
            "\tla respuesta correcta es:C\n",
            "\tla respuesta correcta es:A\n",
            "\tla respuesta correcta es:B\n",
            "La nota del examen es de 2\n",
            "LAs repuestas correctas son   : ['D', 'A', 'C', 'B', 'A', 'D', 'C', 'C', 'A', 'B']\n",
            "LAs repuestas del alumnos son : ['B', 'B', 'B', 'B', 'B', 'B', 'B', 'B', 'B', 'B']\n",
            "\n",
            "\tFinaliza el programa de examen\n"
          ]
        }
      ]
    },
    {
      "cell_type": "code",
      "source": [
        "lista_temperaturas_medias = []\n",
        "Meses_del_año = ['Enero', 'Febrero', 'Marzo', 'Abril', 'Mayo', 'Junio', 'Julio', 'Agosto', 'Septiembre', 'Octubre', 'Noviembre', 'Diciembre']\n",
        "for Index_temperatura_media in range (0,12):\n",
        "\n",
        "  lista_temperaturas_medias.append(float(input(f'Digite temperatura media el mes {Index_temperatura_media + 1} del año es :' )))\n",
        "\n",
        "for Index_tem_mayor_prom in range (0,12):\n",
        "\n",
        "\n",
        "  if lista_temperaturas_medias[Index_tem_mayor_prom]>Temperatura_promedio_anual:\n",
        "      ## print (f'{lista_temperaturas_medias[Index_temperatura_media]} y {Index_tem_mayor_prom}')\n",
        "   print(f'EL mes {Meses_del_año[Index_tem_mayor_prom]} con una temperatura de {lista_temperaturas_medias[Index_tem_mayor_prom]} mayor al promedio {Temperatura_promedio_anual}')\n",
        "    ## print(f'EL mes {Meses_del_año[Index_tem_mayor_prom]} con una temperatura de {lista_temperaturas_medias[Index_tem_mayor_prom ]} mayor al promedio {Temperatura_promedio_anual}')\n",
        "\n",
        "print(f'\\n\\tFinaliza el programa de temperatura')\n",
        "\n",
        "\"\"\"\n",
        "      temperaturas_medias = float(input(f'Digite temperatura media el mes {Index_temperatura_media + 1} del año es :' ))\n",
        "      lista_temperaturas_medias.append(temperaturas_medias)\n",
        "\n",
        "\"\"\"\n",
        "\"\"\"\n",
        "print(lista_temperaturas_medias)\n",
        "Temperatura_promedio_anual = sum(lista_temperaturas_medias)/len(lista_temperaturas_medias)\n",
        "print(f'La temperatura promedio anual es de {Temperatura_promedio_anual}')\n",
        "print(f'Los meses con temperatura por encima del promedio anual son:')\n",
        "print(lista_temperaturas_medias)\n",
        "print(Meses_del_año)\n",
        "print(type(lista_temperaturas_medias[10]))\n",
        "print(type(Meses_del_año[10]))\n",
        "\"\"\"\n",
        "\"\"\"\n",
        "  print (\"  elemento  \" + str(lista_temperaturas_medias[Index_tem_mayor_prom]) + \"  posicion  \" + str(Index_tem_mayor_prom))\n",
        "  print(type(lista_temperaturas_medias[Index_tem_mayor_prom]))\n",
        "  print(type(Meses_del_año[Index_tem_mayor_prom]))\n",
        "  print (Index_tem_mayor_prom)\n",
        "  elemnto_lista = lista_temperaturas_medias[Index_tem_mayor_prom]\n",
        "  print(elemnto_lista)\n",
        "  print(type(elemnto_lista))\n",
        "\"\"\"\n"
      ],
      "metadata": {
        "colab": {
          "base_uri": "https://localhost:8080/",
          "height": 452
        },
        "id": "xbDGeJSwADv0",
        "outputId": "9c43e6a9-02b9-4283-bb64-a7b231633e01"
      },
      "execution_count": null,
      "outputs": [
        {
          "output_type": "stream",
          "name": "stdout",
          "text": [
            "Digite temperatura media el mes 1 del año es :25.10\n",
            "Digite temperatura media el mes 2 del año es :25.10\n",
            "Digite temperatura media el mes 3 del año es :25\n",
            "Digite temperatura media el mes 4 del año es :10\n",
            "Digite temperatura media el mes 5 del año es :2587.21\n",
            "Digite temperatura media el mes 6 del año es :454.455\n",
            "Digite temperatura media el mes 7 del año es :45412.14\n",
            "Digite temperatura media el mes 8 del año es :41452.44\n",
            "Digite temperatura media el mes 9 del año es :44545.121\n",
            "Digite temperatura media el mes 10 del año es :1424.454\n",
            "Digite temperatura media el mes 11 del año es :128532.44\n",
            "Digite temperatura media el mes 12 del año es :121.454\n",
            "EL mes Mayo con una temperatura de 2587.21 mayor al promedio 65.0\n",
            "EL mes Junio con una temperatura de 454.455 mayor al promedio 65.0\n",
            "EL mes Julio con una temperatura de 45412.14 mayor al promedio 65.0\n",
            "EL mes Agosto con una temperatura de 41452.44 mayor al promedio 65.0\n",
            "EL mes Septiembre con una temperatura de 44545.121 mayor al promedio 65.0\n",
            "EL mes Octubre con una temperatura de 1424.454 mayor al promedio 65.0\n",
            "EL mes Noviembre con una temperatura de 128532.44 mayor al promedio 65.0\n",
            "EL mes Diciembre con una temperatura de 121.454 mayor al promedio 65.0\n",
            "\n",
            "\tFinaliza el programa de temperatura\n"
          ]
        },
        {
          "output_type": "execute_result",
          "data": {
            "text/plain": [
              "'\\n  print (\"  elemento  \" + str(lista_temperaturas_medias[Index_tem_mayor_prom]) + \"  posicion  \" + str(Index_tem_mayor_prom))\\n  print(type(lista_temperaturas_medias[Index_tem_mayor_prom]))\\n  print(type(Meses_del_año[Index_tem_mayor_prom]))\\n  print (Index_tem_mayor_prom)\\n  elemnto_lista = lista_temperaturas_medias[Index_tem_mayor_prom]\\n  print(elemnto_lista)\\n  print(type(elemnto_lista))\\n'"
            ],
            "application/vnd.google.colaboratory.intrinsic+json": {
              "type": "string"
            }
          },
          "metadata": {},
          "execution_count": 50
        }
      ]
    },
    {
      "cell_type": "code",
      "source": [
        "my_list = ['Pedro', 'Chris', 'Mario', 'Bob']\n",
        "\n",
        "for i in range(0, len(my_list)):\n",
        "    print(\"La posición es \" + str(i) + \" para el elemento \" + my_list[i])"
      ],
      "metadata": {
        "colab": {
          "base_uri": "https://localhost:8080/"
        },
        "id": "T7lBvCBMxFEi",
        "outputId": "022a7433-d8bd-46d3-a2bb-92ac849fc452"
      },
      "execution_count": null,
      "outputs": [
        {
          "output_type": "stream",
          "name": "stdout",
          "text": [
            "La posición es 0 para el elemento Pedro\n",
            "La posición es 1 para el elemento Chris\n",
            "La posición es 2 para el elemento Mario\n",
            "La posición es 3 para el elemento Bob\n"
          ]
        }
      ]
    },
    {
      "cell_type": "code",
      "source": [
        "suma_tot_ventas = 0.0\n",
        "Unidades_Product_mas_vendido = 0.0\n",
        "Producto_mas_vendido = ''\n",
        "Comer_electro_ventas = {'Producto A': 300, 'Producto B': 80, 'Producto C': 60, 'Producto D': 200, 'Producto E': 250, 'Producto F': 30}\n",
        "print('\\n\\t PRODUCTO \\tCANTIDAD VENTAS')\n",
        "for Cont_producto in Comer_electro_ventas.keys():\n",
        "  ##print(f'\\n\\tDiccionario {Comer_electro_ventas.items()}')\n",
        "  print(f'\\t {Cont_producto}\\t  {Comer_electro_ventas[Cont_producto]}')\n",
        "  ##print(f'\\n\\tDiccionario {Comer_electro_ventas[Cont_producto]}')\n",
        "  suma_tot_ventas += Comer_electro_ventas[Cont_producto]\n",
        "  if Comer_electro_ventas[Cont_producto] > Unidades_Product_mas_vendido:\n",
        "    Unidades_Product_mas_vendido = Comer_electro_ventas[Cont_producto]\n",
        "    Producto_mas_vendido = Cont_producto\n",
        "\n",
        "print(f'\\n\\tLa suma total de ventas es de {suma_tot_ventas}')\n",
        "print(f'\\n\\tEl producto mas vendido es {Producto_mas_vendido} con {Unidades_Product_mas_vendido} Unidades')\n",
        "print(f'\\n\\tFinaliza el programa de ventas')"
      ],
      "metadata": {
        "colab": {
          "base_uri": "https://localhost:8080/"
        },
        "id": "KAMjWZa3BAhC",
        "outputId": "888f6eb1-f58a-40b3-a296-6e89cb2ed1d4"
      },
      "execution_count": null,
      "outputs": [
        {
          "output_type": "stream",
          "name": "stdout",
          "text": [
            "\n",
            "\t PRODUCTO \tCANTIDAD VENTAS\n",
            "\t Producto A\t  300\n",
            "\t Producto B\t  80\n",
            "\t Producto C\t  60\n",
            "\t Producto D\t  200\n",
            "\t Producto E\t  250\n",
            "\t Producto F\t  30\n",
            "\n",
            "\tLa suma total de ventas es de 920.0\n",
            "\n",
            "\tEl producto mas vendido es Producto A con 300 Unidades\n",
            "\n",
            "\tFinaliza el programa de ventas\n"
          ]
        }
      ]
    },
    {
      "cell_type": "code",
      "source": [
        "Car_Brasnds = {\n",
        "  \"brand\": \"Ford\",\n",
        "  \"model\": \"Mustang\",\n",
        "  \"year\": 1964\n",
        "}\n",
        "\n",
        "CArs_marca = Car_Brasnds.keys()\n",
        "\n",
        "print(CArs_marca)"
      ],
      "metadata": {
        "colab": {
          "base_uri": "https://localhost:8080/"
        },
        "id": "qWK19LSUD0yf",
        "outputId": "3f2854af-e020-40ec-f488-7fc515a2b301"
      },
      "execution_count": null,
      "outputs": [
        {
          "output_type": "stream",
          "name": "stdout",
          "text": [
            "dict_keys(['brand', 'model', 'year'])\n"
          ]
        }
      ]
    },
    {
      "cell_type": "code",
      "source": [
        "suma_tot_votos = 0.0\n",
        "Tienda_mayor_votos =''\n",
        "Votos_tienda_mayor_votos = 0.0\n",
        "Tienda_infantil_Votos = {'Diseño 1': 1334.0, 'Diseño 2': 982.0, 'Diseño 3': 1751.0, 'Diseño 4': 210.0, 'Diseño 5': 1811.0}\n",
        "print('Tabla de votos tienda infantil por diseño \\n\\tDISEÑO \\t       CANT VOTOS')\n",
        "for Cont_votos in Tienda_infantil_Votos.keys():\n",
        "  suma_tot_votos += Tienda_infantil_Votos[Cont_votos]\n",
        "  if Tienda_infantil_Votos[Cont_votos] == max(Tienda_infantil_Votos.values()):\n",
        "    Tienda_mayor_votos = Cont_votos\n",
        "    Votos_tienda_mayor_votos = Tienda_infantil_Votos[Cont_votos]\n",
        "\n",
        "  print(f'\\t{Cont_votos}\\t {Tienda_infantil_Votos[Cont_votos]}')\n",
        "print(f'\\n\\tLa suma total de votos es de {suma_tot_votos}')\n",
        "## print(f'\\n\\tEl diseño ganador es {Cont_votos} con {Tienda_infantil_Votos[Cont_votos]} votos')\n",
        "print(f'\\n\\tEl diseño ganador es {Tienda_mayor_votos} con {Votos_tienda_mayor_votos} votos')\n",
        "porcentaje_Tmayor_votos = (Votos_tienda_mayor_votos/suma_tot_votos)*100\n",
        "print(f'\\n\\tEl porcentaje de votos del diseño ganador es de {porcentaje_Tmayor_votos}%')\n",
        "\n",
        "print(f'\\n\\tFinaliza el programa de votos')\n"
      ],
      "metadata": {
        "colab": {
          "base_uri": "https://localhost:8080/"
        },
        "id": "aYe2-odKKU55",
        "outputId": "d948eeab-8bef-45fd-fa21-8b1cc706f13f"
      },
      "execution_count": null,
      "outputs": [
        {
          "output_type": "stream",
          "name": "stdout",
          "text": [
            "Tabla de votos tienda infantil por diseño \n",
            "\tDISEÑO \t       CANT VOTOS\n",
            "\tDiseño 1\t 1334.0\n",
            "\tDiseño 2\t 982.0\n",
            "\tDiseño 3\t 1751.0\n",
            "\tDiseño 4\t 210.0\n",
            "\tDiseño 5\t 1811.0\n",
            "\n",
            "\tLa suma total de votos es de 6088.0\n",
            "\n",
            "\tEl diseño ganador es Diseño 5 con 1811.0 votos\n",
            "\n",
            "\tEl porcentaje de votos del diseño ganador es de 29.747043363994745%\n",
            "\n",
            "\tFinaliza el programa de votos\n"
          ]
        }
      ]
    },
    {
      "cell_type": "code",
      "source": [
        "suma_tot_votos = 0.0\n",
        "Tienda_mayor_votos =''\n",
        "Votos_tienda_mayor_votos = 0.0\n",
        "Tienda_infantil_Votos = {'Diseño 1': 1334.0, 'Diseño 2': 982.0, 'Diseño 3': 1751.0, 'Diseño 4': 210.0, 'Diseño 5': 1811.0}\n",
        "print('Tabla de votos tienda infantil por diseño \\n\\tDISEÑO \\t       CANT VOTOS')\n",
        "for Cont_votos, diseño_votos in Tienda_infantil_Votos.items():\n",
        "  suma_tot_votos += diseño_votos\n",
        "  if diseño_votos > Votos_tienda_mayor_votos:\n",
        "    Tienda_mayor_votos = Cont_votos\n",
        "    Votos_tienda_mayor_votos = diseño_votos\n",
        "\n",
        "  print(f'\\t{Cont_votos}\\t {diseño_votos}')\n",
        "  # print(f'\\t{Cont_votos}\\t {Tienda_infantil_Votos[Cont_votos]}')\n",
        "print(f'\\n\\tLa suma total de votos es de {suma_tot_votos}')\n",
        "## print(f'\\n\\tEl diseño ganador es {Cont_votos} con {Tienda_infantil_Votos[Cont_votos]} votos')\n",
        "print(f'\\n\\tEl diseño ganador es {Tienda_mayor_votos} con {Votos_tienda_mayor_votos} votos')\n",
        "porcentaje_Tmayor_votos = (Votos_tienda_mayor_votos/suma_tot_votos)*100\n",
        "print(f'\\n\\tEl porcentaje de votos del diseño ganador es de {porcentaje_Tmayor_votos}%')\n",
        "\n",
        "\n",
        "print(f'\\n\\tFinaliza el programa de votos')\n",
        "\n",
        "\n"
      ],
      "metadata": {
        "colab": {
          "base_uri": "https://localhost:8080/"
        },
        "id": "a9bNbMnbXa1j",
        "outputId": "a816a48f-6153-4114-862c-acfa84103907"
      },
      "execution_count": null,
      "outputs": [
        {
          "output_type": "stream",
          "name": "stdout",
          "text": [
            "Tabla de votos tienda infantil por diseño \n",
            "\tDISEÑO \t       CANT VOTOS\n",
            "\tDiseño 1\t 1334.0\n",
            "\tDiseño 2\t 982.0\n",
            "\tDiseño 3\t 1751.0\n",
            "\tDiseño 4\t 210.0\n",
            "\tDiseño 5\t 1811.0\n",
            "\n",
            "\tLa suma total de votos es de 6088.0\n",
            "\n",
            "\tEl diseño ganador es Diseño 5 con 1811.0 votos\n",
            "\n",
            "\tEl porcentaje de votos del diseño ganador es de 29.747043363994745%\n",
            "\n",
            "\tFinaliza el programa de votos\n"
          ]
        }
      ]
    },
    {
      "cell_type": "code",
      "source": [],
      "metadata": {
        "id": "V9xpSOaPWfna"
      },
      "execution_count": null,
      "outputs": []
    },
    {
      "cell_type": "code",
      "source": [
        "Bono_Comision_salario = 0.00\n",
        "Minimo_Abono = 0.0\n",
        "MAyor_Abono = 0.0\n",
        "Total_Abono = 0.0\n",
        "\n",
        "Salario_Bono_lista = [1172.0, 1644.0, 2617.0, 5130.0, 5532.0, 6341.0, 6650.0, 7238.0, 7685.0, 7782.0, 7903.0]\n",
        "## Salarios_Bono_lista.sort()\n",
        "## Salarios_Bono_lista\n",
        "Salario_Bono_L_diccionario = {}\n",
        "for Cont_bono_lista in Salario_Bono_lista:\n",
        "  Bono_Comision_salario = (Cont_bono_lista * 0.10)\n",
        "  ## Salario_Bono_L_diccionario[Cont_bono_lista] = Bono_Comision_salario\n",
        "  if  Bono_Comision_salario < 200.0:\n",
        "     Bono_Comision_salario = 200.0\n",
        "  Salario_Bono_L_diccionario[Cont_bono_lista] = Salario_Bono_L_diccionario.get(Cont_bono_lista, 0)  + Bono_Comision_salario\n",
        "print('Tabla de salarios y bonos \\n\\t SALARIO  \\t       BONIFICACION\\n')\n",
        "for Cont_bono_lista, bono_10X100 in Salario_Bono_L_diccionario.items():\n",
        "    print(f'\\t$ {Cont_bono_lista}  COP\\t ${bono_10X100}  COP')\n",
        "for Cont_abono_lista in Salario_Bono_L_diccionario.values():\n",
        "  if Cont_abono_lista == 200.0:\n",
        "    Minimo_Abono +=1\n",
        "  if Cont_abono_lista > MAyor_Abono:\n",
        "    MAyor_Abono = Cont_abono_lista\n",
        "  Total_Abono += Cont_abono_lista\n",
        "\n",
        "print(f'\\n\\nDccionario de bonos: {Salario_Bono_L_diccionario}')\n",
        "print(f'\\nTotal de gastos en bonos: {Total_Abono}')\n",
        "print(f'\\nNúmero empleados que recibieron el bono mínimo: {Minimo_Abono}')\n",
        "print(f'\\nValor del Mayor_bono: {MAyor_Abono}')\n",
        "\n",
        "print(f'\\n\\tFinaliza el programa de bpmnpd de 10% en salarios')\n",
        "\n",
        "\n",
        "\n",
        "##Salario_Bono_L_diccionario[Cont_bono_lista] = Salario_Bono_L_diccionario.get(Cont_bono_lista, 0) + 1\n",
        "#print(Salario_Bono_L_diccionario)"
      ],
      "metadata": {
        "colab": {
          "base_uri": "https://localhost:8080/"
        },
        "id": "Wf3VWHTpWhZ0",
        "outputId": "54bfcf64-62c4-4e12-bd65-8625122c6ead"
      },
      "execution_count": null,
      "outputs": [
        {
          "output_type": "stream",
          "name": "stdout",
          "text": [
            "Tabla de salarios y bonos \n",
            "\t SALARIO  \t       BONIFICACION\n",
            "\n",
            "\t$ 1172.0  COP\t $200.0  COP\n",
            "\t$ 1644.0  COP\t $200.0  COP\n",
            "\t$ 2617.0  COP\t $261.7  COP\n",
            "\t$ 5130.0  COP\t $513.0  COP\n",
            "\t$ 5532.0  COP\t $553.2  COP\n",
            "\t$ 6341.0  COP\t $634.1  COP\n",
            "\t$ 6650.0  COP\t $665.0  COP\n",
            "\t$ 7238.0  COP\t $723.8000000000001  COP\n",
            "\t$ 7685.0  COP\t $768.5  COP\n",
            "\t$ 7782.0  COP\t $778.2  COP\n",
            "\t$ 7903.0  COP\t $790.3000000000001  COP\n",
            "\n",
            "\n",
            "Dccionario de bonos: {1172.0: 200.0, 1644.0: 200.0, 2617.0: 261.7, 5130.0: 513.0, 5532.0: 553.2, 6341.0: 634.1, 6650.0: 665.0, 7238.0: 723.8000000000001, 7685.0: 768.5, 7782.0: 778.2, 7903.0: 790.3000000000001}\n",
            "\n",
            "Total de gastos en bonos: 6087.8\n",
            "\n",
            "Número empleados que recibieron el bono mínimo: 2.0\n",
            "\n",
            "Valor del Mayor_bono: 790.3000000000001\n",
            "\n",
            "\tFinaliza el programa de bpmnpd de 10% en salarios\n"
          ]
        }
      ]
    },
    {
      "cell_type": "code",
      "source": [
        "Dicc_Div_biologicaxArea = {'Área Norte': [2819.0, 7236.0], 'Área Leste': [1440.0, 9492.0], 'Área Sul': [5969.0, 7496.0], 'Área Oeste': [14446.0, 49688.0], 'Área Centro': [22558.0, 45148.0]}\n",
        "## print(Dicc_Div_biologicaxArea)\n",
        "Suma_promedios_especies = 0.0\n",
        "Diversidad_Mayor = ''\n",
        "Suma_mayor = 0\n",
        "for Area_biologica, Diversidad_biologica in Dicc_Div_biologicaxArea.items():\n",
        "  Suma_diversidad_biologica = sum(Diversidad_biologica)\n",
        "  Media_especies_biologicas = Suma_diversidad_biologica/len(Diversidad_biologica)\n",
        "  print(f'\\n\\tEl {Area_biologica}\\ten plantas y animales {Diversidad_biologica}\\ttiene una suma de {Suma_diversidad_biologica}\\t y una media de {Media_especies_biologicas}')\n",
        "\n",
        "  if Suma_diversidad_biologica  > Suma_mayor:\n",
        "        Suma_mayor = Suma_diversidad_biologica\n",
        "        Diversidad_Mayor = Area_biologica\n",
        "    # Sumamos los promedios\n",
        "  Suma_promedios_especies += Media_especies_biologicas\n",
        "Media_Total = Suma_promedios_especies / len(Dicc_Div_biologicaxArea)\n",
        "print(f'\\n\\t Media general de especies: {Media_Total}')\n",
        "print(f'\\n\\tEl \"{Diversidad_Mayor}\" con la mayor diversidad biológica de  {Suma_mayor}')\n",
        "\n",
        "print(f'\\n\\tFinaliza el programa de diversidades de especies por Area')\n",
        "\n"
      ],
      "metadata": {
        "colab": {
          "base_uri": "https://localhost:8080/"
        },
        "id": "PZU5wVIWnFHu",
        "outputId": "8daf6adc-c335-48bd-c67f-b3a442926554"
      },
      "execution_count": null,
      "outputs": [
        {
          "output_type": "stream",
          "name": "stdout",
          "text": [
            "\n",
            "\tEl Área Norte\ten plantas y animales [2819.0, 7236.0]\ttiene una suma de 10055.0\t y una media de 5027.5\n",
            "\n",
            "\tEl Área Leste\ten plantas y animales [1440.0, 9492.0]\ttiene una suma de 10932.0\t y una media de 5466.0\n",
            "\n",
            "\tEl Área Sul\ten plantas y animales [5969.0, 7496.0]\ttiene una suma de 13465.0\t y una media de 6732.5\n",
            "\n",
            "\tEl Área Oeste\ten plantas y animales [14446.0, 49688.0]\ttiene una suma de 64134.0\t y una media de 32067.0\n",
            "\n",
            "\tEl Área Centro\ten plantas y animales [22558.0, 45148.0]\ttiene una suma de 67706.0\t y una media de 33853.0\n",
            "\n",
            "\t Media general de especies: 16629.2\n",
            "\n",
            "\tEl \"Área Centro\" con la mayor diversidad biológica de  67706.0\n",
            "\n",
            "\tFinaliza el programa de diversidades de especies por Area\n"
          ]
        }
      ]
    },
    {
      "cell_type": "code",
      "source": [
        "Dicc_RH_EdadSector = {'Setor A': [22, 26, 30, 30, 35, 38, 40, 56, 57, 65],\n",
        " 'Setor B': [22, 24, 26, 33, 41, 49, 50, 54, 60, 64],\n",
        " 'Setor C': [23, 26, 26, 29, 34, 35, 36, 41, 52, 56],\n",
        " 'Setor D': [19, 20, 25, 27, 34, 39, 42, 44, 50, 65]}\n",
        "Meddia_EdadXsector = 0\n",
        "Media_edad_general_suma = 0\n",
        "Suma_total_edades = 0\n",
        "for Sector_RH, Edad_RH in Dicc_RH_EdadSector.items():\n",
        "  Media_edad_sector = sum(Edad_RH)/len(Edad_RH)\n",
        "  print(f'\\n\\tEl sector {Sector_RH} tiene una media de {Media_edad_sector}')\n",
        "  Media_edad_general_suma += Media_edad_sector\n",
        "  Suma_total_edades += sum(Edad_RH)\n",
        "Media_edad_general = Suma_total_edades/(len(Dicc_RH_EdadSector)*len(Edad_RH))\n",
        "print(f'\\n\\tLa suma total de edades es  de {Suma_total_edades}')\n",
        "print(f'\\n\\tLa media de edad general es de {Media_edad_general}')\n",
        "print(f'\\n\\tFinaliza el programa de edades por sector')\n"
      ],
      "metadata": {
        "colab": {
          "base_uri": "https://localhost:8080/"
        },
        "id": "F5qn1R63nFxj",
        "outputId": "f2101cb6-9af8-4f5a-b61c-055d8b27ad94"
      },
      "execution_count": null,
      "outputs": [
        {
          "output_type": "stream",
          "name": "stdout",
          "text": [
            "\n",
            "\tEl sector Setor A tiene una media de 39.9\n",
            "\n",
            "\tEl sector Setor B tiene una media de 42.3\n",
            "\n",
            "\tEl sector Setor C tiene una media de 35.8\n",
            "\n",
            "\tEl sector Setor D tiene una media de 36.5\n",
            "\n",
            "\tLa suma total de edades es  de 1545\n",
            "\n",
            "\tLa media de edad general es de 38.625\n",
            "\n",
            "\tFinaliza el programa de edades por sector\n"
          ]
        }
      ]
    },
    {
      "cell_type": "code",
      "source": [],
      "metadata": {
        "id": "JsR47eFwwW_G"
      },
      "execution_count": null,
      "outputs": []
    }
  ]
}